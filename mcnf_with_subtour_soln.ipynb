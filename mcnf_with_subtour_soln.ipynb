{
 "cells": [
  {
   "cell_type": "code",
   "execution_count": 1,
   "metadata": {},
   "outputs": [],
   "source": [
    "using Clp, Gurobi, JuMP, NamedArrays, CSV, DataFrames"
   ]
  },
  {
   "cell_type": "markdown",
   "metadata": {},
   "source": [
    "__Note:__ this model doesn't fully include the gas costs, etc. it can be modified to include that. Just pushed the code to show a working version"
   ]
  },
  {
   "cell_type": "markdown",
   "metadata": {},
   "source": [
    "## Problem Definition"
   ]
  },
  {
   "cell_type": "code",
   "execution_count": 2,
   "metadata": {},
   "outputs": [],
   "source": [
    "# Has Acadia to Zion w/ entrance fee, lodging, est length of stay, gas price\n",
    "dat = DataFrame(CSV.File(\"./park_data.csv\")) # park data\n",
    ";"
   ]
  },
  {
   "cell_type": "code",
   "execution_count": 3,
   "metadata": {},
   "outputs": [
    {
     "data": {
      "text/plain": [
       "49-element Vector{Float64}:\n",
       "    3.5\n",
       " 1030.0\n",
       "  148.0\n",
       "  200.0\n",
       "  610.0\n",
       "  132.0\n",
       "  110.0\n",
       "  215.0\n",
       "  152.0\n",
       "  238.0\n",
       "    ⋮\n",
       "  229.0\n",
       "  160.0\n",
       "  300.0\n",
       "  158.0\n",
       "   97.0\n",
       "  130.0\n",
       "  825.0\n",
       " 2495.0\n",
       "  227.0"
      ]
     },
     "metadata": {},
     "output_type": "display_data"
    }
   ],
   "source": [
    "days = [0] # for madison\n",
    "append!(days, dat[!, \"est. length of stay\"])\n",
    "\n",
    "park_costs = [3.5] # for madison (only fuel)\n",
    "append!(park_costs, dat[!, \"lodging\"] .* dat[!, \"est. length of stay\"] .+ dat[!, \"entrance fee\"])"
   ]
  },
  {
   "cell_type": "code",
   "execution_count": 4,
   "metadata": {},
   "outputs": [
    {
     "data": {
      "text/plain": [
       "49×49 Matrix{Int64}:\n",
       "      0   77996   69258   36345   76598  …   42740   65128  102214   84374\n",
       "  77996       0  138027  113521  139198     119913  142298  171030  153161\n",
       "  69258  137296       0   39821   51232      37477   29739   39038   18374\n",
       "  36345  113316   40178       0   62808       4345   28589   67436   52567\n",
       "  76598  138936   51233   62612       0      61963   74680   74341   58639\n",
       "  81427   99414  128487  111282   94702  …  117167  136424  155547  135938\n",
       "  67103  135188   10609   37714   50300      35370   35679   46408   25743\n",
       "  80968  148979   14893   50297   60157      46589   31086   30273    6430\n",
       "  70097  138138    1777   40663   50488      38319   30580   39880   19216\n",
       "  73523  141508    7422   44034   56805      41689   28951   34377   12675\n",
       "      ⋮                                  ⋱       ⋮                  \n",
       " 111043  179200   45114   78918   70541  …   75210   59509    9324   31016\n",
       "  45960   45944  102709   81158   91470      87550  109935  138508  117843\n",
       "  43222  117350   49952   16551   78367      16812   23618   72144   60309\n",
       "  26917   94540   80383   40209   88345      45241   55617  104143   90901\n",
       "  75042  139386   34026   50032   21052      48947   59800   59297   41432\n",
       "  42740  119649   37525    4345   62653  …       0   26005   63686   48816\n",
       "  65128  141843   29642   28273   74677      25715       0   44693   32858\n",
       " 102214  169909   38783   66920   73923      63212   44078       0   27944\n",
       "  84374  152409   18323   52126   58814      48418   32915   28284       0"
      ]
     },
     "metadata": {},
     "output_type": "display_data"
    }
   ],
   "source": [
    "# Has park data with UW-Madison as the first row and column (data to the top left instead of bottom)\n",
    "cost = CSV.File(\"./data.csv\", header=0) |> Tables.matrix"
   ]
  },
  {
   "cell_type": "markdown",
   "metadata": {},
   "source": [
    "## Use the Adapative Subtour Elimination Method\n",
    "This helps eliminate subtours by sort of formulating this similar to the TSP version but with only the set of nodes selected by the first optimal solution (that may include subtours). This limits subtour constraints by not forcing the model to visit all points"
   ]
  },
  {
   "cell_type": "code",
   "execution_count": 5,
   "metadata": {},
   "outputs": [],
   "source": [
    "# Code from https://nbviewer.org/github/asmith28/cs524-su22/blob/main/TravelingSalesmanProblem.ipynb\n",
    "# modified to suit our needs\n",
    "\n",
    "# HELPER FUNCTION: returns the cycle containing the park START.\n",
    "function getSubtour(x,start)\n",
    "    subtour = [start]\n",
    "    while true\n",
    "        j = subtour[end]\n",
    "        for k in parks\n",
    "            if x[k,j] == 1\n",
    "                push!(subtour,k)\n",
    "                break\n",
    "            end\n",
    "        end\n",
    "        if subtour[end] == start\n",
    "            break\n",
    "        end\n",
    "    end\n",
    "    return subtour\n",
    "end\n",
    "\n",
    "# HELPER FUNCTION: returns a list of all cycles\n",
    "function getAllSubtours(x, specific_parks)\n",
    "    nodesRemaining = specific_parks\n",
    "    subtours = []\n",
    "    while length(nodesRemaining) > 0\n",
    "        subtour = getSubtour(x, nodesRemaining[1])\n",
    "        push!(subtours, subtour)\n",
    "        nodesRemaining = setdiff(nodesRemaining, subtour)\n",
    "    end\n",
    "    return subtours\n",
    "end\n",
    ";\n",
    "\n"
   ]
  },
  {
   "cell_type": "code",
   "execution_count": 6,
   "metadata": {},
   "outputs": [
    {
     "name": "stdout",
     "output_type": "stream",
     "text": [
      "Set parameter Username\n",
      "Academic license - for non-commercial use only - expires 2023-07-13\n"
     ]
    }
   ],
   "source": [
    "parks = [1 2 3 4 5 6 7 8 9 10 11 12 13 14 15 16 17 18 19 20 21 22 23 24 25 26 27 28 29 30 31 32 33 34 35 36 37 38 39 40 41 42 43 44 45 46 47 48 49]\n",
    "\n",
    "m = Model(Gurobi.Optimizer)\n",
    "set_optimizer_attribute(m, \"OutputFlag\", 0)\n",
    "\n",
    "@variable(m, x[parks, parks], Bin) # flow from one park to another\n",
    "\n",
    "@constraint(m, c1[i in parks], sum(x[i,:]) - sum(x[:,i]) == 0)\n",
    "\n",
    "# enforce starting points\n",
    "@constraint(m, sum(x[1, :]) == 1)\n",
    "@constraint(m, sum(x[:, 1]) == 1)\n",
    "\n",
    "@constraint(m, self_loop[i in parks], x[i, i] == 0) # no self-loops\n",
    "@constraint(m, sum(days[i]*sum(x[i,:]) for i in parks) >= 7) # Min days spent\n",
    "@constraint(m, sum(days[i]*sum(x[i,:]) for i in parks) <= 7) # Max days spent\n",
    "\n",
    "@objective(m, Min, sum(cost[i, j] * x[i, j] for i in parks, j in parks))\n",
    ";"
   ]
  },
  {
   "cell_type": "markdown",
   "metadata": {},
   "source": [
    "The code below uses adaptive subtour elimination to add constraints that prevent subtours from forming. I've also modified the `getAllSubtours` helper function to only filter through the unique nodes provided by the first-run solution that may contain subtours. As Julia thinks this is optimal, we will add constraints to not have subtours for those. After this, Julia will iteratively run this code to determine the optimal solution with the no-subtour constraints applied"
   ]
  },
  {
   "cell_type": "code",
   "execution_count": 7,
   "metadata": {},
   "outputs": [
    {
     "data": {
      "text/plain": [
       "2-element Vector{Any}:\n",
       " [1, 26, 1]\n",
       " [8, 49, 8]"
      ]
     },
     "metadata": {},
     "output_type": "display_data"
    },
    {
     "name": "stdout",
     "output_type": "stream",
     "text": [
      "Tour length: 33865.0\n"
     ]
    },
    {
     "data": {
      "text/plain": [
       "3-element Vector{Any}:\n",
       " [1, 17, 1]\n",
       " [4, 46, 4]\n",
       " [11, 24, 11]"
      ]
     },
     "metadata": {},
     "output_type": "display_data"
    },
    {
     "name": "stdout",
     "output_type": "stream",
     "text": [
      "Tour length: 50948.0\n"
     ]
    },
    {
     "data": {
      "text/plain": [
       "2-element Vector{Any}:\n",
       " [1, 26, 14, 1]\n",
       " [28, 41, 28]"
      ]
     },
     "metadata": {},
     "output_type": "display_data"
    },
    {
     "name": "stdout",
     "output_type": "stream",
     "text": [
      "Tour length: 56148.0\n"
     ]
    },
    {
     "data": {
      "text/plain": [
       "2-element Vector{Any}:\n",
       " [1, 26, 17, 1]\n",
       " [3, 31, 9, 3]"
      ]
     },
     "metadata": {},
     "output_type": "display_data"
    },
    {
     "name": "stdout",
     "output_type": "stream",
     "text": [
      "Tour length: 63702.0\n"
     ]
    },
    {
     "data": {
      "text/plain": [
       "2-element Vector{Any}:\n",
       " [1, 26, 30, 17, 1]\n",
       " [3, 9, 3]"
      ]
     },
     "metadata": {},
     "output_type": "display_data"
    },
    {
     "name": "stdout",
     "output_type": "stream",
     "text": [
      "Tour length: 68660.0\n"
     ]
    },
    {
     "data": {
      "text/plain": [
       "2-element Vector{Any}:\n",
       " [1, 44, 1]\n",
       " [19, 36, 19]"
      ]
     },
     "metadata": {},
     "output_type": "display_data"
    },
    {
     "name": "stdout",
     "output_type": "stream",
     "text": [
      "Tour length: 75615.0\n"
     ]
    },
    {
     "data": {
      "text/plain": [
       "2-element Vector{Any}:\n",
       " [1, 30, 1]\n",
       " [3, 9, 10, 3]"
      ]
     },
     "metadata": {},
     "output_type": "display_data"
    },
    {
     "name": "stdout",
     "output_type": "stream",
     "text": [
      "Tour length: 76613.0\n"
     ]
    },
    {
     "data": {
      "text/plain": [
       "2-element Vector{Any}:\n",
       " [1, 14, 1]\n",
       " [3, 9, 7, 3]"
      ]
     },
     "metadata": {},
     "output_type": "display_data"
    },
    {
     "name": "stdout",
     "output_type": "stream",
     "text": [
      "Tour length: 78062.0\n"
     ]
    },
    {
     "data": {
      "text/plain": [
       "2-element Vector{Any}:\n",
       " [1, 30, 17, 26, 1]\n",
       " [6, 16, 6]"
      ]
     },
     "metadata": {},
     "output_type": "display_data"
    },
    {
     "name": "stdout",
     "output_type": "stream",
     "text": [
      "Tour length: 81406.0\n"
     ]
    },
    {
     "data": {
      "text/plain": [
       "2-element Vector{Any}:\n",
       " [1, 26, 30, 1]\n",
       " [12, 23, 12]"
      ]
     },
     "metadata": {},
     "output_type": "display_data"
    },
    {
     "name": "stdout",
     "output_type": "stream",
     "text": [
      "Tour length: 83295.0\n"
     ]
    },
    {
     "data": {
      "text/plain": [
       "2-element Vector{Any}:\n",
       " [1, 26, 44, 1]\n",
       " [3, 10, 3]"
      ]
     },
     "metadata": {},
     "output_type": "display_data"
    },
    {
     "name": "stdout",
     "output_type": "stream",
     "text": [
      "Tour length: 88290.0\n"
     ]
    },
    {
     "data": {
      "text/plain": [
       "2-element Vector{Any}:\n",
       " [1, 30, 17, 1]\n",
       " [28, 37, 41, 28]"
      ]
     },
     "metadata": {},
     "output_type": "display_data"
    },
    {
     "name": "stdout",
     "output_type": "stream",
     "text": [
      "Tour length: 89671.0\n"
     ]
    },
    {
     "data": {
      "text/plain": [
       "1-element Vector{Any}:\n",
       " [1, 26, 23, 30, 17, 1]"
      ]
     },
     "metadata": {},
     "output_type": "display_data"
    },
    {
     "name": "stdout",
     "output_type": "stream",
     "text": [
      "Tour length: 89963.0\n"
     ]
    },
    {
     "name": "stdout",
     "output_type": "stream",
     "text": [
      "SOLVED!\n",
      "Total days spent: 7\n"
     ]
    },
    {
     "name": "stdout",
     "output_type": "stream",
     "text": [
      "[1, 17]\n",
      "[17, 30]\n",
      "[23, 26]\n",
      "[26, 1]\n",
      "[30, 23]\n",
      "[1, 26, 23, 30, 17, 1]\n"
     ]
    }
   ],
   "source": [
    "# Code from https://nbviewer.org/github/asmith28/cs524-su22/blob/main/TravelingSalesmanProblem.ipynb\n",
    "\n",
    "sols = []\n",
    "opt_sol = []\n",
    "\n",
    "# We'll run the heuristic 30 times and hope we get an optimal solution\n",
    "for iters = 1:30\n",
    "    optimize!(m)\n",
    "    # total  length of current tour\n",
    "    println(\"Tour length: \", objective_value(m))\n",
    "    xx = value.(x) # save solution\n",
    "    push!(sols, xx) # save solution\n",
    "\n",
    "    nodes = []\n",
    "    for i in parks\n",
    "        for j in parks\n",
    "            if Int(value(x[i, j])) == 1\n",
    "                append!(nodes, [i, j])\n",
    "            end\n",
    "        end\n",
    "    end\n",
    "\n",
    "    subtours = getAllSubtours(xx, unique!(nodes))  # get all the subtours\n",
    "    display(subtours)\n",
    "    sleep(1)\n",
    "    # get length of the subtour list\n",
    "    len = length(subtours)\n",
    "    if len == 1\n",
    "        # solution is just a single tour!\n",
    "        println(\"SOLVED!\")\n",
    "\n",
    "        # Calculate total days spent\n",
    "        tot_days = 0\n",
    "        for day in subtours[1]\n",
    "            tot_days += days[day]\n",
    "        end\n",
    "        println(\"Total days spent: \", tot_days)\n",
    "\n",
    "        # Show the optimal route\n",
    "        for i in parks\n",
    "            for j in parks\n",
    "                if Int(value(x[i,j])) == 1\n",
    "                    println([i,j])\n",
    "                end\n",
    "            end\n",
    "        end\n",
    "        opt_sol = subtours[1]\n",
    "        println(opt_sol)\n",
    "\n",
    "        break\n",
    "    else\n",
    "        for subtour in subtours\n",
    "            L = length(subtour)\n",
    "            # add constraints that cut off each subtour in the list (add two for each subtour)\n",
    "            @constraint(m, sum(x[subtour[k+1], subtour[k]] for k = 1:L-1) <= L - 2)\n",
    "            @constraint(m, sum(x[subtour[k], subtour[k+1]] for k = 1:L-1) <= L - 2)\n",
    "        end\n",
    "    end\n",
    "end"
   ]
  },
  {
   "cell_type": "code",
   "execution_count": 8,
   "metadata": {},
   "outputs": [
    {
     "data": {
      "text/plain": [
       "89963.0"
      ]
     },
     "metadata": {},
     "output_type": "display_data"
    }
   ],
   "source": [
    "objective_value(m)"
   ]
  },
  {
   "cell_type": "code",
   "execution_count": 9,
   "metadata": {},
   "outputs": [
    {
     "name": "stdout",
     "output_type": "stream",
     "text": [
      "Arcs in optimal solution are:\n"
     ]
    },
    {
     "data": {
      "text/plain": [
       "5-element Vector{Any}:\n",
       " [1, 17]\n",
       " [17, 30]\n",
       " [23, 26]\n",
       " [26, 1]\n",
       " [30, 23]"
      ]
     },
     "metadata": {},
     "output_type": "display_data"
    }
   ],
   "source": [
    "println(\"Arcs in optimal solution are:\")\n",
    "path_opt = []\n",
    "for i in parks\n",
    "    for j in parks\n",
    "        if Int(value(x[i,j])) == 1\n",
    "            append!(path_opt, [[i,j]])\n",
    "        end\n",
    "    end\n",
    "end\n",
    "\n",
    "# This describes the __actual__ arcs of the solution rather than\n",
    "# the nodes as shown when a subtour of length 1 is found\n",
    "# NOTE: the way the solution is drawn will be the same as it's a closed loop\n",
    "# but the optimal objective value depends on the arcs\n",
    "path_opt"
   ]
  },
  {
   "cell_type": "markdown",
   "metadata": {},
   "source": [
    "## Optimal Solution"
   ]
  },
  {
   "cell_type": "code",
   "execution_count": 10,
   "metadata": {},
   "outputs": [
    {
     "data": {
      "text/plain": [
       "6-element Vector{Any}:\n",
       " \"UW-Madison\"\n",
       " \"Gateway Arch National Park\"\n",
       " \"Great Smoky Mountains National Park\"\n",
       " \"Indiana Dunes National Park\"\n",
       " \"Mammoth Cave National Park\"\n",
       " \"UW-Madison\""
      ]
     },
     "metadata": {},
     "output_type": "display_data"
    }
   ],
   "source": [
    "# Redefine park / location names to be easily readable\n",
    "park_names = [\"UW-Madison\",\n",
    "    \"Acadia National Park\",\n",
    "    \"Arches National Park\",\n",
    "    \"Badlands National Park\",\n",
    "    \"Big Bend National Park\",\n",
    "    \"Biscayne National Park\",\n",
    "    \"Black Canyon of the Gunnison National Park\",\n",
    "    \"Bryce Canyon National Park\",\n",
    "    \"Canyonlands National Park\",\n",
    "    \"Capitol Reef National Park\",\n",
    "    \"Carlsbad Caverns National Park\",\n",
    "    \"Congaree National Park\",\n",
    "    \"Crater Lake National Park\",\n",
    "    \"Cuyahoga Valley National Park\",\n",
    "    \"Death Valley National Park\",\n",
    "    \"Everglades National Park\",\n",
    "    \"Gateway Arch National Park\",\n",
    "    \"Glacier National Park\",\n",
    "    \"Grand Canyon National Park\",\n",
    "    \"Grand Teton National Park\",\n",
    "    \"Great Basin National Park\",\n",
    "    \"Great Sand Dunes National Park\",\n",
    "    \"Great Smoky Mountains National Park\",\n",
    "    \"Guadalupe Mountains National Park\",\n",
    "    \"Hot Springs National Park\",\n",
    "    \"Indiana Dunes National Park\",\n",
    "    \"Joshua Tree National Park\",\n",
    "    \"Kings Canyon National Park\",\n",
    "    \"Lassen Volcanic National Park\",\n",
    "    \"Mammoth Cave National Park\",\n",
    "    \"Mesa Verde National Park\",\n",
    "    \"Mount Rainier National Park\",\n",
    "    \"New River Gorge National Park\",\n",
    "    \"North Cascades National Park\",\n",
    "    \"Olympic National Park\",\n",
    "    \"Petrified Forest National Park\",\n",
    "    \"Pinnacles National Park\",\n",
    "    \"Redwood National Park\",\n",
    "    \"Rocky Mountain National Park\",\n",
    "    \"Saguaro National Park\",\n",
    "    \"Sequoia National Park\",\n",
    "    \"Shenandoah National Park\",\n",
    "    \"Theodore Roosevelt National Park\",\n",
    "    \"Voyageurs National Park\",\n",
    "    \"White Sands National Park\",\n",
    "    \"Wind Cave National Park\",\n",
    "    \"Yellowstone National Park\",\n",
    "    \"Yosemite National Park\",\n",
    "    \"Zion National Park\"]\n",
    ";\n",
    "\n",
    "# Describes optimal solution!\n",
    "opt_sol_names = []\n",
    "for path in path_opt\n",
    "    append!(opt_sol_names, [park_names[path[1]]])\n",
    "end\n",
    "append!(opt_sol_names, [\"UW-Madison\"]) # last node\n",
    "\n",
    "opt_sol_names # shows flow of closed-loop solution"
   ]
  }
 ],
 "metadata": {
  "kernelspec": {
   "display_name": "Julia 1.7.3",
   "language": "julia",
   "name": "julia-1.7"
  },
  "language_info": {
   "file_extension": ".jl",
   "mimetype": "application/julia",
   "name": "julia",
   "version": "1.7.3"
  },
  "orig_nbformat": 4,
  "vscode": {
   "interpreter": {
    "hash": "aee8b7b246df8f9039afb4144a1f6fd8d2ca17a180786b69acc140d282b71a49"
   }
  }
 },
 "nbformat": 4,
 "nbformat_minor": 2
}
