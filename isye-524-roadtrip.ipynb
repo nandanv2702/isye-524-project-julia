{
 "cells": [
  {
   "cell_type": "markdown",
   "id": "3feb3e4a",
   "metadata": {},
   "source": [
    "### CS/ECE/ISyE 524 &mdash; Introduction to Optimization &mdash; Summer 2022 ###\n",
    "\n",
    "# Road Trip Optimizer #\n",
    "\n",
    "#### Alex Gilmore (asgilmore@wisc.edu), Nandan Venkatesan (nvenkatesan2@wisc.edu), and Brendan Zimmer (btzimmer@wisc.edu)\n",
    "\n",
    "### Table of Contents\n",
    "\n",
    "1. [Introduction](#1.-Introduction)\n",
    "1. [Mathematical Model](#2.-Mathematical-Model)\n",
    "1. [Solution](#3.-Solution)\n",
    "1. [Results and Discussion](#4.-Results-and-Discussion)\n",
    "1. [Optional Subsection](#4.A.-Feel-free-to-add-subsections)\n",
    "1. [Conclusion](#5.-Conclusion)"
   ]
  },
  {
   "cell_type": "markdown",
   "id": "55a64703",
   "metadata": {},
   "source": [
    "## 1. Introduction ##"
   ]
  },
  {
   "cell_type": "markdown",
   "id": "3f9d7010",
   "metadata": {},
   "source": [
    "add from google doc"
   ]
  },
  {
   "cell_type": "markdown",
   "id": "c09a82d2",
   "metadata": {},
   "source": [
    "## 2. Mathematical Model ##"
   ]
  },
  {
   "cell_type": "markdown",
   "id": "748ecbb4",
   "metadata": {},
   "source": [
    "We are utilizing an MCNF framework to solve our primary problem. The source and sink will be identical since we are interested in only round trips and we will be implementing a minimum trip length to prevent the model from cutting the trip short to reduce cost."
   ]
  },
  {
   "cell_type": "markdown",
   "id": "01da0564",
   "metadata": {},
   "source": [
    "let p be a list of national parks and our starting location\n",
    "\n",
    "let $x_{ij}$ be a matrix representing if an arc is chosen $\\forall i \\in p, \\forall j \\in p$\n",
    "\n",
    "let $e_i$ be a vector of entrance fees $\\forall i \\in p$\n",
    "\n",
    "let $l_i$ be a vector of est. lodging fees $\\forall i \\in p$\n",
    "\n",
    "let $s_i$ be a vector of length of stays $\\forall i \\in p$\n",
    "\n",
    "let $c_i$ be a vector of the total lodging and entrance fee cost $\\forall i \\in p$\n",
    "\n",
    "let $g_{ij}$ be a matrix of gas prices $\\forall i \\in p, \\forall j \\in p$\n",
    "\n",
    "let $D_{ij}$ be a matrix of  arc distances (miles) $\\forall i \\in p, \\forall j \\in p$\n",
    "\n",
    "let $T_{ij}$ be a matrix of arc times (days) $\\forall i \\in p, \\forall j \\in p$\n",
    "\n",
    "let $b_k$ be a vector of \"supply/demand\" $\\forall k \\in p$\n",
    "\n",
    "let M be the maximum days allowed to travel\n",
    "\n",
    "let m be the minimum days allowed to travel\n",
    "\n",
    "\n",
    "\\begin{align*}\n",
    "\\underset{x}{\\max} \\ & - \\underset{(ij) \\in p}\\Sigma\\ c_{ij} x_{ij} - \\underset{(ij) \\in p}\\Sigma\\ g_{ij} x_{ij}  & \\\\\n",
    "\\text{s.t.} \\ & \\underset{(ij) \\in p}\\Sigma\\ s_{ij} x_{ij} + \\underset{(ij) \\in p}\\Sigma\\ T_{ij} x_{ij} \\le M &\\\\\n",
    "& - \\underset{(ij) \\in p}\\Sigma\\ s_{ij} x_{ij} - \\underset{(ij) \\in p}\\Sigma\\ T_{ij} x_{ij} \\le - m &\\\\\n",
    "& \\underset{j \\in p}\\Sigma\\ x_{kj} - \\underset{i \\in p}\\Sigma\\ x_{ik} \\le b_k,\\ \\forall\\ k \\in p &\\\\\n",
    "& - \\underset{j \\in p}\\Sigma\\ x_{kj} + \\underset{i \\in p}\\Sigma\\ x_{ik} \\le - b_k,\\ \\forall\\ k \\in p &\\\\\n",
    "\\end{align*}\n",
    "\n"
   ]
  },
  {
   "cell_type": "code",
   "execution_count": null,
   "id": "2c952e5f",
   "metadata": {},
   "outputs": [],
   "source": [
    "#constraints\n",
    "# travel max\n",
    "# travel min\n",
    "# park selection"
   ]
  },
  {
   "cell_type": "markdown",
   "id": "c76e191b",
   "metadata": {},
   "source": [
    "Variables:\n",
    "\n",
    "- $x_{ij}$ = $\\left\\{ \\begin{array}{ll}\n",
    "        1 \\ \\mbox{if arc $x_{ij}$ is in road trip path} \\\\\n",
    "        0 \\ \\mbox{otherwise} & \n",
    "    \\end{array} \\right\\}$\n",
    "\n",
    "Constraints:\n",
    "1. The total time traveled must be less than the maximum travel time.\n",
    "\n",
    "\n",
    "2. The total time traveled must be more than the minimum desired travel time. This prevents the model from decreasing the trip length in an effort to reduce the trip cost. \n",
    "\n",
    "\n",
    "3. This is a flow balance constraint to direct our road trip path. Only one arc (road) may enter a node (park) and only one arc may leave. This constraint is split into two halves (the third and fourth constraint listed) to display the mathematical model in standard form.\n",
    "\n",
    "Objective Function:\n",
    "- This is minimzing the collective cost of visiting parks + the gas cost of traveling between all parks. "
   ]
  },
  {
   "cell_type": "markdown",
   "id": "72cde945",
   "metadata": {},
   "source": [
    "## 3. Solution ##"
   ]
  },
  {
   "cell_type": "markdown",
   "id": "893ef3f7",
   "metadata": {},
   "source": [
    "## STILL CLEANING DATA FOR USE aug 8"
   ]
  },
  {
   "cell_type": "code",
   "execution_count": 20,
   "id": "73e71841",
   "metadata": {},
   "outputs": [],
   "source": [
    "using Clp, JuMP, NamedArrays, CSV, DataFrames"
   ]
  },
  {
   "cell_type": "code",
   "execution_count": 150,
   "id": "00e8150f",
   "metadata": {},
   "outputs": [],
   "source": [
    "df = DataFrame(CSV.File(\"park_data.csv\"))\n",
    "\n",
    "push!(df, (\"UW_Madison\", \"\", 0, 0, 0, 3.5))\n",
    "\n",
    "pTemp = df[!, \"park name\"]\n",
    "p = Array{Symbol}(undef, length(pTemp))\n",
    "\n",
    "# format parks list to symbols\n",
    "for i in [1:1:length(pTemp);]\n",
    "    pTemp[i] = replace(pTemp[i], \" \" => \"_\", \"–\" => \"_\", \".\" => \"\")\n",
    "    p[i] = Symbol(pTemp[i])\n",
    "end \n",
    "\n",
    "e = NamedArray(df[!, \"entrance fee\"], (p))\n",
    "\n",
    "l = NamedArray(df[!, \"lodging\"], (p))\n",
    "\n",
    "s = NamedArray(df[!, \"est. length of stay\"], (p))\n",
    "\n",
    "parkGas = NamedArray(df[!, \"gas price\"], (p)) \n",
    "\n",
    ";"
   ]
  },
  {
   "cell_type": "markdown",
   "id": "16a0f43d",
   "metadata": {},
   "source": [
    "$c = s * (l + e)$"
   ]
  },
  {
   "cell_type": "code",
   "execution_count": null,
   "id": "1b5e22a2",
   "metadata": {},
   "outputs": [],
   "source": [
    "c = s .* (l + e)\n",
    ";"
   ]
  },
  {
   "cell_type": "code",
   "execution_count": 146,
   "id": "db8dd78c",
   "metadata": {},
   "outputs": [],
   "source": [
    "dist = DataFrame(CSV.File(\"arc_data_dist_all.csv\"))\n",
    "\n",
    "# distO = DataFrame(CSV.File(\"origin_data_dist.csv\"))\n",
    "\n",
    "time = DataFrame(CSV.File(\"arc_data_time_all.csv\"))\n",
    "\n",
    "# timeO = DataFrame(CSV.File(\"origin_data_time.csv\"))\n",
    "\n",
    "# dist.UW_Madison = distO[!, 2]\n",
    "# time.UW_Madison = timeO[!, 2]\n",
    "\n",
    "time\n",
    ";"
   ]
  },
  {
   "cell_type": "code",
   "execution_count": 169,
   "id": "a94422ea",
   "metadata": {},
   "outputs": [],
   "source": [
    "D = Float64.(NamedArray(Matrix(dist[:,2:50]), (p, p), (\"entering\", \"leaving\")))\n",
    "T = NamedArray(Matrix(time[:,2:50]), (p, p), (\"entering\", \"leaving\"))\n",
    ";"
   ]
  },
  {
   "cell_type": "code",
   "execution_count": 170,
   "id": "0c139eb4",
   "metadata": {},
   "outputs": [],
   "source": [
    "T = T ./ 86400 # convert time from seconds to days\n",
    ";"
   ]
  },
  {
   "cell_type": "markdown",
   "id": "fc9df444",
   "metadata": {},
   "source": [
    "$g_{ij} =  \\frac{parkGas_i + parkGas_j}{2} * \\frac{1}{milesPerGallon} * D_{ij}$"
   ]
  },
  {
   "cell_type": "code",
   "execution_count": 174,
   "id": "4dad1cdb",
   "metadata": {},
   "outputs": [
    {
     "name": "stdout",
     "output_type": "stream",
     "text": [
      "acadia to yosemite distance: 3100.0\n",
      "acadia to yosemite estimated gas cost: 795.15\n",
      "acadia to yosemite time in days: 1.9795138888888888\n"
     ]
    }
   ],
   "source": [
    "# calculate the gas cost matrix\n",
    "\n",
    "milesPerGallon = 20.0\n",
    "\n",
    "g = copy(D)\n",
    "\n",
    "for i in p\n",
    "    for j in p\n",
    "        g[i, j] = (parkGas[i] + parkGas[j]) / (2milesPerGallon) * g[i, j]\n",
    "    end\n",
    "end\n",
    "\n",
    "println(\"acadia to yosemite distance: \", D[:Acadia, :Yosemite])\n",
    "println(\"acadia to yosemite estimated gas cost: \", g[:Acadia, :Yosemite])\n",
    "println(\"acadia to yosemite time in days: \", T[:Acadia, :Yosemite])"
   ]
  },
  {
   "cell_type": "code",
   "execution_count": 176,
   "id": "d0fc2b4e",
   "metadata": {},
   "outputs": [],
   "source": [
    "# set travel length boundaries\n",
    "\n",
    "maxTravel = 14\n",
    "minTravel = 7\n",
    ";"
   ]
  },
  {
   "cell_type": "markdown",
   "id": "ea046a1a",
   "metadata": {},
   "source": [
    "## need to fix supply / demand / source/ sink"
   ]
  },
  {
   "cell_type": "code",
   "execution_count": 178,
   "id": "50aa2fb5",
   "metadata": {},
   "outputs": [],
   "source": [
    "# supply / demand\n",
    "\n",
    "b = zeros(length(p), 1)\n",
    ";"
   ]
  },
  {
   "cell_type": "code",
   "execution_count": null,
   "id": "542ace30",
   "metadata": {},
   "outputs": [],
   "source": []
  }
 ],
 "metadata": {
  "kernelspec": {
   "display_name": "Julia 1.7.3",
   "language": "julia",
   "name": "julia-1.7"
  },
  "language_info": {
   "file_extension": ".jl",
   "mimetype": "application/julia",
   "name": "julia",
   "version": "1.7.3"
  }
 },
 "nbformat": 4,
 "nbformat_minor": 5
}
