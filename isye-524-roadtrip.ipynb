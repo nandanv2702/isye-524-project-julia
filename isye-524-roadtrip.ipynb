{
 "cells": [
  {
   "cell_type": "markdown",
   "id": "c09a82d2",
   "metadata": {},
   "source": [
    "# mathematical model"
   ]
  },
  {
   "cell_type": "markdown",
   "id": "01da0564",
   "metadata": {},
   "source": [
    "let p be a list of national parks and our starting location\n",
    "\n",
    "let x be a vector representing if an arc is chosen\n",
    "\n",
    "let e be a vector of entrance fees for each entered park of an arc\n",
    "\n",
    "let l be a vector of est. lodging fees for each entered park of an arc\n",
    "\n",
    "let s be a vector of length of stays for each entered park of an arc\n",
    "\n",
    "let g be a vector of gas prices for each arc\n",
    "\n",
    "let D be a vector of  arc distances (miles) between each set of parks\n",
    "\n",
    "let T be a vector of arc times (s) between each set of parks\n",
    "\n",
    "let M be the maximum days allowed to travel\n",
    "\n",
    "let m be the minimum days allowed to travel\n",
    "\n",
    "let b be a vector of \"supply/demand\" at each park\n",
    "\n",
    "let c be a vector of the total lodging and entrance fee cost of each park\n",
    "\n",
    "$c = s * l * e$\n",
    "\n",
    "$g_{ij} =  \\frac{stateGas_i + stateGas_j}{2} * \\frac{1}{milesPerGallon} * D_{ij}$\n",
    "\n",
    "\\begin{align*}\n",
    "\\underset{x}{\\min} \\ & \\Sigma\\ c_{ij} x_{ij} + g_{ij} x_{ij}, \\ \\forall\\ i \\in p,\\ \\forall\\ j \\in p  & \\\\\n",
    "\\text{s.t.} \\ & \\Sigma\\ s_{ij} x_{ij} + 86400*\\Sigma\\ T_{ij} x_{ij} \\le M,\\ \\forall\\ i \\in p,\\ \\forall\\ j \\in p &\\\\\n",
    "& - \\Sigma\\ s_{ij} x_{ij} - 86400*\\Sigma\\ T_{ij} x_{ij} \\le - m,\\ \\forall\\ i \\in p,\\ \\forall\\ j \\in p &\\\\\n",
    "& \\Sigma\\ x_{kj} - \\Sigma\\ x_{ik} \\le b_k,\\ \\forall\\ i \\in p,\\ \\forall\\ j \\in p,\\ \\forall\\ k \\in p &\\\\\n",
    "& - \\Sigma\\ x_{kj} + \\Sigma\\ x_{ik} \\le - b_k,\\ \\forall\\ i \\in p,\\ \\forall\\ j \\in p,\\ \\forall\\ k \\in p &\\\\\n",
    "\\end{align*}\n",
    "\n"
   ]
  },
  {
   "cell_type": "code",
   "execution_count": null,
   "id": "2c952e5f",
   "metadata": {},
   "outputs": [],
   "source": [
    "#constraints\n",
    "# travel max\n",
    "# travel min\n",
    "# park selection"
   ]
  },
  {
   "cell_type": "markdown",
   "id": "ef52bc86",
   "metadata": {},
   "source": [
    "Constraint 1:\n",
    "The total time traveled must be less than the maximum travel time.\n",
    "\n",
    "Constraint 2:\n",
    "The total time traveled must be more than the minimum desired travel time. This prevents the model from decreasing the trip length in an effort to reduce the trip cost. \n",
    "\n",
    "Constraint 3:\n",
    "This is a flow balance constraint to direct our road trip path. Only one arc (road) may enter a node (park) and only one arc may leave. This constraint is split into two halves (the third and fourth constraint listed) to display the mathematical model in standard form."
   ]
  },
  {
   "cell_type": "code",
   "execution_count": null,
   "id": "a3ab8d6f",
   "metadata": {},
   "outputs": [],
   "source": []
  }
 ],
 "metadata": {
  "kernelspec": {
   "display_name": "Julia 1.7.3",
   "language": "julia",
   "name": "julia-1.7"
  },
  "language_info": {
   "file_extension": ".jl",
   "mimetype": "application/julia",
   "name": "julia",
   "version": "1.7.3"
  }
 },
 "nbformat": 4,
 "nbformat_minor": 5
}
