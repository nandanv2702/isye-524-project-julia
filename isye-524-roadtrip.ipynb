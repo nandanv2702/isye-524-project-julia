{
 "cells": [
  {
   "cell_type": "markdown",
   "id": "38641d28",
   "metadata": {},
   "source": [
    "### CS/ECE/ISyE 524 &mdash; Introduction to Optimization &mdash; Summer 2022 ###\n",
    "\n",
    "# Road Trip Optimizer #\n",
    "\n",
    "#### Alex Gilmore (asgilmore@wisc.edu), Nandan Venkatesan (nvenkatesan2@wisc.edu), and Brendan Zimmer (btzimmer@wisc.edu)\n",
    "\n",
    "### Table of Contents\n",
    "\n",
    "1. [Introduction](#1.-Introduction)\n",
    "1. [Mathematical Model](#2.-Mathematical-Model)\n",
    "1. [Solution](#3.-Solution)\n",
    "1. [Results and Discussion](#4.-Results-and-Discussion)\n",
    "1. [Conclusion](#5.-Conclusion)"
   ]
  },
  {
   "cell_type": "markdown",
   "id": "4e761dc8",
   "metadata": {},
   "source": [
    "## 1. Introduction ##"
   ]
  },
  {
   "cell_type": "markdown",
   "id": "ed06fa15",
   "metadata": {},
   "source": [
    "add from google doc"
   ]
  },
  {
   "cell_type": "markdown",
   "id": "c09a82d2",
   "metadata": {},
   "source": [
    "## 2. Mathematical Model ##"
   ]
  },
  {
   "cell_type": "markdown",
   "id": "646f9580",
   "metadata": {},
   "source": [
    "We are utilizing an MCNF framework to solve our primary problem. The source and sink will be identical since we are interested in only round trips and we will be implementing a minimum trip length to prevent the model from cutting the trip short to reduce cost."
   ]
  },
  {
   "cell_type": "markdown",
   "id": "01da0564",
   "metadata": {},
   "source": [
    "let p be a list of national parks and our starting location\n",
    "\n",
    "let $x_{ij}$ be a matrix representing if an arc is chosen $\\forall i \\in p, \\forall j \\in p$\n",
    "\n",
    "let $u_i$ be a vector representing the order of chosen nodes $\\forall i \\in p$\n",
    "\n",
    "let $e_i$ be a vector of entrance fees $\\forall i \\in p$\n",
    "\n",
    "let $l_i$ be a vector of est. lodging fees $\\forall i \\in p$\n",
    "\n",
    "let $s_i$ be a vector of length of stays $\\forall i \\in p$\n",
    "\n",
    "let $c_i$ be a vector of the total lodging and entrance fee cost $\\forall i \\in p$\n",
    "\n",
    "let $g_{ij}$ be a matrix of gas prices $\\forall i \\in p, \\forall j \\in p$\n",
    "\n",
    "let $D_{ij}$ be a matrix of  arc distances (miles) $\\forall i \\in p, \\forall j \\in p$\n",
    "\n",
    "let $T_{ij}$ be a matrix of arc times (days) $\\forall i \\in p, \\forall j \\in p$\n",
    "\n",
    "let M be the maximum days allowed to travel\n",
    "\n",
    "let m be the minimum days allowed to travel"
   ]
  },
  {
   "cell_type": "markdown",
   "id": "1471ce68",
   "metadata": {},
   "source": [
    "#### Miller-Tucker_Zemlin Model"
   ]
  },
  {
   "cell_type": "markdown",
   "id": "74781f73",
   "metadata": {},
   "source": [
    "\\begin{align*}\n",
    "\\underset{x}{\\max} \\ & - \\underset{(ij) \\in p}\\Sigma\\ c_{i} x_{ij} - \\underset{(ij) \\in p}\\Sigma\\ g_{ij} x_{ij}  & \\\\\n",
    "\\text{s.t.} \\ & \\underset{(ij) \\in p}\\Sigma\\ s_{i} x_{ij} + \\underset{(ij) \\in p}\\Sigma\\ T_{ij} x_{ij} \\le M &\\\\\n",
    "& - \\underset{(ij) \\in p}\\Sigma\\ s_{i} x_{ij} - \\underset{(ij) \\in p}\\Sigma\\ T_{ij} x_{ij} \\le - m &\\\\\n",
    "& \\underset{i \\in p} \\Sigma\\ x_{i, origin} \\le 1 & \\\\\n",
    "& - \\underset{i \\in p} \\Sigma\\ x_{i, origin} \\le -1 & \\\\\n",
    "& \\underset{j \\in p} \\Sigma\\ x_{origin, j} \\le 1 & \\\\\n",
    "& - \\underset{j \\in p} \\Sigma\\ x_{origin, j} \\le -1 & \\\\\n",
    "& \\underset{j \\in p} \\Sigma\\ x_{kj} \\le 1, \\forall k \\in p & \\\\\n",
    "& \\underset{i \\in p} \\Sigma\\ x_{ik} \\le 1, \\forall k \\in p & \\\\\n",
    "& u_i - u_j + n * x_{ij} \\le n - 1, \\forall i \\in p, j \\in p[2:end] &\\\\\n",
    "& - \\underset{k \\in p} \\Sigma\\ x_{jk} + x_{ij} \\le 0 , \\forall i \\in p, j \\in p & \\\\\n",
    "& & \\\\\n",
    "& & \\\\\n",
    "\\end{align*}"
   ]
  },
  {
   "cell_type": "markdown",
   "id": "d825903b",
   "metadata": {},
   "source": [
    "Variables:\n",
    "\n",
    "- $x_{ij}$ = $\\left\\{ \\begin{array}{ll}\n",
    "        1 \\ \\mbox{if arc $x_{ij}$ is in road trip path} \\\\\n",
    "        0 \\ \\mbox{otherwise} & \n",
    "    \\end{array} \\right\\}$\n",
    "    \n",
    "    \n",
    "- $u_i$ = indicates the order of active nodes in the sequence\n",
    "\n",
    "Constraints:\n",
    "1. The total time traveled must be less than the maximum travel time.\n",
    "\n",
    "\n",
    "2. The total time traveled must be more than the minimum desired travel time. This prevents the model from decreasing the trip length in an effort to reduce the trip cost. \n",
    "\n",
    "\n",
    "3, 4, 5, 6. This requires the origin to be included in the sequence loop\n",
    "\n",
    "\n",
    "7, 8. This pair requires that each node has at most one entering and at most one leaving edge\n",
    "\n",
    "\n",
    "9. This is the Miller-Tucker-Zemlin logical constraint. It ensures that u will increase along successive nodes in the sequence.\n",
    "\n",
    "\n",
    "10. This is a logical constraint that ensures if a node has an active entering arc, then it must have an active leaving arc.\n",
    "\n",
    "Objective Function:\n",
    "- This is minimzing the collective cost of visiting parks + the gas cost of traveling between all parks. "
   ]
  },
  {
   "cell_type": "markdown",
   "id": "8a76ce8c",
   "metadata": {},
   "source": [
    "#### Adapative Subtour Elimination Model"
   ]
  },
  {
   "cell_type": "code",
   "execution_count": null,
   "id": "c339798c",
   "metadata": {},
   "outputs": [],
   "source": []
  },
  {
   "cell_type": "markdown",
   "id": "added231",
   "metadata": {},
   "source": [
    "## 3. Solution ##"
   ]
  },
  {
   "cell_type": "markdown",
   "id": "c3b7777f",
   "metadata": {},
   "source": [
    "### data entry"
   ]
  },
  {
   "cell_type": "code",
   "execution_count": 197,
   "id": "70d735b3",
   "metadata": {},
   "outputs": [],
   "source": [
    "using Clp, Gurobi, JuMP, NamedArrays, CSV, DataFrames"
   ]
  },
  {
   "cell_type": "code",
   "execution_count": 346,
   "id": "3d84e1ab",
   "metadata": {},
   "outputs": [],
   "source": [
    "df = DataFrame(CSV.File(\"park_data.csv\"))\n",
    "\n",
    "push!(df, (\"source\", \"\", 0, 0, 0, 3.5))\n",
    "\n",
    "pTemp = df[!, \"park name\"]\n",
    "p = Array{Symbol}(undef, length(pTemp))\n",
    "\n",
    "# format parks list to symbols\n",
    "for i in [1:1:length(pTemp);]\n",
    "    pTemp[i] = replace(pTemp[i], \" \" => \"_\", \"–\" => \"_\", \".\" => \"\")\n",
    "    p[i] = Symbol(pTemp[i])\n",
    "end \n",
    "\n",
    "e = NamedArray(df[!, \"entrance fee\"], (p))\n",
    "\n",
    "l = NamedArray(df[!, \"lodging\"], (p))\n",
    "\n",
    "s = NamedArray(df[!, \"est. length of stay\"], (p))\n",
    "\n",
    "parkGas = NamedArray(df[!, \"gas price\"], (p)) \n",
    "\n",
    ";"
   ]
  },
  {
   "cell_type": "markdown",
   "id": "cd7b6748",
   "metadata": {},
   "source": [
    "$c = s * (l + e)$"
   ]
  },
  {
   "cell_type": "code",
   "execution_count": 347,
   "id": "964f207f",
   "metadata": {},
   "outputs": [],
   "source": [
    "c = s .* (l + e)\n",
    ";"
   ]
  },
  {
   "cell_type": "code",
   "execution_count": 348,
   "id": "fcfe9dc5",
   "metadata": {},
   "outputs": [
    {
     "data": {
      "text/plain": [
       "(49,)"
      ]
     },
     "execution_count": 348,
     "metadata": {},
     "output_type": "execute_result"
    }
   ],
   "source": [
    "dist = DataFrame(CSV.File(\"arc_data_dist_all.csv\"))\n",
    "\n",
    "time = DataFrame(CSV.File(\"arc_data_time_all.csv\"))\n",
    "\n",
    "size(time[1:49, 2:50])\n",
    "size(p)"
   ]
  },
  {
   "cell_type": "code",
   "execution_count": 351,
   "id": "a781d31f",
   "metadata": {},
   "outputs": [],
   "source": [
    "D = Float64.(NamedArray(Matrix(dist[1:49,2:50]), (p, p), (\"entering\", \"leaving\")))\n",
    "T = NamedArray(Matrix(time[1:49,2:50]), (p, p), (\"entering\", \"leaving\"))\n",
    ";"
   ]
  },
  {
   "cell_type": "code",
   "execution_count": 352,
   "id": "14057b0a",
   "metadata": {},
   "outputs": [],
   "source": [
    "T = T ./ 86400 # convert time from seconds to days\n",
    ";"
   ]
  },
  {
   "cell_type": "markdown",
   "id": "1ebb26f0",
   "metadata": {},
   "source": [
    "$g_{ij} =  \\frac{parkGas_i + parkGas_j}{2} * \\frac{1}{milesPerGallon} * D_{ij}$"
   ]
  },
  {
   "cell_type": "code",
   "execution_count": 353,
   "id": "3e6b3556",
   "metadata": {},
   "outputs": [
    {
     "name": "stdout",
     "output_type": "stream",
     "text": [
      "acadia to yosemite distance: 3100.0 miles\n",
      "acadia to yosemite estimated gas cost: $795.15\n",
      "acadia to yosemite time : 1.9795138888888888 days\n"
     ]
    }
   ],
   "source": [
    "# calculate the gas cost matrix\n",
    "\n",
    "milesPerGallon = 20.0\n",
    "\n",
    "g = copy(D)\n",
    "\n",
    "for i in p\n",
    "    for j in p\n",
    "        g[i, j] = (parkGas[i] + parkGas[j]) / (2milesPerGallon) * g[i, j]\n",
    "    end\n",
    "end\n",
    "\n",
    "println(\"acadia to yosemite distance: \", D[:Acadia, :Yosemite], \" miles\")\n",
    "println(\"acadia to yosemite estimated gas cost: \\$\", g[:Acadia, :Yosemite])\n",
    "println(\"acadia to yosemite time : \", T[:Acadia, :Yosemite], \" days\")"
   ]
  },
  {
   "cell_type": "code",
   "execution_count": 356,
   "id": "af0db060",
   "metadata": {},
   "outputs": [],
   "source": [
    "# set travel length boundaries\n",
    "\n",
    "maxTravel = 14\n",
    "minTravel = 7\n",
    ";"
   ]
  },
  {
   "cell_type": "code",
   "execution_count": 382,
   "id": "e89eb860",
   "metadata": {},
   "outputs": [],
   "source": [
    "# set n (total number of parks)\n",
    "n = length(p)\n",
    "# n = 5\n",
    ";"
   ]
  },
  {
   "cell_type": "markdown",
   "id": "5170697d",
   "metadata": {},
   "source": [
    "### model "
   ]
  },
  {
   "cell_type": "markdown",
   "id": "37a33cc8",
   "metadata": {},
   "source": [
    "#### Miller-Tucker-Zemlin method"
   ]
  },
  {
   "cell_type": "code",
   "execution_count": 452,
   "id": "e4ba7f32",
   "metadata": {},
   "outputs": [
    {
     "name": "stdout",
     "output_type": "stream",
     "text": [
      "Set parameter Username\n",
      "Academic license - for non-commercial use only - expires 2023-07-08\n"
     ]
    }
   ],
   "source": [
    "m = Model(Gurobi.Optimizer)\n",
    "\n",
    "@variable(m, x[p, p], Bin)\n",
    "@variable(m, 1 <= u[p] <= n)\n",
    "\n",
    "@objective(m, Min, sum(c[i] * x[i, j] for i in p for j in p) \n",
    "    + sum(g[i, j] * x[i, j] for i in p for j in p))\n",
    "\n",
    "\n",
    "# travel time constraints\n",
    "@constraint(m, sum(s[i] * x[i, j] for i in p for j in p) \n",
    "    + sum(T[i, j] * x[i, j] for i in p for j in p) <= maxTravel)\n",
    "\n",
    "@constraint(m, sum(s[i] * x[i, j] for i in p for j in p) \n",
    "    + sum(T[i, j] * x[i, j] for i in p for j in p) >= minTravel)\n",
    "\n",
    "# no self loops constraint\n",
    "@constraint(m, x_constr[i in p], x[i, i] == 0)\n",
    "\n",
    "# no source --> sink loops constraints\n",
    "# @constraint(m, sink_constr, x[:sink, :source] == 0)\n",
    "# @constraint(m, source_constr, x[:source, :sink] == 0)\n",
    "\n",
    "# start at source, end at sink constraints\n",
    "@constraint(m, start_constr, sum(x[:source, j] for j in p) == 1)\n",
    "@constraint(m, end_constr, sum(x[i, :source] for i in p) == 1)\n",
    "\n",
    "# MTZ logical constraint\n",
    "@constraint(m, MTZ[i in p, j in p[2:end]], u[i] - u[j] + n*x[i, j] <= n - 1)\n",
    "\n",
    "# one out edge, one in edge constraints (at most)\n",
    "@constraint(m, x_row_constr[k in p], sum(x[k, j] for j in p) <= 1)\n",
    "@constraint(m, x_col_constr[k in p], sum(x[i, k] for i in p) <= 1)\n",
    "\n",
    "# sequential connections logical constraint\n",
    "@constraint(m, connections[i in p, j in p], sum(x[j, k] for k in p) + -1*x[i,j] >= -1 + 1)\n",
    "\n",
    "\n",
    "# balance constraint\n",
    "# @constraint(m, balance[k in p], sum(x[k, j] for j in p) - sum(x[i, k] for i in p) == b[k])\n",
    "\n",
    "# if sum(s[i] * x[i, j] for i in p for j in p) \n",
    "#     + sum(T[i, j] * x[i, j] for i in p for j in p) >= minTravel\n",
    "# @constraint(m, return_yet[i in p, j in p], sum(s[i] * x[i, j] for i in p for j in p) \n",
    "#                         + sum(T[i, j] * x[i, j] for i in p for j in p) + x[i,j] >= 7)\n",
    "# then x[i, :sink] == 1\n",
    "# @constraint(m, min[i in p], )\n",
    "\n",
    "# if x[i, j] == 1, then x[j, i] == 0\n",
    "# @constraint(m, one_way[i in p, j in p], x[i, j] <= x[j, i])\n",
    "\n",
    ";"
   ]
  },
  {
   "cell_type": "code",
   "execution_count": 453,
   "id": "ea70acd3",
   "metadata": {},
   "outputs": [
    {
     "name": "stdout",
     "output_type": "stream",
     "text": [
      "Gurobi Optimizer version 9.5.2 build v9.5.2rc0 (mac64[x86])\n",
      "Thread count: 4 physical cores, 8 logical processors, using up to 8 threads\n",
      "Optimize a model with 4904 rows, 2450 columns and 136661 nonzeros\n",
      "Model fingerprint: 0x077b2aed\n",
      "Variable types: 49 continuous, 2401 integer (2401 binary)\n",
      "Coefficient statistics:\n",
      "  Matrix range     [1e-01, 1e+01]\n",
      "  Objective range  [4e+01, 4e+03]\n",
      "  Bounds range     [1e+00, 5e+00]\n",
      "  RHS range        [1e+00, 1e+01]\n",
      "Found heuristic solution: objective 2583.9440000\n",
      "Presolve removed 2720 rows and 227 columns\n",
      "Presolve time: 0.27s\n",
      "Presolved: 2184 rows, 2223 columns, 14835 nonzeros\n",
      "Variable types: 47 continuous, 2176 integer (2176 binary)\n",
      "\n",
      "Root relaxation: objective 5.975521e+02, 36 iterations, 0.00 seconds (0.00 work units)\n",
      "\n",
      "    Nodes    |    Current Node    |     Objective Bounds      |     Work\n",
      " Expl Unexpl |  Obj  Depth IntInf | Incumbent    BestBd   Gap | It/Node Time\n",
      "\n",
      "     0     0  597.55214    0   13 2583.94400  597.55214  76.9%     -    0s\n",
      "H    0     0                    1995.1765000  597.55214  70.1%     -    0s\n",
      "     0     0  647.93619    0   13 1995.17650  647.93619  67.5%     -    0s\n",
      "     0     0  683.93937    0    6 1995.17650  683.93937  65.7%     -    0s\n",
      "     0     0  686.61015    0   11 1995.17650  686.61015  65.6%     -    0s\n",
      "     0     0  689.61781    0   10 1995.17650  689.61781  65.4%     -    0s\n",
      "     0     0  698.92157    0   14 1995.17650  698.92157  65.0%     -    0s\n",
      "     0     0  701.04366    0   14 1995.17650  701.04366  64.9%     -    0s\n",
      "     0     0  709.06422    0   17 1995.17650  709.06422  64.5%     -    0s\n",
      "     0     0  709.06422    0   18 1995.17650  709.06422  64.5%     -    0s\n",
      "     0     0  710.07897    0   20 1995.17650  710.07897  64.4%     -    0s\n",
      "     0     0  721.17368    0   18 1995.17650  721.17368  63.9%     -    0s\n",
      "     0     0  721.49030    0   18 1995.17650  721.49030  63.8%     -    0s\n",
      "H    0     0                    1904.0422500  721.49030  62.1%     -    1s\n",
      "     0     2  721.49030    0   18 1904.04225  721.49030  62.1%     -    1s\n",
      "H   35    37                    1901.5157500  721.49030  62.1%  12.7    1s\n",
      "H  510   347                    1882.8255000  721.49030  61.7%   6.2    1s\n",
      "  1891   995 1561.20322   65   13 1882.82550  745.63750  60.4%  12.5    5s\n",
      "H 1898   955                    1810.1530000  745.63750  58.8%  12.4    5s\n",
      " 12677  8613 1575.87361   46   11 1810.15300  828.62645  54.2%  14.0   10s\n",
      " 25711 16138 1416.18007   64   19 1810.15300  916.40238  49.4%  13.5   15s\n",
      " 29277 17632 1494.12831   74   18 1810.15300  937.94200  48.2%  13.7   21s\n",
      " 29298 17646 1071.03156   25   30 1810.15300  937.94200  48.2%  13.7   25s\n",
      " 29315 17657 1483.16756   35   30 1810.15300  937.94200  48.2%  13.7   30s\n",
      " 29333 17669 1152.61434   65   33 1810.15300  944.14946  47.8%  13.7   35s\n",
      " 31497 18355 1471.03816   40   13 1810.15300  944.14946  47.8%  13.9   40s\n",
      " 38874 21545 1530.39491   87   11 1810.15300  944.14946  47.8%  13.9   45s\n",
      " 48105 23493 1582.52532  134   11 1810.15300  944.14946  47.8%  13.9   51s\n",
      " 58372 25515 1297.25603   74   13 1810.15300  969.69280  46.4%  14.1   55s\n",
      " 72222 27325 1216.04868   39   13 1810.15300 1038.89236  42.6%  14.0   60s\n",
      " 85502 30291 1276.25803   70    6 1810.15300 1079.42752  40.4%  13.7   65s\n",
      " 100469 37054 infeasible   91      1810.15300 1125.31272  37.8%  13.5   70s\n",
      " 114432 42918     cutoff  150      1810.15300 1152.21316  36.3%  13.3   75s\n",
      " 129505 48837 infeasible   70      1810.15300 1178.15737  34.9%  13.1   80s\n",
      " 144129 54272 infeasible   49      1810.15300 1196.78529  33.9%  12.9   85s\n",
      " 160331 59953 infeasible  157      1810.15300 1216.11617  32.8%  12.8   90s\n",
      " 176221 65579 infeasible   66      1810.15300 1234.35150  31.8%  12.6   95s\n",
      " 192229 70594 1791.20654  113   13 1810.15300 1251.81650  30.8%  12.5  100s\n",
      " 205064 74464 1730.39898   78   11 1810.15300 1264.59592  30.1%  12.4  105s\n",
      " 215982 77468 1419.33942   44   12 1810.15300 1275.96660  29.5%  12.4  110s\n",
      " 229230 80974 1626.65404  182   11 1810.15300 1288.11823  28.8%  12.3  115s\n",
      " 241506 83743     cutoff   49      1810.15300 1299.54261  28.2%  12.2  120s\n",
      " 254490 86519 1667.59458   55   17 1810.15300 1311.27617  27.6%  12.2  125s\n",
      " 267821 89168 1529.93419  100    9 1810.15300 1324.08756  26.9%  12.1  130s\n",
      " 282835 91841 1553.09339  148    9 1810.15300 1337.63615  26.1%  12.1  135s\n",
      " 298319 94703 1719.38670   65   17 1810.15300 1351.05686  25.4%  12.0  140s\n",
      " 315033 96725     cutoff  228      1810.15300 1366.81317  24.5%  11.9  145s\n",
      " 331319 98438 infeasible  137      1810.15300 1382.60025  23.6%  11.9  150s\n",
      " 342492 99234 infeasible  210      1810.15300 1392.27375  23.1%  11.9  155s\n",
      " 359797 99735 infeasible  151      1810.15300 1408.68365  22.2%  11.8  160s\n",
      " 375461 100218 infeasible   91      1810.15300 1421.30950  21.5%  11.8  165s\n",
      " 390258 100355 1581.54237   77    8 1810.15300 1433.67947  20.8%  11.8  170s\n",
      " 405458 99621 1657.27687  151   12 1810.15300 1446.58133  20.1%  11.8  175s\n",
      " 422030 98422 1510.84010   67   11 1810.15300 1461.87050  19.2%  11.7  180s\n",
      " 437765 96405 1655.17556  154    9 1810.15300 1476.39454  18.4%  11.7  185s\n",
      " 453768 94058 1749.32056  129   11 1810.15300 1490.96606  17.6%  11.7  190s\n",
      " 469258 90993     cutoff  102      1810.15300 1505.49100  16.8%  11.7  195s\n",
      " 486317 86943 1756.91909   89   15 1810.15300 1521.77100  15.9%  11.6  200s\n",
      " 501304 82889 1620.07642  121    9 1810.15300 1535.59191  15.2%  11.6  205s\n",
      " 518034 77050 1666.75139   57    9 1810.15300 1552.82085  14.2%  11.6  210s\n",
      " 535705 70151 infeasible   66      1810.15300 1570.98050  13.2%  11.5  215s\n",
      " 552599 62249 1783.94182  110   15 1810.15300 1589.90741  12.2%  11.5  220s\n",
      " 566817 54729 1659.98039   61   10 1810.15300 1607.66988  11.2%  11.4  225s\n",
      " 589686 40567 infeasible   96      1810.15300 1639.53578  9.43%  11.3  230s\n",
      " 611784 24154 1682.86244  106   12 1810.15300 1680.87394  7.14%  11.2  235s\n",
      "\n",
      "Cutting planes:\n",
      "  Learned: 3\n",
      "  Lift-and-project: 1\n",
      "  Cover: 1\n",
      "  Clique: 1\n",
      "  MIR: 23\n",
      "  StrongCG: 1\n",
      "  Flow cover: 50\n",
      "\n",
      "Explored 639982 nodes (6969472 simplex iterations) in 239.68 seconds (228.77 work units)\n",
      "Thread count was 8 (of 8 available processors)\n",
      "\n",
      "Solution count 7: 1810.15 1810.15 1882.83 ... 2583.94\n",
      "\n",
      "Optimal solution found (tolerance 1.00e-04)\n",
      "Best objective 1.810153000000e+03, best bound 1.810153000000e+03, gap 0.0000%\n",
      "\n",
      "User-callback calls 1315106, time in user-callback 0.59 sec\n"
     ]
    }
   ],
   "source": [
    "optimize!(m)\n",
    ";"
   ]
  },
  {
   "cell_type": "code",
   "execution_count": 467,
   "id": "7f8f75a0",
   "metadata": {},
   "outputs": [],
   "source": [
    "xMTZ = value.(x);"
   ]
  },
  {
   "cell_type": "code",
   "execution_count": 462,
   "id": "54af41b3",
   "metadata": {},
   "outputs": [
    {
     "name": "stdout",
     "output_type": "stream",
     "text": [
      "cost of road trip: $1810.1530000000002\n",
      "\n",
      "arc 1: Acadia --> source\n",
      "arc 2: Cuyahoga_Valley --> Acadia\n",
      "arc 3: source --> Cuyahoga_Valley\n",
      "\n",
      "\n"
     ]
    },
    {
     "data": {
      "text/plain": [
       "3-element Vector{Any}:\n",
       " (\"Acadia\", \"source\")\n",
       " (\"Cuyahoga_Valley\", \"Acadia\")\n",
       " (\"source\", \"Cuyahoga_Valley\")"
      ]
     },
     "execution_count": 462,
     "metadata": {},
     "output_type": "execute_result"
    }
   ],
   "source": [
    "MTZArcs = []\n",
    "MTZCost = objective_value(m)\n",
    "\n",
    "counter = 0\n",
    "\n",
    "println(\"cost of road trip: \\$\", MTZCost, \"\\n\")\n",
    "\n",
    "for i in p\n",
    "    for j in p\n",
    "        if value(x[i, j]) > 0\n",
    "            counter += 1\n",
    "            println(\"arc \", counter, \": \", i, \" --> \", j)\n",
    "            append!(MTZArcs, [(String(i), String(j))])\n",
    "        end\n",
    "    end\n",
    "end\n",
    " println(\"\\n\")\n",
    "# for i in p\n",
    "#     for j in p\n",
    "#         if value(x[i, j]) > 0\n",
    "#             counter += 1\n",
    "#             println(x[i,j])\n",
    "#         end\n",
    "#     end\n",
    "# end\n",
    "MTZArcs"
   ]
  },
  {
   "cell_type": "code",
   "execution_count": 463,
   "id": "0dd44d8c",
   "metadata": {},
   "outputs": [
    {
     "name": "stdout",
     "output_type": "stream",
     "text": [
      "trip mileage: 2799.0\n",
      "trip length: 7.821122685185185 days\n"
     ]
    }
   ],
   "source": [
    "tripMileageMTZ = 0\n",
    "tripDaysMTZ = 0\n",
    "\n",
    "for i in p\n",
    "    for j in p\n",
    "        if value(x[i,j]) > 0\n",
    "            tripMileageMTZ += D[i,j]\n",
    "            tripDaysMTZ += T[i,j]\n",
    "            tripDaysMTZ += s[i]\n",
    "        end\n",
    "    end\n",
    "end\n",
    "\n",
    "println(\"trip mileage: \", tripMileageMTZ)\n",
    "println(\"trip length: \", tripDaysMTZ, \" days\")"
   ]
  },
  {
   "cell_type": "markdown",
   "id": "bb91a831",
   "metadata": {},
   "source": [
    "#### Adapative Subtour Elimination Method\n",
    "This helps eliminate subtours by sort of formulating this similar to the TSP version but with only the set of nodes selected by the first optimal solution (that may include subtours). This limits subtour constraints by not forcing the model to visit all points"
   ]
  },
  {
   "cell_type": "code",
   "execution_count": 439,
   "id": "6c8d07a0",
   "metadata": {},
   "outputs": [],
   "source": [
    "# Code from https://nbviewer.org/github/asmith28/cs524-su22/blob/main/TravelingSalesmanProblem.ipynb\n",
    "# modified to suit our needs\n",
    "\n",
    "# HELPER FUNCTION: returns the cycle containing the park START.\n",
    "function getSubtour(x,start)\n",
    "    subtour = [start]\n",
    "    while true\n",
    "        j = subtour[end]\n",
    "        for k in p\n",
    "            if x[k,j] == 1\n",
    "                push!(subtour,k)\n",
    "                break\n",
    "            end\n",
    "        end\n",
    "        if subtour[end] == start\n",
    "            break\n",
    "        end\n",
    "    end\n",
    "    return subtour\n",
    "end\n",
    "\n",
    "# HELPER FUNCTION: returns a list of all cycles\n",
    "function getAllSubtours(x, specific_parks)\n",
    "    nodesRemaining = specific_parks\n",
    "    subtours = []\n",
    "    while length(nodesRemaining) > 0\n",
    "        subtour = getSubtour(x, nodesRemaining[1])\n",
    "        push!(subtours, subtour)\n",
    "        nodesRemaining = setdiff(nodesRemaining, subtour)\n",
    "    end\n",
    "    return subtours\n",
    "end\n",
    ";\n",
    "\n"
   ]
  },
  {
   "cell_type": "code",
   "execution_count": 440,
   "id": "066606ec",
   "metadata": {},
   "outputs": [
    {
     "name": "stdout",
     "output_type": "stream",
     "text": [
      "Set parameter Username\n",
      "Academic license - for non-commercial use only - expires 2023-07-08\n"
     ]
    }
   ],
   "source": [
    "# parks = [1 2 3 4 5 6 7 8 9 10 11 12 13 14 15 16 17 18 19 20 21 22 23 24 25 26 27 28 29 30 31 32 33 34 35 36 37 38 39 40 41 42 43 44 45 46 47 48 49]\n",
    "\n",
    "m = Model(Gurobi.Optimizer)\n",
    "set_optimizer_attribute(m, \"OutputFlag\", 0)\n",
    "\n",
    "@variable(m, x[p, p], Bin) # flow from one park to another\n",
    "\n",
    "@constraint(m, c1[i in p], sum(x[i,:]) - sum(x[:,i]) == 0)\n",
    "# @constraint(m, x_constr[i in p], x[i, i] == 0)\n",
    "\n",
    "# enforce starting points\n",
    "@constraint(m, sum(x[:source, :]) == 1)\n",
    "@constraint(m, sum(x[:, :source]) == 1)\n",
    "\n",
    "@constraint(m, self_loop[i in p], x[i, i] == 0) # no self-loops\n",
    "# @constraint(m, sum(days[i]*sum(x[i,:]) for i in p) >= 7) # Min days spent\n",
    "# @constraint(m, sum(days[i]*sum(x[i,:]) for i in p) <= 14) # Max days spent\n",
    "\n",
    "# travel time constraints\n",
    "@constraint(m, sum(s[i] * x[i, j] for i in p for j in p) \n",
    "    + sum(T[i, j] * x[i, j] for i in p for j in p) <= maxTravel)\n",
    "\n",
    "@constraint(m, sum(s[i] * x[i, j] for i in p for j in p) \n",
    "    + sum(T[i, j] * x[i, j] for i in p for j in p) >= minTravel)\n",
    "\n",
    "\n",
    "# @objective(m, Min, sum(cost[i, j] * x[i, j] for i in parks, j in parks))\n",
    "@objective(m, Min, sum(c[i] * x[i, j] for i in p for j in p) \n",
    "    + sum(g[i, j] * x[i, j] for i in p for j in p))\n",
    ";"
   ]
  },
  {
   "cell_type": "markdown",
   "id": "728fdb89",
   "metadata": {},
   "source": [
    "The code below uses adaptive subtour elimination to add constraints that prevent subtours from forming. I've also modified the `getAllSubtours` helper function to only filter through the unique nodes provided by the first-run solution that may contain subtours. As Julia thinks this is optimal, we will add constraints to not have subtours for those. After this, Julia will iteratively run this code to determine the optimal solution with the no-subtour constraints applied"
   ]
  },
  {
   "cell_type": "code",
   "execution_count": 441,
   "id": "8468004c",
   "metadata": {},
   "outputs": [
    {
     "name": "stdout",
     "output_type": "stream",
     "text": [
      "Tour cost: 653.528\n"
     ]
    },
    {
     "data": {
      "text/plain": [
       "2-element Vector{Any}:\n",
       " [:Great_Smoky_Mountains, :New_River_Gorge, :Great_Smoky_Mountains]\n",
       " [:Indiana_Dunes, :source, :Indiana_Dunes]"
      ]
     },
     "metadata": {},
     "output_type": "display_data"
    },
    {
     "name": "stdout",
     "output_type": "stream",
     "text": [
      "Tour cost: 674.90775\n"
     ]
    },
    {
     "data": {
      "text/plain": [
       "1-element Vector{Any}:\n",
       " [:Cuyahoga_Valley, :Great_Smoky_Mountains, :source, :Cuyahoga_Valley]"
      ]
     },
     "metadata": {},
     "output_type": "display_data"
    },
    {
     "name": "stdout",
     "output_type": "stream",
     "text": [
      "SOLVED!\n",
      "[:Cuyahoga_Valley, :Great_Smoky_Mountains, :source, :Cuyahoga_Valley]\n",
      "Any[[:Cuyahoga_Valley, :Great_Smoky_Mountains, :source, :Cuyahoga_Valley]]\n",
      "[:Cuyahoga_Valley, :Great_Smoky_Mountains, :source, :Cuyahoga_Valley]\n",
      "Any[[:Cuyahoga_Valley, :Great_Smoky_Mountains, :source, :Cuyahoga_Valley]]\n",
      "[:Cuyahoga_Valley, :Great_Smoky_Mountains, :source, :Cuyahoga_Valley]\n",
      "Any[[:Cuyahoga_Valley, :Great_Smoky_Mountains, :source, :Cuyahoga_Valley]]\n",
      "[:Cuyahoga_Valley, :Great_Smoky_Mountains, :source, :Cuyahoga_Valley]\n",
      "Any[[:Cuyahoga_Valley, :Great_Smoky_Mountains, :source, :Cuyahoga_Valley]]\n",
      "Total days spent: 8\n",
      "[:Cuyahoga_Valley, :source]\n",
      "[:Great_Smoky_Mountains, :Cuyahoga_Valley]\n",
      "[:source, :Great_Smoky_Mountains]\n",
      "[:Cuyahoga_Valley, :Great_Smoky_Mountains, :source, :Cuyahoga_Valley]\n"
     ]
    }
   ],
   "source": [
    "# Code from https://nbviewer.org/github/asmith28/cs524-su22/blob/main/TravelingSalesmanProblem.ipynb\n",
    "\n",
    "sols = []\n",
    "opt_sol = []\n",
    "\n",
    "# We'll run the heuristic 30 times and hope we get an optimal solution\n",
    "for iters = 1:30\n",
    "    optimize!(m)\n",
    "    # total  length of current tour\n",
    "    println(\"Tour cost: \", objective_value(m))\n",
    "    xx = value.(x) # save solution\n",
    "    push!(sols, xx) # save solution\n",
    "\n",
    "    nodes = []\n",
    "    for i in p\n",
    "        for j in p\n",
    "            if Int(value(x[i, j])) == 1\n",
    "                append!(nodes, [i, j])\n",
    "            end\n",
    "        end\n",
    "    end\n",
    "\n",
    "    subtours = getAllSubtours(xx, unique!(nodes))  # get all the subtours\n",
    "    display(subtours)\n",
    "    sleep(1)\n",
    "    # get length of the subtour list\n",
    "    len = length(subtours)\n",
    "    if len == 1\n",
    "        # solution is just a single tour!\n",
    "        println(\"SOLVED!\")\n",
    "\n",
    "        # Calculate total days spent\n",
    "        tot_days = 0\n",
    "        for day in subtours[1]\n",
    "            tot_days += s[day]\n",
    "            println(subtours[1])\n",
    "            println(subtours)\n",
    "        end\n",
    "        println(\"Total days spent: \", tot_days)\n",
    "\n",
    "        # Show the optimal route\n",
    "        for i in p\n",
    "            for j in p\n",
    "                if Int(value(x[i,j])) == 1\n",
    "                    println([i,j])\n",
    "                end\n",
    "            end\n",
    "        end\n",
    "        opt_sol = subtours[1]\n",
    "        println(opt_sol)\n",
    "\n",
    "        break\n",
    "    else\n",
    "        for subtour in subtours\n",
    "            L = length(subtour)\n",
    "            # add constraints that cut off each subtour in the list (add two for each subtour)\n",
    "            @constraint(m, sum(x[subtour[k+1], subtour[k]] for k = 1:L-1) <= L - 2)\n",
    "            @constraint(m, sum(x[subtour[k], subtour[k+1]] for k = 1:L-1) <= L - 2)\n",
    "        end\n",
    "    end\n",
    "end"
   ]
  },
  {
   "cell_type": "code",
   "execution_count": 442,
   "id": "23d8da70",
   "metadata": {},
   "outputs": [
    {
     "data": {
      "text/plain": [
       "674.90775"
      ]
     },
     "execution_count": 442,
     "metadata": {},
     "output_type": "execute_result"
    }
   ],
   "source": [
    "objective_value(m)"
   ]
  },
  {
   "cell_type": "code",
   "execution_count": 429,
   "id": "31bb22f7",
   "metadata": {},
   "outputs": [
    {
     "name": "stdout",
     "output_type": "stream",
     "text": [
      "Arcs in optimal solution are:\n"
     ]
    },
    {
     "data": {
      "text/plain": [
       "3-element Vector{Any}:\n",
       " [:Cuyahoga_Valley, :source]\n",
       " [:Great_Smoky_Mountains, :Cuyahoga_Valley]\n",
       " [:source, :Great_Smoky_Mountains]"
      ]
     },
     "execution_count": 429,
     "metadata": {},
     "output_type": "execute_result"
    }
   ],
   "source": [
    "println(\"Arcs in optimal solution are:\")\n",
    "path_opt = []\n",
    "for i in p\n",
    "    for j in p\n",
    "        if Int(value(x[i,j])) == 1\n",
    "            append!(path_opt, [[i,j]])\n",
    "        end\n",
    "    end\n",
    "end\n",
    "\n",
    "# This describes the __actual__ arcs of the solution rather than\n",
    "# the nodes as shown when a subtour of length 1 is found\n",
    "# NOTE: the way the solution is drawn will be the same as it's a closed loop\n",
    "# but the optimal objective value depends on the arcs\n",
    "path_opt"
   ]
  },
  {
   "cell_type": "code",
   "execution_count": 430,
   "id": "4a6f2740",
   "metadata": {},
   "outputs": [],
   "source": [
    "# println(c[:Acadia], \" \", c[:Great_Smoky_Mountains])\n",
    "# println(s[:Acadia], \" \", s[:Great_Smoky_Mountains])\n",
    "# println(l[:Acadia], \" \", l[:Great_Smoky_Mountains])\n",
    "# println(e[:Acadia], \" \", e[:Great_Smoky_Mountains])\n"
   ]
  },
  {
   "cell_type": "code",
   "execution_count": 431,
   "id": "92f207ff",
   "metadata": {},
   "outputs": [
    {
     "name": "stdout",
     "output_type": "stream",
     "text": [
      "trip mileage: 1739.0\n",
      "trip length: 7.0984375 days\n"
     ]
    }
   ],
   "source": [
    "tripMileageASE = 0\n",
    "tripDaysASE = 0\n",
    "\n",
    "for i in p\n",
    "    for j in p\n",
    "        if value(x[i,j]) > 0\n",
    "            tripMileageASE += D[i,j]\n",
    "            tripDaysASE += T[i,j]\n",
    "            tripDaysASE += s[i]\n",
    "        end\n",
    "    end\n",
    "end\n",
    "\n",
    "println(\"trip mileage: \", tripMileageASE)\n",
    "println(\"trip length: \", tripDaysASE, \" days\")"
   ]
  },
  {
   "cell_type": "markdown",
   "id": "08ee9110",
   "metadata": {},
   "source": [
    "## 4. Results and Discussion ##"
   ]
  },
  {
   "cell_type": "markdown",
   "id": "538ac8a3",
   "metadata": {},
   "source": [
    "### MTZ Results"
   ]
  },
  {
   "cell_type": "code",
   "execution_count": 503,
   "id": "8ad33770",
   "metadata": {},
   "outputs": [
    {
     "name": "stdout",
     "output_type": "stream",
     "text": [
      "cost of road trip: $1810.15\n",
      "\n",
      "gas cost: $572.02\n",
      "lodging and entrance fee cost: $1238.00\n",
      "\n",
      "trip mileage: 2799.0\n",
      "trip length: 7.82 days\n"
     ]
    }
   ],
   "source": [
    "println(\"cost of road trip: \\$\", round(MTZCost, digits=2), \"\\n\")\n",
    "println(\"gas cost: \\$\", round(sum(convert(Array, g) .* Matrix(xMTZ))), 2)\n",
    "println(\"lodging and entrance fee cost: \\$\", round(sum(convert(Array, c) .* Matrix(xMTZ)), digits=2), \"0\\n\")\n",
    "println(\"trip mileage: \", tripMileageMTZ)\n",
    "println(\"trip length: \", round(tripDaysMTZ, digits=2), \" days\")"
   ]
  },
  {
   "cell_type": "code",
   "execution_count": 526,
   "id": "1279eef6",
   "metadata": {},
   "outputs": [
    {
     "data": {
      "text/plain": [
       "3-element Vector{Any}:\n",
       " (\"Acadia\", \"source\")\n",
       " (\"Cuyahoga_Valley\", \"Acadia\")\n",
       " (\"source\", \"Cuyahoga_Valley\")"
      ]
     },
     "execution_count": 526,
     "metadata": {},
     "output_type": "execute_result"
    }
   ],
   "source": [
    "MTZArcs"
   ]
  },
  {
   "cell_type": "markdown",
   "id": "2b20b39d",
   "metadata": {},
   "source": [
    "This version of our model found the optimal path to be UW-Madison --> Cuyahoga Valley --> Acadia --> UW-Madison."
   ]
  },
  {
   "cell_type": "markdown",
   "id": "633e7a7a",
   "metadata": {},
   "source": [
    "### Adaptive Subtour Elimination Results"
   ]
  },
  {
   "cell_type": "code",
   "execution_count": null,
   "id": "d65ccca6",
   "metadata": {},
   "outputs": [],
   "source": []
  },
  {
   "cell_type": "code",
   "execution_count": null,
   "id": "7869f0c6",
   "metadata": {},
   "outputs": [],
   "source": []
  },
  {
   "cell_type": "code",
   "execution_count": null,
   "id": "4f0b433f",
   "metadata": {},
   "outputs": [],
   "source": []
  },
  {
   "cell_type": "markdown",
   "id": "85a45ed2",
   "metadata": {},
   "source": [
    "### General Discussion"
   ]
  },
  {
   "cell_type": "code",
   "execution_count": null,
   "id": "192d1e3d",
   "metadata": {},
   "outputs": [],
   "source": []
  },
  {
   "cell_type": "code",
   "execution_count": null,
   "id": "c6f1f7c2",
   "metadata": {},
   "outputs": [],
   "source": []
  },
  {
   "cell_type": "markdown",
   "id": "fea55f07",
   "metadata": {},
   "source": [
    "## 5. Conclusion ##"
   ]
  },
  {
   "cell_type": "code",
   "execution_count": null,
   "id": "35265389",
   "metadata": {},
   "outputs": [],
   "source": []
  }
 ],
 "metadata": {
  "kernelspec": {
   "display_name": "Julia 1.7.3",
   "language": "julia",
   "name": "julia-1.7"
  },
  "language_info": {
   "file_extension": ".jl",
   "mimetype": "application/julia",
   "name": "julia",
   "version": "1.7.3"
  }
 },
 "nbformat": 4,
 "nbformat_minor": 5
}
