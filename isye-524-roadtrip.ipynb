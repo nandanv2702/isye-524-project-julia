{
 "cells": [
  {
   "cell_type": "markdown",
   "id": "38641d28",
   "metadata": {},
   "source": [
    "### CS/ECE/ISyE 524 &mdash; Introduction to Optimization &mdash; Summer 2022 ###\n",
    "\n",
    "# Road Trip Optimizer #\n",
    "\n",
    "#### Alex Gilmore (asgilmore@wisc.edu), Nandan Venkatesan (nvenkatesan2@wisc.edu), and Brendan Zimmer (btzimmer@wisc.edu)\n",
    "\n",
    "### Table of Contents\n",
    "\n",
    "1. [Introduction](#1.-Introduction)\n",
    "1. [Mathematical Model](#2.-Mathematical-Model)\n",
    "1. [Solution](#3.-Solution)\n",
    "1. [Results and Discussion](#4.-Results-and-Discussion)\n",
    "1. [Conclusion](#5.-Conclusion)\n",
    "1. [Sources](#5.-Sources)"
   ]
  },
  {
   "cell_type": "markdown",
   "id": "4e761dc8",
   "metadata": {},
   "source": [
    "## 1. Introduction ##"
   ]
  },
  {
   "cell_type": "markdown",
   "id": "ed06fa15",
   "metadata": {},
   "source": [
    "add from google doc"
   ]
  },
  {
   "cell_type": "markdown",
   "id": "c09a82d2",
   "metadata": {},
   "source": [
    "## 2. Mathematical Model ##"
   ]
  },
  {
   "cell_type": "markdown",
   "id": "646f9580",
   "metadata": {},
   "source": [
    "We are utilizing an MCNF framework to solve our primary problem. The source and sink will be identical since we are interested in only round trips and we will be implementing a minimum trip length to prevent the model from cutting the trip short to reduce cost."
   ]
  },
  {
   "cell_type": "markdown",
   "id": "01da0564",
   "metadata": {},
   "source": [
    "let p be a list of national parks and our starting location\n",
    "\n",
    "let $x_{ij}$ be a matrix representing if an arc is chosen $\\forall i \\in p, \\forall j \\in p$\n",
    "\n",
    "let $u_i$ be a vector representing the order of chosen nodes $\\forall i \\in p$\n",
    "\n",
    "let $e_i$ be a vector of entrance fees $\\forall i \\in p$\n",
    "\n",
    "let $l_i$ be a vector of est. lodging fees $\\forall i \\in p$\n",
    "\n",
    "let $s_i$ be a vector of length of stays $\\forall i \\in p$\n",
    "\n",
    "let $c_i$ be a vector of the total lodging and entrance fee cost $\\forall i \\in p$\n",
    "\n",
    "let $g_{ij}$ be a matrix of gas prices $\\forall i \\in p, \\forall j \\in p$\n",
    "\n",
    "let $D_{ij}$ be a matrix of  arc distances (miles) $\\forall i \\in p, \\forall j \\in p$\n",
    "\n",
    "let $T_{ij}$ be a matrix of arc times (days) $\\forall i \\in p, \\forall j \\in p$\n",
    "\n",
    "let M be the maximum days allowed to travel\n",
    "\n",
    "let m be the minimum days allowed to travel\n",
    "\n",
    "let n be the total number of locations that can be visited\n",
    "\n",
    "let v be a variable for standard form adjustment"
   ]
  },
  {
   "cell_type": "markdown",
   "id": "de436c62",
   "metadata": {},
   "source": [
    "#### Miller-Tucker-Zemlin Model"
   ]
  },
  {
   "cell_type": "markdown",
   "id": "b52a7f11",
   "metadata": {},
   "source": [
    "This model utilizes logical constraints to ensure a unified path between the subset of selected nodes. "
   ]
  },
  {
   "cell_type": "markdown",
   "id": "68129fb9",
   "metadata": {},
   "source": [
    "\\begin{align*}\n",
    "\\underset{x}{\\max} \\ & - \\underset{(ij) \\in p}\\Sigma\\ c_{i} x_{ij} - \\underset{(ij) \\in p}\\Sigma\\ g_{ij} x_{ij}  & \\\\\n",
    "\\text{s.t.} \\ & \\underset{(ij) \\in p}\\Sigma\\ s_{i} x_{ij} + \\underset{(ij) \\in p}\\Sigma\\ T_{ij} x_{ij} \\le M &\\\\\n",
    "& - \\underset{(ij) \\in p}\\Sigma\\ s_{i} x_{ij} - \\underset{(ij) \\in p}\\Sigma\\ T_{ij} x_{ij} \\le - m &\\\\\n",
    "& \\underset{i \\in p} \\Sigma\\ x_{i, origin} \\le 1 & \\\\\n",
    "& - \\underset{i \\in p} \\Sigma\\ x_{i, origin} \\le -1 & \\\\\n",
    "& \\underset{j \\in p} \\Sigma\\ x_{origin, j} \\le 1 & \\\\\n",
    "& - \\underset{j \\in p} \\Sigma\\ x_{origin, j} \\le -1 & \\\\\n",
    "& \\underset{j \\in p} \\Sigma\\ x_{kj} \\le 1, \\forall k \\in p & \\\\\n",
    "& \\underset{i \\in p} \\Sigma\\ x_{ik} \\le 1, \\forall k \\in p & \\\\\n",
    "& u_i - u_j + n * x_{ij} \\le n - 1, \\forall i \\in p, j \\in p[2:end] &\\\\\n",
    "& - \\underset{k \\in p} \\Sigma\\ x_{jk} + x_{ij} \\le 0 , \\forall i \\in p, j \\in p & \\\\\n",
    "& x_{ij} \\in \\{0, 1\\} \\ \\forall i \\in p, \\forall j \\in p& \\\\\n",
    "& 0 \\le v & \\\\\n",
    "& v \\le n - 1 & \\\\\n",
    "& v \\le u_i - 1, \\forall i \\in p & \\\\\n",
    "& - v \\le - u_i + 1, \\forall i \\in p & \\\\\n",
    "\\end{align*}"
   ]
  },
  {
   "cell_type": "markdown",
   "id": "d825903b",
   "metadata": {},
   "source": [
    "Variables:\n",
    "\n",
    "- $x_{ij}$ = $\\left\\{ \\begin{array}{ll}\n",
    "        1 \\ \\mbox{if arc $x_{ij}$ is in road trip path} \\\\\n",
    "        0 \\ \\mbox{otherwise} & \n",
    "    \\end{array} \\right\\}$\n",
    "    \n",
    "    \n",
    "- $u_i$ = indicates the order of active nodes in the sequence\n",
    "\n",
    "Constraints:\n",
    "1. The total time traveled must be less than the maximum travel time.\n",
    "\n",
    "\n",
    "2. The total time traveled must be more than the minimum desired travel time. This prevents the model from decreasing the trip length in an effort to reduce the trip cost. \n",
    "\n",
    "\n",
    "3, 4, 5, 6. This requires the origin to be included in the sequence loop\n",
    "\n",
    "\n",
    "7, 8. This pair requires that each node has at most one entering and at most one leaving edge\n",
    "\n",
    "\n",
    "9. This is the Miller-Tucker-Zemlin logical constraint. It ensures that u will increase along successive nodes in the sequence.\n",
    "\n",
    "\n",
    "10. This is a logical constraint that ensures if a node has an active entering arc, then it must have an active leaving arc.\n",
    "\n",
    "\n",
    "11. $x_{ij}$ is either 0 or 1.\n",
    "\n",
    "12, 13, 14, 15. $u_i$ has a lower bound of 1 and an upper bound of n\n",
    "\n",
    "Objective Function:\n",
    "- This is minimzing the collective cost of visiting parks + the gas cost of traveling between all parks. "
   ]
  },
  {
   "cell_type": "markdown",
   "id": "71a69d7a",
   "metadata": {},
   "source": [
    "#### Adapative Subtour Elimination Model"
   ]
  },
  {
   "cell_type": "markdown",
   "id": "fe8228ce",
   "metadata": {},
   "source": [
    "This model utilizes iteration and eliminates any present subtours for the following run until a unified path is achieved. "
   ]
  },
  {
   "cell_type": "markdown",
   "id": "d574e7bb",
   "metadata": {},
   "source": [
    "\\begin{align*}\n",
    "\\underset{x}{\\max} \\ & - \\underset{(ij) \\in p}\\Sigma\\ c_{i} x_{ij} - \\underset{(ij) \\in p}\\Sigma\\ g_{ij} x_{ij}  & \\\\\n",
    "\\text{s.t.} \\ & \\underset{(ij) \\in p}\\Sigma\\ s_{i} x_{ij} + \\underset{(ij) \\in p}\\Sigma\\ T_{ij} x_{ij} \\le M &\\\\\n",
    "& - \\underset{(ij) \\in p}\\Sigma\\ s_{i} x_{ij} - \\underset{(ij) \\in p}\\Sigma\\ T_{ij} x_{ij} \\le - m &\\\\\n",
    "& \\underset{i \\in p} \\Sigma\\ x_{i, origin} \\le 1 & \\\\\n",
    "& - \\underset{i \\in p} \\Sigma\\ x_{i, origin} \\le -1 & \\\\\n",
    "& \\underset{j \\in p} \\Sigma\\ x_{origin, j} \\le 1 & \\\\\n",
    "& - \\underset{j \\in p} \\Sigma\\ x_{origin, j} \\le -1 & \\\\\n",
    "& \\underset{j \\in p} \\Sigma\\ x_{ij} - \\underset{i \\in p} \\Sigma\\ x_{ij} \\le 0 & \\\\\n",
    "& - \\underset{j \\in p} \\Sigma\\ x_{ij} + \\underset{i \\in p} \\Sigma\\ x_{ij} \\le 0 & \\\\\n",
    "& x_{ij} \\in \\{0, 1\\} \\ \\forall i \\in p, \\forall j \\in p& \\\\\n",
    "& & \\\\\n",
    "\\end{align*}"
   ]
  },
  {
   "cell_type": "markdown",
   "id": "d28b63da",
   "metadata": {},
   "source": [
    "Variables:\n",
    "\n",
    "- $x_{ij}$ = $\\left\\{ \\begin{array}{ll}\n",
    "        1 \\ \\mbox{if arc $x_{ij}$ is in road trip path} \\\\\n",
    "        0 \\ \\mbox{otherwise} & \n",
    "    \\end{array} \\right\\}$\n",
    "    \n",
    "\n",
    "\n",
    "Constraints:\n",
    "1. The total time traveled must be less than the maximum travel time.\n",
    "\n",
    "\n",
    "2. The total time traveled must be more than the minimum desired travel time. This prevents the model from decreasing the trip length in an effort to reduce the trip cost. \n",
    "\n",
    "\n",
    "3, 4, 5, 6. This requires the origin to be included in the sequence loop\n",
    "\n",
    "\n",
    "7, 8. This pair requires that if a node has an active entering arc, it must have an active leaving arc.\n",
    "\n",
    "9. $x_{ij}$ is either 0 or 1.\n",
    "\n",
    "\n",
    "Objective Function:\n",
    "- This is minimzing the collective cost of visiting parks + the gas cost of traveling between all parks. "
   ]
  },
  {
   "cell_type": "markdown",
   "id": "added231",
   "metadata": {},
   "source": [
    "## 3. Solution ##"
   ]
  },
  {
   "cell_type": "markdown",
   "id": "c3b7777f",
   "metadata": {},
   "source": [
    "### data entry"
   ]
  },
  {
   "cell_type": "code",
   "execution_count": 197,
   "id": "70d735b3",
   "metadata": {},
   "outputs": [],
   "source": [
    "using Clp, Gurobi, JuMP, NamedArrays, CSV, DataFrames"
   ]
  },
  {
   "cell_type": "code",
   "execution_count": 346,
   "id": "3d84e1ab",
   "metadata": {},
   "outputs": [],
   "source": [
    "df = DataFrame(CSV.File(\"park_data.csv\"))\n",
    "\n",
    "push!(df, (\"source\", \"\", 0, 0, 0, 3.5))\n",
    "\n",
    "pTemp = df[!, \"park name\"]\n",
    "p = Array{Symbol}(undef, length(pTemp))\n",
    "\n",
    "# format parks list to symbols\n",
    "for i in [1:1:length(pTemp);]\n",
    "    pTemp[i] = replace(pTemp[i], \" \" => \"_\", \"–\" => \"_\", \".\" => \"\")\n",
    "    p[i] = Symbol(pTemp[i])\n",
    "end \n",
    "\n",
    "e = NamedArray(df[!, \"entrance fee\"], (p))\n",
    "\n",
    "l = NamedArray(df[!, \"lodging\"], (p))\n",
    "\n",
    "s = NamedArray(df[!, \"est. length of stay\"], (p))\n",
    "\n",
    "parkGas = NamedArray(df[!, \"gas price\"], (p)) \n",
    "\n",
    ";"
   ]
  },
  {
   "cell_type": "markdown",
   "id": "cd7b6748",
   "metadata": {},
   "source": [
    "$c = s * (l + e)$"
   ]
  },
  {
   "cell_type": "code",
   "execution_count": 347,
   "id": "964f207f",
   "metadata": {},
   "outputs": [],
   "source": [
    "c = s .* (l + e)\n",
    ";"
   ]
  },
  {
   "cell_type": "code",
   "execution_count": 348,
   "id": "fcfe9dc5",
   "metadata": {},
   "outputs": [
    {
     "data": {
      "text/plain": [
       "(49,)"
      ]
     },
     "execution_count": 348,
     "metadata": {},
     "output_type": "execute_result"
    }
   ],
   "source": [
    "dist = DataFrame(CSV.File(\"arc_data_dist_all.csv\"))\n",
    "\n",
    "time = DataFrame(CSV.File(\"arc_data_time_all.csv\"))\n",
    "\n",
    "size(time[1:49, 2:50])\n",
    "size(p)"
   ]
  },
  {
   "cell_type": "code",
   "execution_count": 351,
   "id": "a781d31f",
   "metadata": {},
   "outputs": [],
   "source": [
    "D = Float64.(NamedArray(Matrix(dist[1:49,2:50]), (p, p), (\"entering\", \"leaving\")))\n",
    "T = NamedArray(Matrix(time[1:49,2:50]), (p, p), (\"entering\", \"leaving\"))\n",
    ";"
   ]
  },
  {
   "cell_type": "code",
   "execution_count": 352,
   "id": "14057b0a",
   "metadata": {},
   "outputs": [],
   "source": [
    "T = T ./ 86400 # convert time from seconds to days\n",
    ";"
   ]
  },
  {
   "cell_type": "markdown",
   "id": "1ebb26f0",
   "metadata": {},
   "source": [
    "$g_{ij} =  \\frac{parkGas_i + parkGas_j}{2} * \\frac{1}{milesPerGallon} * D_{ij}$"
   ]
  },
  {
   "cell_type": "code",
   "execution_count": 353,
   "id": "3e6b3556",
   "metadata": {},
   "outputs": [
    {
     "name": "stdout",
     "output_type": "stream",
     "text": [
      "acadia to yosemite distance: 3100.0 miles\n",
      "acadia to yosemite estimated gas cost: $795.15\n",
      "acadia to yosemite time : 1.9795138888888888 days\n"
     ]
    }
   ],
   "source": [
    "# calculate the gas cost matrix\n",
    "\n",
    "milesPerGallon = 20.0\n",
    "\n",
    "g = copy(D)\n",
    "\n",
    "for i in p\n",
    "    for j in p\n",
    "        g[i, j] = (parkGas[i] + parkGas[j]) / (2milesPerGallon) * g[i, j]\n",
    "    end\n",
    "end\n",
    "\n",
    "println(\"acadia to yosemite distance: \", D[:Acadia, :Yosemite], \" miles\")\n",
    "println(\"acadia to yosemite estimated gas cost: \\$\", g[:Acadia, :Yosemite])\n",
    "println(\"acadia to yosemite time : \", T[:Acadia, :Yosemite], \" days\")"
   ]
  },
  {
   "cell_type": "code",
   "execution_count": 356,
   "id": "af0db060",
   "metadata": {},
   "outputs": [],
   "source": [
    "# set travel length boundaries\n",
    "\n",
    "maxTravel = 14\n",
    "minTravel = 7\n",
    ";"
   ]
  },
  {
   "cell_type": "code",
   "execution_count": 382,
   "id": "e89eb860",
   "metadata": {},
   "outputs": [],
   "source": [
    "# set n (total number of parks)\n",
    "n = length(p)\n",
    ";"
   ]
  },
  {
   "cell_type": "markdown",
   "id": "5170697d",
   "metadata": {},
   "source": [
    "### model "
   ]
  },
  {
   "cell_type": "markdown",
   "id": "9e6b15b6",
   "metadata": {},
   "source": [
    "#### Miller-Tucker-Zemlin method"
   ]
  },
  {
   "cell_type": "code",
   "execution_count": 550,
   "id": "e4ba7f32",
   "metadata": {},
   "outputs": [
    {
     "name": "stdout",
     "output_type": "stream",
     "text": [
      "Set parameter Username\n",
      "Academic license - for non-commercial use only - expires 2023-07-08\n"
     ]
    }
   ],
   "source": [
    "m = Model(Gurobi.Optimizer)\n",
    "\n",
    "@variable(m, x[p, p], Bin)\n",
    "@variable(m, 1 <= u[p] <= n)\n",
    "\n",
    "@objective(m, Min, sum(c[i] * x[i, j] for i in p for j in p) \n",
    "    + sum(g[i, j] * x[i, j] for i in p for j in p))\n",
    "\n",
    "# travel time constraints\n",
    "@constraint(m, sum(s[i] * x[i, j] for i in p for j in p) \n",
    "    + sum(T[i, j] * x[i, j] for i in p for j in p) <= maxTravel)\n",
    "\n",
    "@constraint(m, sum(s[i] * x[i, j] for i in p for j in p) \n",
    "    + sum(T[i, j] * x[i, j] for i in p for j in p) >= minTravel)\n",
    "\n",
    "# no self loops constraint\n",
    "@constraint(m, x_constr[i in p], x[i, i] == 0)\n",
    "\n",
    "# start at source, end at sink constraints\n",
    "@constraint(m, start_constr, sum(x[:source, j] for j in p) == 1)\n",
    "@constraint(m, end_constr, sum(x[i, :source] for i in p) == 1)\n",
    "\n",
    "# MTZ logical constraint\n",
    "@constraint(m, MTZ[i in p, j in p[2:end]], u[i] - u[j] + n*x[i, j] <= n - 1)\n",
    "\n",
    "# one out edge, one in edge constraints (at most)\n",
    "@constraint(m, x_row_constr[k in p], sum(x[k, j] for j in p) <= 1)\n",
    "@constraint(m, x_col_constr[k in p], sum(x[i, k] for i in p) <= 1)\n",
    "\n",
    "# sequential connections logical constraint\n",
    "@constraint(m, connections[i in p, j in p], sum(x[j, k] for k in p) + -1*x[i,j] >= -1 + 1)\n",
    "\n",
    "\n",
    ";"
   ]
  },
  {
   "cell_type": "code",
   "execution_count": 551,
   "id": "b75d3bce",
   "metadata": {},
   "outputs": [
    {
     "name": "stdout",
     "output_type": "stream",
     "text": [
      "Gurobi Optimizer version 9.5.2 build v9.5.2rc0 (mac64[x86])\n",
      "Thread count: 4 physical cores, 8 logical processors, using up to 8 threads\n",
      "Optimize a model with 4904 rows, 2450 columns and 136661 nonzeros\n",
      "Model fingerprint: 0x077b2aed\n",
      "Variable types: 49 continuous, 2401 integer (2401 binary)\n",
      "Coefficient statistics:\n",
      "  Matrix range     [1e-01, 1e+01]\n",
      "  Objective range  [4e+01, 4e+03]\n",
      "  Bounds range     [1e+00, 5e+00]\n",
      "  RHS range        [1e+00, 1e+01]\n",
      "Found heuristic solution: objective 2583.9440000\n",
      "Presolve removed 2720 rows and 227 columns\n",
      "Presolve time: 0.23s\n",
      "Presolved: 2184 rows, 2223 columns, 14835 nonzeros\n",
      "Variable types: 47 continuous, 2176 integer (2176 binary)\n",
      "\n",
      "Root relaxation: objective 5.975521e+02, 36 iterations, 0.00 seconds (0.00 work units)\n",
      "\n",
      "    Nodes    |    Current Node    |     Objective Bounds      |     Work\n",
      " Expl Unexpl |  Obj  Depth IntInf | Incumbent    BestBd   Gap | It/Node Time\n",
      "\n",
      "     0     0  597.55214    0   13 2583.94400  597.55214  76.9%     -    0s\n",
      "H    0     0                    1995.1765000  597.55214  70.1%     -    0s\n",
      "     0     0  647.93619    0   13 1995.17650  647.93619  67.5%     -    0s\n",
      "     0     0  683.93937    0    6 1995.17650  683.93937  65.7%     -    0s\n",
      "     0     0  686.61015    0   11 1995.17650  686.61015  65.6%     -    0s\n",
      "     0     0  689.61781    0   10 1995.17650  689.61781  65.4%     -    0s\n",
      "     0     0  698.92157    0   14 1995.17650  698.92157  65.0%     -    0s\n",
      "     0     0  701.04366    0   14 1995.17650  701.04366  64.9%     -    0s\n",
      "     0     0  709.06422    0   17 1995.17650  709.06422  64.5%     -    0s\n",
      "     0     0  709.06422    0   18 1995.17650  709.06422  64.5%     -    0s\n",
      "     0     0  710.07897    0   20 1995.17650  710.07897  64.4%     -    0s\n",
      "     0     0  721.17368    0   18 1995.17650  721.17368  63.9%     -    0s\n",
      "     0     0  721.49030    0   18 1995.17650  721.49030  63.8%     -    0s\n",
      "H    0     0                    1904.0422500  721.49030  62.1%     -    1s\n",
      "     0     2  721.49030    0   18 1904.04225  721.49030  62.1%     -    1s\n",
      "H   35    37                    1901.5157500  721.49030  62.1%  12.7    1s\n",
      "H  510   347                    1882.8255000  721.49030  61.7%   6.2    1s\n",
      "H 1898   955                    1810.1530000  745.63750  58.8%  12.4    4s\n",
      "  1948  1005 1398.36203   67   12 1810.15300  745.63750  58.8%  12.6    5s\n",
      " 14030  9510 1523.55800  117   12 1810.15300  838.36080  53.7%  13.8   10s\n",
      " 26926 16867 1364.26269   73    9 1810.15300  920.07552  49.2%  13.6   15s\n",
      " 29277 17632 1494.12831   74   18 1810.15300  937.94200  48.2%  13.7   20s\n",
      " 29302 17649 1087.03315   65   35 1810.15300  937.94200  48.2%  13.7   25s\n",
      " 29322 17662 1412.52242   78   32 1810.15300  937.94200  48.2%  13.7   30s\n",
      " 29436 17721  944.14946   32   22 1810.15300  944.14946  47.8%  13.8   35s\n",
      " 36560 20366 1426.24256  122   13 1810.15300  944.14946  47.8%  14.0   40s\n",
      " 48105 23493 1582.52532  134   11 1810.15300  944.14946  47.8%  13.9   46s\n",
      " 58372 25515 1297.25603   74   13 1810.15300  969.69280  46.4%  14.1   50s\n",
      " 74044 27789 infeasible   70      1810.15300 1044.52846  42.3%  13.9   55s\n",
      " 88867 31948 1664.29443  128   10 1810.15300 1090.15258  39.8%  13.7   60s\n",
      " 104826 39108 1514.43200   78   12 1810.15300 1134.95931  37.3%  13.5   65s\n",
      " 120398 45275 1625.84064   66    8 1810.15300 1162.67691  35.8%  13.3   70s\n",
      " 135901 51134 1644.49432   41   13 1810.15300 1185.90775  34.5%  13.0   75s\n",
      " 152008 57190 1464.66800  201    6 1810.15300 1206.31579  33.4%  12.9   80s\n",
      " 168664 62961 1361.51228  146    9 1810.15300 1225.88009  32.3%  12.7   85s\n",
      " 184971 68248 1572.40471  126   11 1810.15300 1244.49413  31.2%  12.6   90s\n",
      " 199864 73035 1394.62381   83    9 1810.15300 1259.23149  30.4%  12.5   95s\n",
      " 215982 77468 1419.33942   44   12 1810.15300 1275.96660  29.5%  12.4  100s\n",
      " 228262 80776 1423.90854  172    8 1810.15300 1287.45898  28.9%  12.3  105s\n",
      " 244590 84542 1561.82360  105   11 1810.15300 1302.33942  28.1%  12.2  110s\n",
      " 257870 87238 1361.43355  192   13 1810.15300 1314.56893  27.4%  12.1  115s\n",
      " 273648 90323 1692.45068  168   11 1810.15300 1329.34027  26.6%  12.1  120s\n",
      " 289518 92822 infeasible   83      1810.15300 1343.66724  25.8%  12.0  125s\n",
      " 303502 95350 1431.75857   70   15 1810.15300 1355.55500  25.1%  12.0  130s\n",
      " 318439 97166 1720.94328   83   13 1810.15300 1370.19881  24.3%  11.9  135s\n",
      " 333848 98549     cutoff  235      1810.15300 1384.29403  23.5%  11.9  140s\n",
      " 345023 99286 1576.53813  119   10 1810.15300 1394.91555  22.9%  11.9  145s\n",
      " 361373 99830 1423.46003  191    6 1810.15300 1409.57650  22.1%  11.8  150s\n",
      " 378855 100251 1609.85681  140   10 1810.15300 1424.55482  21.3%  11.8  155s\n",
      " 394420 99903 1742.34537   96    8 1810.15300 1436.68225  20.6%  11.8  160s\n",
      " 412903 99153 1652.49347   75    9 1810.15300 1453.47269  19.7%  11.8  165s\n",
      " 428429 97712 1771.90512  147   11 1810.15300 1467.76876  18.9%  11.7  170s\n",
      " 447044 95051 infeasible   77      1810.15300 1485.10419  18.0%  11.7  175s\n",
      " 463885 91949 infeasible   60      1810.15300 1500.80242  17.1%  11.7  180s\n",
      " 482145 88007 1667.29143   98   11 1810.15300 1517.74399  16.2%  11.6  185s\n",
      " 502150 82623 1706.37680  114   13 1810.15300 1536.52634  15.1%  11.6  190s\n",
      " 521493 75834 1619.31450  140    9 1810.15300 1556.07388  14.0%  11.6  195s\n",
      " 541488 67535     cutoff   87      1810.15300 1577.17665  12.9%  11.5  200s\n",
      " 559813 58510     cutoff  157      1810.15300 1598.61117  11.7%  11.5  205s\n",
      " 581664 45792 1710.54558   79   13 1810.15300 1627.40425  10.1%  11.4  210s\n",
      " 605418 29231 infeasible   64      1810.15300 1667.14516  7.90%  11.2  215s\n",
      " 633134  5667 infeasible   74      1810.15300 1756.94619  2.94%  11.0  220s\n",
      "\n",
      "Cutting planes:\n",
      "  Learned: 3\n",
      "  Lift-and-project: 1\n",
      "  Cover: 1\n",
      "  Clique: 1\n",
      "  MIR: 23\n",
      "  StrongCG: 1\n",
      "  Flow cover: 50\n",
      "\n",
      "Explored 639982 nodes (6969472 simplex iterations) in 221.03 seconds (228.77 work units)\n",
      "Thread count was 8 (of 8 available processors)\n",
      "\n",
      "Solution count 7: 1810.15 1810.15 1882.83 ... 2583.94\n",
      "\n",
      "Optimal solution found (tolerance 1.00e-04)\n",
      "Best objective 1.810153000000e+03, best bound 1.810153000000e+03, gap 0.0000%\n",
      "\n",
      "User-callback calls 1313002, time in user-callback 0.54 sec\n"
     ]
    }
   ],
   "source": [
    "optimize!(m)\n",
    ";"
   ]
  },
  {
   "cell_type": "code",
   "execution_count": 552,
   "id": "2760796e",
   "metadata": {},
   "outputs": [],
   "source": [
    "xMTZ = value.(x);"
   ]
  },
  {
   "cell_type": "code",
   "execution_count": 566,
   "id": "fc0c1ae9",
   "metadata": {},
   "outputs": [
    {
     "name": "stdout",
     "output_type": "stream",
     "text": [
      "cost of road trip: $1810.1530000000002\n",
      "\n",
      "arc 1: Acadia --> source\n",
      "arc 2: Cuyahoga_Valley --> Acadia\n",
      "arc 3: source --> Cuyahoga_Valley\n"
     ]
    }
   ],
   "source": [
    "MTZArcs = []\n",
    "MTZCost = objective_value(m)\n",
    "\n",
    "counter = 0\n",
    "\n",
    "println(\"cost of road trip: \\$\", MTZCost, \"\\n\")\n",
    "\n",
    "for i in p\n",
    "    for j in p\n",
    "        if value(x[i, j]) > 0\n",
    "            counter += 1\n",
    "            println(\"arc \", counter, \": \", i, \" --> \", j)\n",
    "            append!(MTZArcs, [(String(i), String(j))])\n",
    "        end\n",
    "    end\n",
    "end\n",
    "\n",
    "MTZArcs;"
   ]
  },
  {
   "cell_type": "code",
   "execution_count": 554,
   "id": "d23e944e",
   "metadata": {},
   "outputs": [
    {
     "name": "stdout",
     "output_type": "stream",
     "text": [
      "trip mileage: 2799.0\n",
      "trip length: 7.821122685185185 days\n"
     ]
    }
   ],
   "source": [
    "tripMileageMTZ = 0\n",
    "tripDaysMTZ = 0\n",
    "\n",
    "for i in p\n",
    "    for j in p\n",
    "        if value(x[i,j]) > 0\n",
    "            tripMileageMTZ += D[i,j]\n",
    "            tripDaysMTZ += T[i,j]\n",
    "            tripDaysMTZ += s[i]\n",
    "        end\n",
    "    end\n",
    "end\n",
    "\n",
    "println(\"trip mileage: \", tripMileageMTZ)\n",
    "println(\"trip length: \", tripDaysMTZ, \" days\")"
   ]
  },
  {
   "cell_type": "markdown",
   "id": "0ab8c01f",
   "metadata": {},
   "source": [
    "#### Adapative Subtour Elimination Method\n",
    "This helps eliminate subtours by sort of formulating this similar to the TSP version but with only the set of nodes selected by the first optimal solution (that may include subtours). This limits subtour constraints by not forcing the model to visit all points"
   ]
  },
  {
   "cell_type": "code",
   "execution_count": 439,
   "id": "33aca8c5",
   "metadata": {},
   "outputs": [],
   "source": [
    "# Code from https://nbviewer.org/github/asmith28/cs524-su22/blob/main/TravelingSalesmanProblem.ipynb\n",
    "# modified to suit our needs\n",
    "\n",
    "# HELPER FUNCTION: returns the cycle containing the park START.\n",
    "function getSubtour(x,start)\n",
    "    subtour = [start]\n",
    "    while true\n",
    "        j = subtour[end]\n",
    "        for k in p\n",
    "            if x[k,j] == 1\n",
    "                push!(subtour,k)\n",
    "                break\n",
    "            end\n",
    "        end\n",
    "        if subtour[end] == start\n",
    "            break\n",
    "        end\n",
    "    end\n",
    "    return subtour\n",
    "end\n",
    "\n",
    "# HELPER FUNCTION: returns a list of all cycles\n",
    "function getAllSubtours(x, specific_parks)\n",
    "    nodesRemaining = specific_parks\n",
    "    subtours = []\n",
    "    while length(nodesRemaining) > 0\n",
    "        subtour = getSubtour(x, nodesRemaining[1])\n",
    "        push!(subtours, subtour)\n",
    "        nodesRemaining = setdiff(nodesRemaining, subtour)\n",
    "    end\n",
    "    return subtours\n",
    "end\n",
    ";\n",
    "\n"
   ]
  },
  {
   "cell_type": "code",
   "execution_count": 529,
   "id": "b3255743",
   "metadata": {},
   "outputs": [
    {
     "name": "stdout",
     "output_type": "stream",
     "text": [
      "Set parameter Username\n",
      "Academic license - for non-commercial use only - expires 2023-07-08\n"
     ]
    }
   ],
   "source": [
    "m = Model(Gurobi.Optimizer)\n",
    "set_optimizer_attribute(m, \"OutputFlag\", 0)\n",
    "\n",
    "@variable(m, x[p, p], Bin) # flow from one park to another\n",
    "\n",
    "# one in, one out\n",
    "@constraint(m, c1[i in p], sum(x[i,:]) - sum(x[:,i]) == 0)\n",
    "\n",
    "# enforce starting points\n",
    "@constraint(m, sum(x[:source, :]) == 1)\n",
    "@constraint(m, sum(x[:, :source]) == 1)\n",
    "\n",
    "@constraint(m, self_loop[i in p], x[i, i] == 0) # no self-loops\n",
    "\n",
    "\n",
    "# travel time constraints\n",
    "@constraint(m, sum(s[i] * x[i, j] for i in p for j in p) \n",
    "    + sum(T[i, j] * x[i, j] for i in p for j in p) <= maxTravel)\n",
    "\n",
    "@constraint(m, sum(s[i] * x[i, j] for i in p for j in p) \n",
    "    + sum(T[i, j] * x[i, j] for i in p for j in p) >= minTravel)\n",
    "\n",
    "\n",
    "@objective(m, Min, sum(c[i] * x[i, j] for i in p for j in p) \n",
    "    + sum(g[i, j] * x[i, j] for i in p for j in p))\n",
    ";"
   ]
  },
  {
   "cell_type": "markdown",
   "id": "5c7b64ce",
   "metadata": {},
   "source": [
    "The code below uses adaptive subtour elimination to add constraints that prevent subtours from forming. I've also modified the `getAllSubtours` helper function to only filter through the unique nodes provided by the first-run solution that may contain subtours. As Julia thinks this is optimal, we will add constraints to not have subtours for those. After this, Julia will iteratively run this code to determine the optimal solution with the no-subtour constraints applied"
   ]
  },
  {
   "cell_type": "code",
   "execution_count": 530,
   "id": "7fa89cd9",
   "metadata": {},
   "outputs": [
    {
     "name": "stdout",
     "output_type": "stream",
     "text": [
      "Tour cost: 653.528\n"
     ]
    },
    {
     "data": {
      "text/plain": [
       "2-element Vector{Any}:\n",
       " [:Great_Smoky_Mountains, :New_River_Gorge, :Great_Smoky_Mountains]\n",
       " [:Indiana_Dunes, :source, :Indiana_Dunes]"
      ]
     },
     "metadata": {},
     "output_type": "display_data"
    },
    {
     "name": "stdout",
     "output_type": "stream",
     "text": [
      "Tour cost: 674.90775\n"
     ]
    },
    {
     "data": {
      "text/plain": [
       "1-element Vector{Any}:\n",
       " [:Cuyahoga_Valley, :Great_Smoky_Mountains, :source, :Cuyahoga_Valley]"
      ]
     },
     "metadata": {},
     "output_type": "display_data"
    },
    {
     "name": "stdout",
     "output_type": "stream",
     "text": [
      "SOLVED!\n",
      "[:Cuyahoga_Valley, :Great_Smoky_Mountains, :source, :Cuyahoga_Valley]\n",
      "Any[[:Cuyahoga_Valley, :Great_Smoky_Mountains, :source, :Cuyahoga_Valley]]\n",
      "[:Cuyahoga_Valley, :Great_Smoky_Mountains, :source, :Cuyahoga_Valley]\n",
      "Any[[:Cuyahoga_Valley, :Great_Smoky_Mountains, :source, :Cuyahoga_Valley]]\n",
      "[:Cuyahoga_Valley, :Great_Smoky_Mountains, :source, :Cuyahoga_Valley]\n",
      "Any[[:Cuyahoga_Valley, :Great_Smoky_Mountains, :source, :Cuyahoga_Valley]]\n",
      "[:Cuyahoga_Valley, :Great_Smoky_Mountains, :source, :Cuyahoga_Valley]\n",
      "Any[[:Cuyahoga_Valley, :Great_Smoky_Mountains, :source, :Cuyahoga_Valley]]\n",
      "Total days spent: 8\n",
      "[:Cuyahoga_Valley, :source]\n",
      "[:Great_Smoky_Mountains, :Cuyahoga_Valley]\n",
      "[:source, :Great_Smoky_Mountains]\n",
      "[:Cuyahoga_Valley, :Great_Smoky_Mountains, :source, :Cuyahoga_Valley]\n"
     ]
    }
   ],
   "source": [
    "# Code from https://nbviewer.org/github/asmith28/cs524-su22/blob/main/TravelingSalesmanProblem.ipynb\n",
    "\n",
    "sols = []\n",
    "opt_sol = []\n",
    "\n",
    "# We'll run the heuristic 30 times and hope we get an optimal solution\n",
    "for iters = 1:30\n",
    "    optimize!(m)\n",
    "    # total  length of current tour\n",
    "    println(\"Tour cost: \", objective_value(m))\n",
    "    xx = value.(x) # save solution\n",
    "    push!(sols, xx) # save solution\n",
    "\n",
    "    nodes = []\n",
    "    for i in p\n",
    "        for j in p\n",
    "            if Int(value(x[i, j])) == 1\n",
    "                append!(nodes, [i, j])\n",
    "            end\n",
    "        end\n",
    "    end\n",
    "\n",
    "    subtours = getAllSubtours(xx, unique!(nodes))  # get all the subtours\n",
    "    display(subtours)\n",
    "    sleep(1)\n",
    "    # get length of the subtour list\n",
    "    len = length(subtours)\n",
    "    if len == 1\n",
    "        # solution is just a single tour!\n",
    "        println(\"SOLVED!\")\n",
    "\n",
    "        # Calculate total days spent\n",
    "        tot_days = 0\n",
    "        for day in subtours[1]\n",
    "            tot_days += s[day]\n",
    "            println(subtours[1])\n",
    "            println(subtours)\n",
    "        end\n",
    "        println(\"Total days spent: \", tot_days)\n",
    "\n",
    "        # Show the optimal route\n",
    "        for i in p\n",
    "            for j in p\n",
    "                if Int(value(x[i,j])) == 1\n",
    "                    println([i,j])\n",
    "                end\n",
    "            end\n",
    "        end\n",
    "        opt_sol = subtours[1]\n",
    "        println(opt_sol)\n",
    "\n",
    "        break\n",
    "    else\n",
    "        for subtour in subtours\n",
    "            L = length(subtour)\n",
    "            # add constraints that cut off each subtour in the list (add two for each subtour)\n",
    "            @constraint(m, sum(x[subtour[k+1], subtour[k]] for k = 1:L-1) <= L - 2)\n",
    "            @constraint(m, sum(x[subtour[k], subtour[k+1]] for k = 1:L-1) <= L - 2)\n",
    "        end\n",
    "    end\n",
    "end"
   ]
  },
  {
   "cell_type": "code",
   "execution_count": 538,
   "id": "c402dfbc",
   "metadata": {},
   "outputs": [
    {
     "data": {
      "text/plain": [
       "674.90775"
      ]
     },
     "execution_count": 538,
     "metadata": {},
     "output_type": "execute_result"
    }
   ],
   "source": [
    "xASE = value.(x)\n",
    "ASECost = objective_value(m)"
   ]
  },
  {
   "cell_type": "code",
   "execution_count": 532,
   "id": "3067db34",
   "metadata": {},
   "outputs": [
    {
     "name": "stdout",
     "output_type": "stream",
     "text": [
      "Arcs in optimal solution are:\n"
     ]
    },
    {
     "data": {
      "text/plain": [
       "3-element Vector{Any}:\n",
       " [:Cuyahoga_Valley, :source]\n",
       " [:Great_Smoky_Mountains, :Cuyahoga_Valley]\n",
       " [:source, :Great_Smoky_Mountains]"
      ]
     },
     "execution_count": 532,
     "metadata": {},
     "output_type": "execute_result"
    }
   ],
   "source": [
    "println(\"Arcs in optimal solution are:\")\n",
    "path_opt = []\n",
    "for i in p\n",
    "    for j in p\n",
    "        if Int(value(x[i,j])) == 1\n",
    "            append!(path_opt, [[i,j]])\n",
    "        end\n",
    "    end\n",
    "end\n",
    "\n",
    "# This describes the __actual__ arcs of the solution rather than\n",
    "# the nodes as shown when a subtour of length 1 is found\n",
    "# NOTE: the way the solution is drawn will be the same as it's a closed loop\n",
    "# but the optimal objective value depends on the arcs\n",
    "ASEArcs = path_opt"
   ]
  },
  {
   "cell_type": "code",
   "execution_count": 533,
   "id": "9decd2bf",
   "metadata": {},
   "outputs": [],
   "source": [
    "# println(c[:Acadia], \" \", c[:Great_Smoky_Mountains])\n",
    "# println(s[:Acadia], \" \", s[:Great_Smoky_Mountains])\n",
    "# println(l[:Acadia], \" \", l[:Great_Smoky_Mountains])\n",
    "# println(e[:Acadia], \" \", e[:Great_Smoky_Mountains])\n"
   ]
  },
  {
   "cell_type": "code",
   "execution_count": 534,
   "id": "6d6a9a30",
   "metadata": {},
   "outputs": [
    {
     "name": "stdout",
     "output_type": "stream",
     "text": [
      "trip mileage: 1739.0\n",
      "trip length: 7.0984375 days\n"
     ]
    }
   ],
   "source": [
    "tripMileageASE = 0\n",
    "tripDaysASE = 0\n",
    "\n",
    "for i in p\n",
    "    for j in p\n",
    "        if value(x[i,j]) > 0\n",
    "            tripMileageASE += D[i,j]\n",
    "            tripDaysASE += T[i,j]\n",
    "            tripDaysASE += s[i]\n",
    "        end\n",
    "    end\n",
    "end\n",
    "\n",
    "println(\"trip mileage: \", tripMileageASE)\n",
    "println(\"trip length: \", tripDaysASE, \" days\")"
   ]
  },
  {
   "cell_type": "code",
   "execution_count": 557,
   "id": "8edc5f43",
   "metadata": {},
   "outputs": [
    {
     "name": "stdout",
     "output_type": "stream",
     "text": [
      "drive time: 1.8211226851851854\n",
      "time spent in park: 6.0\n"
     ]
    }
   ],
   "source": [
    "driveTimeMTZ = 0\n",
    "parkTimeMTZ = 0 \n",
    "\n",
    "for i in p\n",
    "    for j in p\n",
    "        if value(xMTZ[i,j]) > 0\n",
    "            driveTimeMTZ += value(xMTZ[i,j])*T[i, j]\n",
    "            parkTimeMTZ += value(xMTZ[i,j])*s[i]\n",
    "        end\n",
    "    end\n",
    "end"
   ]
  },
  {
   "cell_type": "code",
   "execution_count": 559,
   "id": "97d01126",
   "metadata": {},
   "outputs": [],
   "source": [
    "driveTimeASE = 0\n",
    "parkTimeASE = 0 \n",
    "\n",
    "for i in p\n",
    "    for j in p\n",
    "        if value(xASE[i,j]) > 0\n",
    "            driveTimeASE += value(xASE[i,j])*T[i, j]\n",
    "            parkTimeASE += value(xASE[i,j])*s[i]\n",
    "        end\n",
    "    end\n",
    "end"
   ]
  },
  {
   "cell_type": "markdown",
   "id": "029314b1",
   "metadata": {},
   "source": [
    "## 4. Results and Discussion ##"
   ]
  },
  {
   "cell_type": "markdown",
   "id": "5c7f2c18",
   "metadata": {},
   "source": [
    "### MTZ Results"
   ]
  },
  {
   "cell_type": "code",
   "execution_count": 562,
   "id": "1c42fd88",
   "metadata": {},
   "outputs": [
    {
     "name": "stdout",
     "output_type": "stream",
     "text": [
      "cost of road trip: $1810.15\n",
      "\n",
      "gas cost: $572.02\n",
      "lodging and entrance fee cost: $1238.00\n",
      "\n",
      "trip mileage: 2799.0\n",
      "trip length: 7.82 days\n",
      "\n",
      "drive time: 1.8211226851851854 days\n",
      "time spent in parks: 6.0 days\n"
     ]
    }
   ],
   "source": [
    "println(\"cost of road trip: \\$\", round(MTZCost, digits=2), \"\\n\")\n",
    "println(\"gas cost: \\$\", round(sum(convert(Array, g) .* Matrix(xMTZ))), 2)\n",
    "println(\"lodging and entrance fee cost: \\$\", round(sum(convert(Array, c) .* Matrix(xMTZ)), digits=2), \"0\\n\")\n",
    "println(\"trip mileage: \", tripMileageMTZ)\n",
    "println(\"trip length: \", round(tripDaysMTZ, digits=2), \" days\")\n",
    "println()\n",
    "println(\"drive time: \", driveTimeMTZ, \" days\")\n",
    "println(\"time spent in parks: \", parkTimeMTZ, \" days\")"
   ]
  },
  {
   "cell_type": "code",
   "execution_count": 526,
   "id": "20e85fb2",
   "metadata": {},
   "outputs": [
    {
     "data": {
      "text/plain": [
       "3-element Vector{Any}:\n",
       " (\"Acadia\", \"source\")\n",
       " (\"Cuyahoga_Valley\", \"Acadia\")\n",
       " (\"source\", \"Cuyahoga_Valley\")"
      ]
     },
     "execution_count": 526,
     "metadata": {},
     "output_type": "execute_result"
    }
   ],
   "source": [
    "MTZArcs"
   ]
  },
  {
   "cell_type": "markdown",
   "id": "eb1488bf",
   "metadata": {},
   "source": [
    "This version of our model found the optimal path to be UW-Madison --> Cuyahoga Valley --> Acadia --> UW-Madison."
   ]
  },
  {
   "cell_type": "markdown",
   "id": "e1ade590",
   "metadata": {},
   "source": [
    "### Adaptive Subtour Elimination Results"
   ]
  },
  {
   "cell_type": "code",
   "execution_count": 561,
   "id": "909faf6f",
   "metadata": {},
   "outputs": [
    {
     "name": "stdout",
     "output_type": "stream",
     "text": [
      "cost of road trip: $674.91\n",
      "\n",
      "gas cost: $329.02\n",
      "lodging and entrance fee cost: $346.00\n",
      "\n",
      "trip mileage: 1739.0\n",
      "trip length: 7.1 days\n",
      "\n",
      "drive time: 1.0984375 days\n",
      "time spent in parks: 6.0 days\n"
     ]
    }
   ],
   "source": [
    "println(\"cost of road trip: \\$\", round(ASECost, digits=2), \"\\n\")\n",
    "println(\"gas cost: \\$\", round(sum(convert(Array, g) .* Matrix(xASE))), 2)\n",
    "println(\"lodging and entrance fee cost: \\$\", round(sum(convert(Array, c) .* Matrix(xASE)), digits=2), \"0\\n\")\n",
    "println(\"trip mileage: \", tripMileageASE)\n",
    "println(\"trip length: \", round(tripDaysASE, digits=2), \" days\")\n",
    "println()\n",
    "println(\"drive time: \", driveTimeASE, \" days\")\n",
    "println(\"time spent in parks: \", parkTimeASE, \" days\")"
   ]
  },
  {
   "cell_type": "code",
   "execution_count": 540,
   "id": "a115721c",
   "metadata": {},
   "outputs": [
    {
     "data": {
      "text/plain": [
       "3-element Vector{Any}:\n",
       " [:Cuyahoga_Valley, :source]\n",
       " [:Great_Smoky_Mountains, :Cuyahoga_Valley]\n",
       " [:source, :Great_Smoky_Mountains]"
      ]
     },
     "execution_count": 540,
     "metadata": {},
     "output_type": "execute_result"
    }
   ],
   "source": [
    "ASEArcs"
   ]
  },
  {
   "cell_type": "markdown",
   "id": "b2a5311c",
   "metadata": {},
   "source": [
    "This version of our model found the optimal path to be UW-Madison --> Great Smoky Mountains --> Cuyahoga Valley --> UW-Madison."
   ]
  },
  {
   "cell_type": "markdown",
   "id": "97ea8d3d",
   "metadata": {},
   "source": [
    "## ***insert maps with paths here*** ##"
   ]
  },
  {
   "cell_type": "markdown",
   "id": "423a842c",
   "metadata": {},
   "source": [
    "### General Discussion"
   ]
  },
  {
   "cell_type": "code",
   "execution_count": 564,
   "id": "2bb8e640",
   "metadata": {},
   "outputs": [
    {
     "data": {
      "text/plain": [
       "1120.0"
      ]
     },
     "execution_count": 564,
     "metadata": {},
     "output_type": "execute_result"
    }
   ],
   "source": [
    "c[:Acadia]"
   ]
  },
  {
   "cell_type": "code",
   "execution_count": 565,
   "id": "df285b3e",
   "metadata": {},
   "outputs": [
    {
     "data": {
      "text/plain": [
       "228.0"
      ]
     },
     "execution_count": 565,
     "metadata": {},
     "output_type": "execute_result"
    }
   ],
   "source": [
    "c[:Great_Smoky_Mountains]"
   ]
  },
  {
   "cell_type": "markdown",
   "id": "0b2bb9e6",
   "metadata": {},
   "source": [
    "## 5. Conclusion ##"
   ]
  },
  {
   "cell_type": "code",
   "execution_count": null,
   "id": "7f7d2b15",
   "metadata": {},
   "outputs": [],
   "source": []
  },
  {
   "cell_type": "markdown",
   "id": "99803a9f",
   "metadata": {},
   "source": [
    "## 6. Sources ##"
   ]
  },
  {
   "cell_type": "code",
   "execution_count": null,
   "id": "c5be7f8c",
   "metadata": {},
   "outputs": [],
   "source": []
  }
 ],
 "metadata": {
  "kernelspec": {
   "display_name": "Julia 1.7.3",
   "language": "julia",
   "name": "julia-1.7"
  },
  "language_info": {
   "file_extension": ".jl",
   "mimetype": "application/julia",
   "name": "julia",
   "version": "1.7.3"
  }
 },
 "nbformat": 4,
 "nbformat_minor": 5
}
