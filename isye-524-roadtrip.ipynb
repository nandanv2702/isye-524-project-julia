{
 "cells": [
  {
   "cell_type": "markdown",
   "id": "38641d28",
   "metadata": {},
   "source": [
    "### CS/ECE/ISyE 524 &mdash; Introduction to Optimization &mdash; Summer 2022 ###\n",
    "\n",
    "# Road Trip Optimizer #\n",
    "\n",
    "#### Alex Gilmore (asgilmore@wisc.edu), Nandan Venkatesan (nvenkatesan2@wisc.edu), and Brendan Zimmer (btzimmer@wisc.edu)\n",
    "\n",
    "### Table of Contents\n",
    "\n",
    "1. [Introduction](#1.-Introduction)\n",
    "1. [Mathematical Model](#2.-Mathematical-Model)\n",
    "1. [Solution](#3.-Solution)\n",
    "1. [Results and Discussion](#4.-Results-and-Discussion)\n",
    "1. [Optional Subsection](#4.A.-Feel-free-to-add-subsections)\n",
    "1. [Conclusion](#5.-Conclusion)"
   ]
  },
  {
   "cell_type": "markdown",
   "id": "4e761dc8",
   "metadata": {},
   "source": [
    "## 1. Introduction ##"
   ]
  },
  {
   "cell_type": "markdown",
   "id": "ed06fa15",
   "metadata": {},
   "source": [
    "add from google doc"
   ]
  },
  {
   "cell_type": "markdown",
   "id": "c09a82d2",
   "metadata": {},
   "source": [
    "## 2. Mathematical Model ##"
   ]
  },
  {
   "cell_type": "markdown",
   "id": "646f9580",
   "metadata": {},
   "source": [
    "We are utilizing an MCNF framework to solve our primary problem. The source and sink will be identical since we are interested in only round trips and we will be implementing a minimum trip length to prevent the model from cutting the trip short to reduce cost."
   ]
  },
  {
   "cell_type": "markdown",
   "id": "01da0564",
   "metadata": {},
   "source": [
    "let p be a list of national parks and our starting location\n",
    "\n",
    "let $x_{ij}$ be a matrix representing if an arc is chosen $\\forall i \\in p, \\forall j \\in p$\n",
    "\n",
    "let $e_i$ be a vector of entrance fees $\\forall i \\in p$\n",
    "\n",
    "let $l_i$ be a vector of est. lodging fees $\\forall i \\in p$\n",
    "\n",
    "let $s_i$ be a vector of length of stays $\\forall i \\in p$\n",
    "\n",
    "let $c_i$ be a vector of the total lodging and entrance fee cost $\\forall i \\in p$\n",
    "\n",
    "let $g_{ij}$ be a matrix of gas prices $\\forall i \\in p, \\forall j \\in p$\n",
    "\n",
    "let $D_{ij}$ be a matrix of  arc distances (miles) $\\forall i \\in p, \\forall j \\in p$\n",
    "\n",
    "let $T_{ij}$ be a matrix of arc times (days) $\\forall i \\in p, \\forall j \\in p$\n",
    "\n",
    "let $b_k$ be a vector of \"supply/demand\" $\\forall k \\in p$\n",
    "\n",
    "let M be the maximum days allowed to travel\n",
    "\n",
    "let m be the minimum days allowed to travel\n",
    "\n",
    "\n",
    "\\begin{align*}\n",
    "\\underset{x}{\\max} \\ & - \\underset{(ij) \\in p}\\Sigma\\ c_{i} x_{ij} - \\underset{(ij) \\in p}\\Sigma\\ g_{ij} x_{ij}  & \\\\\n",
    "\\text{s.t.} \\ & \\underset{(ij) \\in p}\\Sigma\\ s_{i} x_{ij} + \\underset{(ij) \\in p}\\Sigma\\ T_{ij} x_{ij} \\le M &\\\\\n",
    "& - \\underset{(ij) \\in p}\\Sigma\\ s_{i} x_{ij} - \\underset{(ij) \\in p}\\Sigma\\ T_{ij} x_{ij} \\le - m &\\\\\n",
    "& \\underset{j \\in p}\\Sigma\\ x_{kj} - \\underset{i \\in p}\\Sigma\\ x_{ik} \\le b_k,\\ \\forall\\ k \\in p &\\\\\n",
    "& - \\underset{j \\in p}\\Sigma\\ x_{kj} + \\underset{i \\in p}\\Sigma\\ x_{ik} \\le - b_k,\\ \\forall\\ k \\in p &\\\\\n",
    "\\end{align*}\n",
    "\n"
   ]
  },
  {
   "cell_type": "code",
   "execution_count": null,
   "id": "2c952e5f",
   "metadata": {},
   "outputs": [],
   "source": [
    "#constraints\n",
    "# travel max\n",
    "# travel min\n",
    "# park selection"
   ]
  },
  {
   "cell_type": "markdown",
   "id": "d825903b",
   "metadata": {},
   "source": [
    "Variables:\n",
    "\n",
    "- $x_{ij}$ = $\\left\\{ \\begin{array}{ll}\n",
    "        1 \\ \\mbox{if arc $x_{ij}$ is in road trip path} \\\\\n",
    "        0 \\ \\mbox{otherwise} & \n",
    "    \\end{array} \\right\\}$\n",
    "\n",
    "Constraints:\n",
    "1. The total time traveled must be less than the maximum travel time.\n",
    "\n",
    "\n",
    "2. The total time traveled must be more than the minimum desired travel time. This prevents the model from decreasing the trip length in an effort to reduce the trip cost. \n",
    "\n",
    "\n",
    "3. This is a flow balance constraint to direct our road trip path. Only one arc (road) may enter a node (park) and only one arc may leave. This constraint is split into two halves (the third and fourth constraint listed) to display the mathematical model in standard form.\n",
    "\n",
    "Objective Function:\n",
    "- This is minimzing the collective cost of visiting parks + the gas cost of traveling between all parks. "
   ]
  },
  {
   "cell_type": "markdown",
   "id": "added231",
   "metadata": {},
   "source": [
    "## 3. Solution ##"
   ]
  },
  {
   "cell_type": "markdown",
   "id": "c3b7777f",
   "metadata": {},
   "source": [
    "### data entry"
   ]
  },
  {
   "cell_type": "code",
   "execution_count": 197,
   "id": "70d735b3",
   "metadata": {},
   "outputs": [],
   "source": [
    "using Clp, Gurobi, JuMP, NamedArrays, CSV, DataFrames"
   ]
  },
  {
   "cell_type": "code",
   "execution_count": 346,
   "id": "3d84e1ab",
   "metadata": {},
   "outputs": [],
   "source": [
    "df = DataFrame(CSV.File(\"park_data.csv\"))\n",
    "\n",
    "# push!(df, (\"UW_Madison\", \"\", 0, 0, 0, 3.5))\n",
    "\n",
    "push!(df, (\"source\", \"\", 0, 0, 0, 3.5))\n",
    "# push!(df, (\"sink\", \"\", 0, 0, 0, 3.5))\n",
    "\n",
    "pTemp = df[!, \"park name\"]\n",
    "p = Array{Symbol}(undef, length(pTemp))\n",
    "\n",
    "# format parks list to symbols\n",
    "for i in [1:1:length(pTemp);]\n",
    "    pTemp[i] = replace(pTemp[i], \" \" => \"_\", \"–\" => \"_\", \".\" => \"\")\n",
    "    p[i] = Symbol(pTemp[i])\n",
    "end \n",
    "\n",
    "e = NamedArray(df[!, \"entrance fee\"], (p))\n",
    "\n",
    "l = NamedArray(df[!, \"lodging\"], (p))\n",
    "\n",
    "s = NamedArray(df[!, \"est. length of stay\"], (p))\n",
    "\n",
    "parkGas = NamedArray(df[!, \"gas price\"], (p)) \n",
    "\n",
    ";"
   ]
  },
  {
   "cell_type": "markdown",
   "id": "cd7b6748",
   "metadata": {},
   "source": [
    "$c = s * (l + e)$"
   ]
  },
  {
   "cell_type": "code",
   "execution_count": 347,
   "id": "964f207f",
   "metadata": {},
   "outputs": [],
   "source": [
    "c = s .* (l + e)\n",
    ";"
   ]
  },
  {
   "cell_type": "code",
   "execution_count": 348,
   "id": "fcfe9dc5",
   "metadata": {},
   "outputs": [
    {
     "data": {
      "text/plain": [
       "(49,)"
      ]
     },
     "execution_count": 348,
     "metadata": {},
     "output_type": "execute_result"
    }
   ],
   "source": [
    "dist = DataFrame(CSV.File(\"arc_data_dist_all.csv\"))\n",
    "\n",
    "# distO = DataFrame(CSV.File(\"origin_data_dist.csv\"))\n",
    "\n",
    "time = DataFrame(CSV.File(\"arc_data_time_all.csv\"))\n",
    "\n",
    "# timeO = DataFrame(CSV.File(\"origin_data_time.csv\"))\n",
    "\n",
    "# dist.UW_Madison = distO[!, 2]\n",
    "# time.UW_Madison = timeO[!, 2]\n",
    "\n",
    "size(time[1:49, 2:50])\n",
    "size(p)"
   ]
  },
  {
   "cell_type": "code",
   "execution_count": 351,
   "id": "a781d31f",
   "metadata": {},
   "outputs": [],
   "source": [
    "D = Float64.(NamedArray(Matrix(dist[1:49,2:50]), (p, p), (\"entering\", \"leaving\")))\n",
    "T = NamedArray(Matrix(time[1:49,2:50]), (p, p), (\"entering\", \"leaving\"))\n",
    ";"
   ]
  },
  {
   "cell_type": "code",
   "execution_count": 352,
   "id": "14057b0a",
   "metadata": {},
   "outputs": [],
   "source": [
    "T = T ./ 86400 # convert time from seconds to days\n",
    ";"
   ]
  },
  {
   "cell_type": "markdown",
   "id": "1ebb26f0",
   "metadata": {},
   "source": [
    "$g_{ij} =  \\frac{parkGas_i + parkGas_j}{2} * \\frac{1}{milesPerGallon} * D_{ij}$"
   ]
  },
  {
   "cell_type": "code",
   "execution_count": 353,
   "id": "3e6b3556",
   "metadata": {},
   "outputs": [
    {
     "name": "stdout",
     "output_type": "stream",
     "text": [
      "acadia to yosemite distance: 3100.0 miles\n",
      "acadia to yosemite estimated gas cost: $795.15\n",
      "acadia to yosemite time : 1.9795138888888888 days\n"
     ]
    }
   ],
   "source": [
    "# calculate the gas cost matrix\n",
    "\n",
    "milesPerGallon = 20.0\n",
    "\n",
    "g = copy(D)\n",
    "\n",
    "for i in p\n",
    "    for j in p\n",
    "        g[i, j] = (parkGas[i] + parkGas[j]) / (2milesPerGallon) * g[i, j]\n",
    "    end\n",
    "end\n",
    "\n",
    "println(\"acadia to yosemite distance: \", D[:Acadia, :Yosemite], \" miles\")\n",
    "println(\"acadia to yosemite estimated gas cost: \\$\", g[:Acadia, :Yosemite])\n",
    "println(\"acadia to yosemite time : \", T[:Acadia, :Yosemite], \" days\")"
   ]
  },
  {
   "cell_type": "code",
   "execution_count": 355,
   "id": "ec12be3b",
   "metadata": {},
   "outputs": [],
   "source": [
    "# T[:source, :Gateway_Arch] + T[:Gateway_Arch, :Hot_Springs] + T[:Hot_Springs, :Indiana_Dunes] + T[:Indiana_Dunes, :sink]"
   ]
  },
  {
   "cell_type": "code",
   "execution_count": 356,
   "id": "af0db060",
   "metadata": {},
   "outputs": [],
   "source": [
    "# set travel length boundaries\n",
    "\n",
    "maxTravel = 14\n",
    "minTravel = 7\n",
    ";"
   ]
  },
  {
   "cell_type": "code",
   "execution_count": 382,
   "id": "e89eb860",
   "metadata": {},
   "outputs": [],
   "source": [
    "# supply / demand\n",
    "\n",
    "# b = zeros(length(p))\n",
    "# b[49] = -1 # set sink\n",
    "# b[50] = 1 # set source\n",
    "\n",
    "# b = NamedArray(b, (p))\n",
    "\n",
    "# set n (total number of parks)\n",
    "n = length(p)\n",
    "# n = 5\n",
    ";"
   ]
  },
  {
   "cell_type": "markdown",
   "id": "5170697d",
   "metadata": {},
   "source": [
    "### model "
   ]
  },
  {
   "cell_type": "code",
   "execution_count": 387,
   "id": "5fc019e7",
   "metadata": {},
   "outputs": [
    {
     "name": "stdout",
     "output_type": "stream",
     "text": [
      "Set parameter Username\n",
      "Academic license - for non-commercial use only - expires 2023-07-08\n"
     ]
    }
   ],
   "source": [
    "m = Model(Gurobi.Optimizer)\n",
    "\n",
    "@variable(m, x[p, p], Bin)\n",
    "@variable(m, 1 <= u[p] <= n)\n",
    "\n",
    "@objective(m, Min, sum(c[i] * x[i, j] for i in p for j in p) \n",
    "    + sum(g[i, j] * x[i, j] for i in p for j in p))\n",
    "\n",
    ";"
   ]
  },
  {
   "cell_type": "code",
   "execution_count": 388,
   "id": "e4ba7f32",
   "metadata": {},
   "outputs": [
    {
     "data": {
      "text/plain": [
       "1-dimensional DenseAxisArray{ConstraintRef{Model, MathOptInterface.ConstraintIndex{MathOptInterface.ScalarAffineFunction{Float64}, MathOptInterface.LessThan{Float64}}, ScalarShape},1,...} with index sets:\n",
       "    Dimension 1, [:Acadia, :Arches, :Badlands, :Big_Bend, :Biscayne, :Black_Canyon_of_the_Gunnison, :Bryce_Canyon, :Canyonlands, :Capitol_Reef, :Carlsbad_Caverns  …  :Sequoia, :Shenandoah, :Theodore_Roosevelt, :Voyageurs, :White_Sands, :Wind_Cave, :Yellowstone, :Yosemite, :Zion, :source]\n",
       "And data, a 49-element Vector{ConstraintRef{Model, MathOptInterface.ConstraintIndex{MathOptInterface.ScalarAffineFunction{Float64}, MathOptInterface.LessThan{Float64}}, ScalarShape}}:\n",
       " x_col_constr[Acadia] : x[Acadia,Acadia] + x[Arches,Acadia] + x[Badlands,Acadia] + x[Big_Bend,Acadia] + x[Biscayne,Acadia] + x[Black_Canyon_of_the_Gunnison,Acadia] + x[Bryce_Canyon,Acadia] + x[Canyonlands,Acadia] + x[Capitol_Reef,Acadia] + x[Carlsbad_Caverns,Acadia] + x[Congaree,Acadia] + x[Crater_Lake,Acadia] + x[Cuyahoga_Valley,Acadia] + x[Death_Valley,Acadia] + x[Everglades,Acadia] + x[Gateway_Arch,Acadia] + x[Glacier,Acadia] + x[Grand_Canyon,Acadia] + x[Grand_Teton,Acadia] + x[Great_Basin,Acadia] + x[Great_Sand_Dunes,Acadia] + x[Great_Smoky_Mountains,Acadia] + x[Guadalupe_Mountains,Acadia] + x[Hot_Springs,Acadia] + x[Indiana_Dunes,Acadia] + x[Joshua_Tree,Acadia] + x[Kings_Canyon,Acadia] + x[Lassen_Volcanic,Acadia] + x[Mammoth_Cave,Acadia] + x[Mesa_Verde,Acadia] + x[Mount_Rainier,Acadia] + x[New_River_Gorge,Acadia] + x[North_Cascades,Acadia] + x[Olympic,Acadia] + x[Petrified_Forest,Acadia] + x[Pinnacles,Acadia] + x[Redwood,Acadia] + x[Rocky_Mountain,Acadia] + x[Saguaro,Acadia] + x[Sequoia,Acadia] + x[Shenandoah,Acadia] + x[Theodore_Roosevelt,Acadia] + x[Voyageurs,Acadia] + x[White_Sands,Acadia] + x[Wind_Cave,Acadia] + x[Yellowstone,Acadia] + x[Yosemite,Acadia] + x[Zion,Acadia] + x[source,Acadia] ≤ 1.0\n",
       " x_col_constr[Arches] : x[Acadia,Arches] + x[Arches,Arches] + x[Badlands,Arches] + x[Big_Bend,Arches] + x[Biscayne,Arches] + x[Black_Canyon_of_the_Gunnison,Arches] + x[Bryce_Canyon,Arches] + x[Canyonlands,Arches] + x[Capitol_Reef,Arches] + x[Carlsbad_Caverns,Arches] + x[Congaree,Arches] + x[Crater_Lake,Arches] + x[Cuyahoga_Valley,Arches] + x[Death_Valley,Arches] + x[Everglades,Arches] + x[Gateway_Arch,Arches] + x[Glacier,Arches] + x[Grand_Canyon,Arches] + x[Grand_Teton,Arches] + x[Great_Basin,Arches] + x[Great_Sand_Dunes,Arches] + x[Great_Smoky_Mountains,Arches] + x[Guadalupe_Mountains,Arches] + x[Hot_Springs,Arches] + x[Indiana_Dunes,Arches] + x[Joshua_Tree,Arches] + x[Kings_Canyon,Arches] + x[Lassen_Volcanic,Arches] + x[Mammoth_Cave,Arches] + x[Mesa_Verde,Arches] + x[Mount_Rainier,Arches] + x[New_River_Gorge,Arches] + x[North_Cascades,Arches] + x[Olympic,Arches] + x[Petrified_Forest,Arches] + x[Pinnacles,Arches] + x[Redwood,Arches] + x[Rocky_Mountain,Arches] + x[Saguaro,Arches] + x[Sequoia,Arches] + x[Shenandoah,Arches] + x[Theodore_Roosevelt,Arches] + x[Voyageurs,Arches] + x[White_Sands,Arches] + x[Wind_Cave,Arches] + x[Yellowstone,Arches] + x[Yosemite,Arches] + x[Zion,Arches] + x[source,Arches] ≤ 1.0\n",
       " x_col_constr[Badlands] : x[Acadia,Badlands] + x[Arches,Badlands] + x[Badlands,Badlands] + x[Big_Bend,Badlands] + x[Biscayne,Badlands] + x[Black_Canyon_of_the_Gunnison,Badlands] + x[Bryce_Canyon,Badlands] + x[Canyonlands,Badlands] + x[Capitol_Reef,Badlands] + x[Carlsbad_Caverns,Badlands] + x[Congaree,Badlands] + x[Crater_Lake,Badlands] + x[Cuyahoga_Valley,Badlands] + x[Death_Valley,Badlands] + x[Everglades,Badlands] + x[Gateway_Arch,Badlands] + x[Glacier,Badlands] + x[Grand_Canyon,Badlands] + x[Grand_Teton,Badlands] + x[Great_Basin,Badlands] + x[Great_Sand_Dunes,Badlands] + x[Great_Smoky_Mountains,Badlands] + x[Guadalupe_Mountains,Badlands] + x[Hot_Springs,Badlands] + x[Indiana_Dunes,Badlands] + x[Joshua_Tree,Badlands] + x[Kings_Canyon,Badlands] + x[Lassen_Volcanic,Badlands] + x[Mammoth_Cave,Badlands] + x[Mesa_Verde,Badlands] + x[Mount_Rainier,Badlands] + x[New_River_Gorge,Badlands] + x[North_Cascades,Badlands] + x[Olympic,Badlands] + x[Petrified_Forest,Badlands] + x[Pinnacles,Badlands] + x[Redwood,Badlands] + x[Rocky_Mountain,Badlands] + x[Saguaro,Badlands] + x[Sequoia,Badlands] + x[Shenandoah,Badlands] + x[Theodore_Roosevelt,Badlands] + x[Voyageurs,Badlands] + x[White_Sands,Badlands] + x[Wind_Cave,Badlands] + x[Yellowstone,Badlands] + x[Yosemite,Badlands] + x[Zion,Badlands] + x[source,Badlands] ≤ 1.0\n",
       " x_col_constr[Big_Bend] : x[Acadia,Big_Bend] + x[Arches,Big_Bend] + x[Badlands,Big_Bend] + x[Big_Bend,Big_Bend] + x[Biscayne,Big_Bend] + x[Black_Canyon_of_the_Gunnison,Big_Bend] + x[Bryce_Canyon,Big_Bend] + x[Canyonlands,Big_Bend] + x[Capitol_Reef,Big_Bend] + x[Carlsbad_Caverns,Big_Bend] + x[Congaree,Big_Bend] + x[Crater_Lake,Big_Bend] + x[Cuyahoga_Valley,Big_Bend] + x[Death_Valley,Big_Bend] + x[Everglades,Big_Bend] + x[Gateway_Arch,Big_Bend] + x[Glacier,Big_Bend] + x[Grand_Canyon,Big_Bend] + x[Grand_Teton,Big_Bend] + x[Great_Basin,Big_Bend] + x[Great_Sand_Dunes,Big_Bend] + x[Great_Smoky_Mountains,Big_Bend] + x[Guadalupe_Mountains,Big_Bend] + x[Hot_Springs,Big_Bend] + x[Indiana_Dunes,Big_Bend] + x[Joshua_Tree,Big_Bend] + x[Kings_Canyon,Big_Bend] + x[Lassen_Volcanic,Big_Bend] + x[Mammoth_Cave,Big_Bend] + x[Mesa_Verde,Big_Bend] + x[Mount_Rainier,Big_Bend] + x[New_River_Gorge,Big_Bend] + x[North_Cascades,Big_Bend] + x[Olympic,Big_Bend] + x[Petrified_Forest,Big_Bend] + x[Pinnacles,Big_Bend] + x[Redwood,Big_Bend] + x[Rocky_Mountain,Big_Bend] + x[Saguaro,Big_Bend] + x[Sequoia,Big_Bend] + x[Shenandoah,Big_Bend] + x[Theodore_Roosevelt,Big_Bend] + x[Voyageurs,Big_Bend] + x[White_Sands,Big_Bend] + x[Wind_Cave,Big_Bend] + x[Yellowstone,Big_Bend] + x[Yosemite,Big_Bend] + x[Zion,Big_Bend] + x[source,Big_Bend] ≤ 1.0\n",
       " x_col_constr[Biscayne] : x[Acadia,Biscayne] + x[Arches,Biscayne] + x[Badlands,Biscayne] + x[Big_Bend,Biscayne] + x[Biscayne,Biscayne] + x[Black_Canyon_of_the_Gunnison,Biscayne] + x[Bryce_Canyon,Biscayne] + x[Canyonlands,Biscayne] + x[Capitol_Reef,Biscayne] + x[Carlsbad_Caverns,Biscayne] + x[Congaree,Biscayne] + x[Crater_Lake,Biscayne] + x[Cuyahoga_Valley,Biscayne] + x[Death_Valley,Biscayne] + x[Everglades,Biscayne] + x[Gateway_Arch,Biscayne] + x[Glacier,Biscayne] + x[Grand_Canyon,Biscayne] + x[Grand_Teton,Biscayne] + x[Great_Basin,Biscayne] + x[Great_Sand_Dunes,Biscayne] + x[Great_Smoky_Mountains,Biscayne] + x[Guadalupe_Mountains,Biscayne] + x[Hot_Springs,Biscayne] + x[Indiana_Dunes,Biscayne] + x[Joshua_Tree,Biscayne] + x[Kings_Canyon,Biscayne] + x[Lassen_Volcanic,Biscayne] + x[Mammoth_Cave,Biscayne] + x[Mesa_Verde,Biscayne] + x[Mount_Rainier,Biscayne] + x[New_River_Gorge,Biscayne] + x[North_Cascades,Biscayne] + x[Olympic,Biscayne] + x[Petrified_Forest,Biscayne] + x[Pinnacles,Biscayne] + x[Redwood,Biscayne] + x[Rocky_Mountain,Biscayne] + x[Saguaro,Biscayne] + x[Sequoia,Biscayne] + x[Shenandoah,Biscayne] + x[Theodore_Roosevelt,Biscayne] + x[Voyageurs,Biscayne] + x[White_Sands,Biscayne] + x[Wind_Cave,Biscayne] + x[Yellowstone,Biscayne] + x[Yosemite,Biscayne] + x[Zion,Biscayne] + x[source,Biscayne] ≤ 1.0\n",
       " x_col_constr[Black_Canyon_of_the_Gunnison] : x[Acadia,Black_Canyon_of_the_Gunnison] + x[Arches,Black_Canyon_of_the_Gunnison] + x[Badlands,Black_Canyon_of_the_Gunnison] + x[Big_Bend,Black_Canyon_of_the_Gunnison] + x[Biscayne,Black_Canyon_of_the_Gunnison] + x[Black_Canyon_of_the_Gunnison,Black_Canyon_of_the_Gunnison] + x[Bryce_Canyon,Black_Canyon_of_the_Gunnison] + x[Canyonlands,Black_Canyon_of_the_Gunnison] + x[Capitol_Reef,Black_Canyon_of_the_Gunnison] + x[Carlsbad_Caverns,Black_Canyon_of_the_Gunnison] + x[Congaree,Black_Canyon_of_the_Gunnison] + x[Crater_Lake,Black_Canyon_of_the_Gunnison] + x[Cuyahoga_Valley,Black_Canyon_of_the_Gunnison] + x[Death_Valley,Black_Canyon_of_the_Gunnison] + x[Everglades,Black_Canyon_of_the_Gunnison] + x[Gateway_Arch,Black_Canyon_of_the_Gunnison] + x[Glacier,Black_Canyon_of_the_Gunnison] + x[Grand_Canyon,Black_Canyon_of_the_Gunnison] + x[Grand_Teton,Black_Canyon_of_the_Gunnison] + x[Great_Basin,Black_Canyon_of_the_Gunnison] + x[Great_Sand_Dunes,Black_Canyon_of_the_Gunnison] + x[Great_Smoky_Mountains,Black_Canyon_of_the_Gunnison] + x[Guadalupe_Mountains,Black_Canyon_of_the_Gunnison] + x[Hot_Springs,Black_Canyon_of_the_Gunnison] + x[Indiana_Dunes,Black_Canyon_of_the_Gunnison] + x[Joshua_Tree,Black_Canyon_of_the_Gunnison] + x[Kings_Canyon,Black_Canyon_of_the_Gunnison] + x[Lassen_Volcanic,Black_Canyon_of_the_Gunnison] + x[Mammoth_Cave,Black_Canyon_of_the_Gunnison] + x[Mesa_Verde,Black_Canyon_of_the_Gunnison] + x[Mount_Rainier,Black_Canyon_of_the_Gunnison] + x[New_River_Gorge,Black_Canyon_of_the_Gunnison] + x[North_Cascades,Black_Canyon_of_the_Gunnison] + x[Olympic,Black_Canyon_of_the_Gunnison] + x[Petrified_Forest,Black_Canyon_of_the_Gunnison] + x[Pinnacles,Black_Canyon_of_the_Gunnison] + x[Redwood,Black_Canyon_of_the_Gunnison] + x[Rocky_Mountain,Black_Canyon_of_the_Gunnison] + x[Saguaro,Black_Canyon_of_the_Gunnison] + x[Sequoia,Black_Canyon_of_the_Gunnison] + x[Shenandoah,Black_Canyon_of_the_Gunnison] + x[Theodore_Roosevelt,Black_Canyon_of_the_Gunnison] + x[Voyageurs,Black_Canyon_of_the_Gunnison] + x[White_Sands,Black_Canyon_of_the_Gunnison] + x[Wind_Cave,Black_Canyon_of_the_Gunnison] + x[Yellowstone,Black_Canyon_of_the_Gunnison] + x[Yosemite,Black_Canyon_of_the_Gunnison] + x[Zion,Black_Canyon_of_the_Gunnison] + x[source,Black_Canyon_of_the_Gunnison] ≤ 1.0\n",
       " x_col_constr[Bryce_Canyon] : x[Acadia,Bryce_Canyon] + x[Arches,Bryce_Canyon] + x[Badlands,Bryce_Canyon] + x[Big_Bend,Bryce_Canyon] + x[Biscayne,Bryce_Canyon] + x[Black_Canyon_of_the_Gunnison,Bryce_Canyon] + x[Bryce_Canyon,Bryce_Canyon] + x[Canyonlands,Bryce_Canyon] + x[Capitol_Reef,Bryce_Canyon] + x[Carlsbad_Caverns,Bryce_Canyon] + x[Congaree,Bryce_Canyon] + x[Crater_Lake,Bryce_Canyon] + x[Cuyahoga_Valley,Bryce_Canyon] + x[Death_Valley,Bryce_Canyon] + x[Everglades,Bryce_Canyon] + x[Gateway_Arch,Bryce_Canyon] + x[Glacier,Bryce_Canyon] + x[Grand_Canyon,Bryce_Canyon] + x[Grand_Teton,Bryce_Canyon] + x[Great_Basin,Bryce_Canyon] + x[Great_Sand_Dunes,Bryce_Canyon] + x[Great_Smoky_Mountains,Bryce_Canyon] + x[Guadalupe_Mountains,Bryce_Canyon] + x[Hot_Springs,Bryce_Canyon] + x[Indiana_Dunes,Bryce_Canyon] + x[Joshua_Tree,Bryce_Canyon] + x[Kings_Canyon,Bryce_Canyon] + x[Lassen_Volcanic,Bryce_Canyon] + x[Mammoth_Cave,Bryce_Canyon] + x[Mesa_Verde,Bryce_Canyon] + x[Mount_Rainier,Bryce_Canyon] + x[New_River_Gorge,Bryce_Canyon] + x[North_Cascades,Bryce_Canyon] + x[Olympic,Bryce_Canyon] + x[Petrified_Forest,Bryce_Canyon] + x[Pinnacles,Bryce_Canyon] + x[Redwood,Bryce_Canyon] + x[Rocky_Mountain,Bryce_Canyon] + x[Saguaro,Bryce_Canyon] + x[Sequoia,Bryce_Canyon] + x[Shenandoah,Bryce_Canyon] + x[Theodore_Roosevelt,Bryce_Canyon] + x[Voyageurs,Bryce_Canyon] + x[White_Sands,Bryce_Canyon] + x[Wind_Cave,Bryce_Canyon] + x[Yellowstone,Bryce_Canyon] + x[Yosemite,Bryce_Canyon] + x[Zion,Bryce_Canyon] + x[source,Bryce_Canyon] ≤ 1.0\n",
       " x_col_constr[Canyonlands] : x[Acadia,Canyonlands] + x[Arches,Canyonlands] + x[Badlands,Canyonlands] + x[Big_Bend,Canyonlands] + x[Biscayne,Canyonlands] + x[Black_Canyon_of_the_Gunnison,Canyonlands] + x[Bryce_Canyon,Canyonlands] + x[Canyonlands,Canyonlands] + x[Capitol_Reef,Canyonlands] + x[Carlsbad_Caverns,Canyonlands] + x[Congaree,Canyonlands] + x[Crater_Lake,Canyonlands] + x[Cuyahoga_Valley,Canyonlands] + x[Death_Valley,Canyonlands] + x[Everglades,Canyonlands] + x[Gateway_Arch,Canyonlands] + x[Glacier,Canyonlands] + x[Grand_Canyon,Canyonlands] + x[Grand_Teton,Canyonlands] + x[Great_Basin,Canyonlands] + x[Great_Sand_Dunes,Canyonlands] + x[Great_Smoky_Mountains,Canyonlands] + x[Guadalupe_Mountains,Canyonlands] + x[Hot_Springs,Canyonlands] + x[Indiana_Dunes,Canyonlands] + x[Joshua_Tree,Canyonlands] + x[Kings_Canyon,Canyonlands] + x[Lassen_Volcanic,Canyonlands] + x[Mammoth_Cave,Canyonlands] + x[Mesa_Verde,Canyonlands] + x[Mount_Rainier,Canyonlands] + x[New_River_Gorge,Canyonlands] + x[North_Cascades,Canyonlands] + x[Olympic,Canyonlands] + x[Petrified_Forest,Canyonlands] + x[Pinnacles,Canyonlands] + x[Redwood,Canyonlands] + x[Rocky_Mountain,Canyonlands] + x[Saguaro,Canyonlands] + x[Sequoia,Canyonlands] + x[Shenandoah,Canyonlands] + x[Theodore_Roosevelt,Canyonlands] + x[Voyageurs,Canyonlands] + x[White_Sands,Canyonlands] + x[Wind_Cave,Canyonlands] + x[Yellowstone,Canyonlands] + x[Yosemite,Canyonlands] + x[Zion,Canyonlands] + x[source,Canyonlands] ≤ 1.0\n",
       " x_col_constr[Capitol_Reef] : x[Acadia,Capitol_Reef] + x[Arches,Capitol_Reef] + x[Badlands,Capitol_Reef] + x[Big_Bend,Capitol_Reef] + x[Biscayne,Capitol_Reef] + x[Black_Canyon_of_the_Gunnison,Capitol_Reef] + x[Bryce_Canyon,Capitol_Reef] + x[Canyonlands,Capitol_Reef] + x[Capitol_Reef,Capitol_Reef] + x[Carlsbad_Caverns,Capitol_Reef] + x[Congaree,Capitol_Reef] + x[Crater_Lake,Capitol_Reef] + x[Cuyahoga_Valley,Capitol_Reef] + x[Death_Valley,Capitol_Reef] + x[Everglades,Capitol_Reef] + x[Gateway_Arch,Capitol_Reef] + x[Glacier,Capitol_Reef] + x[Grand_Canyon,Capitol_Reef] + x[Grand_Teton,Capitol_Reef] + x[Great_Basin,Capitol_Reef] + x[Great_Sand_Dunes,Capitol_Reef] + x[Great_Smoky_Mountains,Capitol_Reef] + x[Guadalupe_Mountains,Capitol_Reef] + x[Hot_Springs,Capitol_Reef] + x[Indiana_Dunes,Capitol_Reef] + x[Joshua_Tree,Capitol_Reef] + x[Kings_Canyon,Capitol_Reef] + x[Lassen_Volcanic,Capitol_Reef] + x[Mammoth_Cave,Capitol_Reef] + x[Mesa_Verde,Capitol_Reef] + x[Mount_Rainier,Capitol_Reef] + x[New_River_Gorge,Capitol_Reef] + x[North_Cascades,Capitol_Reef] + x[Olympic,Capitol_Reef] + x[Petrified_Forest,Capitol_Reef] + x[Pinnacles,Capitol_Reef] + x[Redwood,Capitol_Reef] + x[Rocky_Mountain,Capitol_Reef] + x[Saguaro,Capitol_Reef] + x[Sequoia,Capitol_Reef] + x[Shenandoah,Capitol_Reef] + x[Theodore_Roosevelt,Capitol_Reef] + x[Voyageurs,Capitol_Reef] + x[White_Sands,Capitol_Reef] + x[Wind_Cave,Capitol_Reef] + x[Yellowstone,Capitol_Reef] + x[Yosemite,Capitol_Reef] + x[Zion,Capitol_Reef] + x[source,Capitol_Reef] ≤ 1.0\n",
       " x_col_constr[Carlsbad_Caverns] : x[Acadia,Carlsbad_Caverns] + x[Arches,Carlsbad_Caverns] + x[Badlands,Carlsbad_Caverns] + x[Big_Bend,Carlsbad_Caverns] + x[Biscayne,Carlsbad_Caverns] + x[Black_Canyon_of_the_Gunnison,Carlsbad_Caverns] + x[Bryce_Canyon,Carlsbad_Caverns] + x[Canyonlands,Carlsbad_Caverns] + x[Capitol_Reef,Carlsbad_Caverns] + x[Carlsbad_Caverns,Carlsbad_Caverns] + x[Congaree,Carlsbad_Caverns] + x[Crater_Lake,Carlsbad_Caverns] + x[Cuyahoga_Valley,Carlsbad_Caverns] + x[Death_Valley,Carlsbad_Caverns] + x[Everglades,Carlsbad_Caverns] + x[Gateway_Arch,Carlsbad_Caverns] + x[Glacier,Carlsbad_Caverns] + x[Grand_Canyon,Carlsbad_Caverns] + x[Grand_Teton,Carlsbad_Caverns] + x[Great_Basin,Carlsbad_Caverns] + x[Great_Sand_Dunes,Carlsbad_Caverns] + x[Great_Smoky_Mountains,Carlsbad_Caverns] + x[Guadalupe_Mountains,Carlsbad_Caverns] + x[Hot_Springs,Carlsbad_Caverns] + x[Indiana_Dunes,Carlsbad_Caverns] + x[Joshua_Tree,Carlsbad_Caverns] + x[Kings_Canyon,Carlsbad_Caverns] + x[Lassen_Volcanic,Carlsbad_Caverns] + x[Mammoth_Cave,Carlsbad_Caverns] + x[Mesa_Verde,Carlsbad_Caverns] + x[Mount_Rainier,Carlsbad_Caverns] + x[New_River_Gorge,Carlsbad_Caverns] + x[North_Cascades,Carlsbad_Caverns] + x[Olympic,Carlsbad_Caverns] + x[Petrified_Forest,Carlsbad_Caverns] + x[Pinnacles,Carlsbad_Caverns] + x[Redwood,Carlsbad_Caverns] + x[Rocky_Mountain,Carlsbad_Caverns] + x[Saguaro,Carlsbad_Caverns] + x[Sequoia,Carlsbad_Caverns] + x[Shenandoah,Carlsbad_Caverns] + x[Theodore_Roosevelt,Carlsbad_Caverns] + x[Voyageurs,Carlsbad_Caverns] + x[White_Sands,Carlsbad_Caverns] + x[Wind_Cave,Carlsbad_Caverns] + x[Yellowstone,Carlsbad_Caverns] + x[Yosemite,Carlsbad_Caverns] + x[Zion,Carlsbad_Caverns] + x[source,Carlsbad_Caverns] ≤ 1.0\n",
       " x_col_constr[Congaree] : x[Acadia,Congaree] + x[Arches,Congaree] + x[Badlands,Congaree] + x[Big_Bend,Congaree] + x[Biscayne,Congaree] + x[Black_Canyon_of_the_Gunnison,Congaree] + x[Bryce_Canyon,Congaree] + x[Canyonlands,Congaree] + x[Capitol_Reef,Congaree] + x[Carlsbad_Caverns,Congaree] + x[Congaree,Congaree] + x[Crater_Lake,Congaree] + x[Cuyahoga_Valley,Congaree] + x[Death_Valley,Congaree] + x[Everglades,Congaree] + x[Gateway_Arch,Congaree] + x[Glacier,Congaree] + x[Grand_Canyon,Congaree] + x[Grand_Teton,Congaree] + x[Great_Basin,Congaree] + x[Great_Sand_Dunes,Congaree] + x[Great_Smoky_Mountains,Congaree] + x[Guadalupe_Mountains,Congaree] + x[Hot_Springs,Congaree] + x[Indiana_Dunes,Congaree] + x[Joshua_Tree,Congaree] + x[Kings_Canyon,Congaree] + x[Lassen_Volcanic,Congaree] + x[Mammoth_Cave,Congaree] + x[Mesa_Verde,Congaree] + x[Mount_Rainier,Congaree] + x[New_River_Gorge,Congaree] + x[North_Cascades,Congaree] + x[Olympic,Congaree] + x[Petrified_Forest,Congaree] + x[Pinnacles,Congaree] + x[Redwood,Congaree] + x[Rocky_Mountain,Congaree] + x[Saguaro,Congaree] + x[Sequoia,Congaree] + x[Shenandoah,Congaree] + x[Theodore_Roosevelt,Congaree] + x[Voyageurs,Congaree] + x[White_Sands,Congaree] + x[Wind_Cave,Congaree] + x[Yellowstone,Congaree] + x[Yosemite,Congaree] + x[Zion,Congaree] + x[source,Congaree] ≤ 1.0\n",
       " x_col_constr[Crater_Lake] : x[Acadia,Crater_Lake] + x[Arches,Crater_Lake] + x[Badlands,Crater_Lake] + x[Big_Bend,Crater_Lake] + x[Biscayne,Crater_Lake] + x[Black_Canyon_of_the_Gunnison,Crater_Lake] + x[Bryce_Canyon,Crater_Lake] + x[Canyonlands,Crater_Lake] + x[Capitol_Reef,Crater_Lake] + x[Carlsbad_Caverns,Crater_Lake] + x[Congaree,Crater_Lake] + x[Crater_Lake,Crater_Lake] + x[Cuyahoga_Valley,Crater_Lake] + x[Death_Valley,Crater_Lake] + x[Everglades,Crater_Lake] + x[Gateway_Arch,Crater_Lake] + x[Glacier,Crater_Lake] + x[Grand_Canyon,Crater_Lake] + x[Grand_Teton,Crater_Lake] + x[Great_Basin,Crater_Lake] + x[Great_Sand_Dunes,Crater_Lake] + x[Great_Smoky_Mountains,Crater_Lake] + x[Guadalupe_Mountains,Crater_Lake] + x[Hot_Springs,Crater_Lake] + x[Indiana_Dunes,Crater_Lake] + x[Joshua_Tree,Crater_Lake] + x[Kings_Canyon,Crater_Lake] + x[Lassen_Volcanic,Crater_Lake] + x[Mammoth_Cave,Crater_Lake] + x[Mesa_Verde,Crater_Lake] + x[Mount_Rainier,Crater_Lake] + x[New_River_Gorge,Crater_Lake] + x[North_Cascades,Crater_Lake] + x[Olympic,Crater_Lake] + x[Petrified_Forest,Crater_Lake] + x[Pinnacles,Crater_Lake] + x[Redwood,Crater_Lake] + x[Rocky_Mountain,Crater_Lake] + x[Saguaro,Crater_Lake] + x[Sequoia,Crater_Lake] + x[Shenandoah,Crater_Lake] + x[Theodore_Roosevelt,Crater_Lake] + x[Voyageurs,Crater_Lake] + x[White_Sands,Crater_Lake] + x[Wind_Cave,Crater_Lake] + x[Yellowstone,Crater_Lake] + x[Yosemite,Crater_Lake] + x[Zion,Crater_Lake] + x[source,Crater_Lake] ≤ 1.0\n",
       " x_col_constr[Cuyahoga_Valley] : x[Acadia,Cuyahoga_Valley] + x[Arches,Cuyahoga_Valley] + x[Badlands,Cuyahoga_Valley] + x[Big_Bend,Cuyahoga_Valley] + x[Biscayne,Cuyahoga_Valley] + x[Black_Canyon_of_the_Gunnison,Cuyahoga_Valley] + x[Bryce_Canyon,Cuyahoga_Valley] + x[Canyonlands,Cuyahoga_Valley] + x[Capitol_Reef,Cuyahoga_Valley] + x[Carlsbad_Caverns,Cuyahoga_Valley] + x[Congaree,Cuyahoga_Valley] + x[Crater_Lake,Cuyahoga_Valley] + x[Cuyahoga_Valley,Cuyahoga_Valley] + x[Death_Valley,Cuyahoga_Valley] + x[Everglades,Cuyahoga_Valley] + x[Gateway_Arch,Cuyahoga_Valley] + x[Glacier,Cuyahoga_Valley] + x[Grand_Canyon,Cuyahoga_Valley] + x[Grand_Teton,Cuyahoga_Valley] + x[Great_Basin,Cuyahoga_Valley] + x[Great_Sand_Dunes,Cuyahoga_Valley] + x[Great_Smoky_Mountains,Cuyahoga_Valley] + x[Guadalupe_Mountains,Cuyahoga_Valley] + x[Hot_Springs,Cuyahoga_Valley] + x[Indiana_Dunes,Cuyahoga_Valley] + x[Joshua_Tree,Cuyahoga_Valley] + x[Kings_Canyon,Cuyahoga_Valley] + x[Lassen_Volcanic,Cuyahoga_Valley] + x[Mammoth_Cave,Cuyahoga_Valley] + x[Mesa_Verde,Cuyahoga_Valley] + x[Mount_Rainier,Cuyahoga_Valley] + x[New_River_Gorge,Cuyahoga_Valley] + x[North_Cascades,Cuyahoga_Valley] + x[Olympic,Cuyahoga_Valley] + x[Petrified_Forest,Cuyahoga_Valley] + x[Pinnacles,Cuyahoga_Valley] + x[Redwood,Cuyahoga_Valley] + x[Rocky_Mountain,Cuyahoga_Valley] + x[Saguaro,Cuyahoga_Valley] + x[Sequoia,Cuyahoga_Valley] + x[Shenandoah,Cuyahoga_Valley] + x[Theodore_Roosevelt,Cuyahoga_Valley] + x[Voyageurs,Cuyahoga_Valley] + x[White_Sands,Cuyahoga_Valley] + x[Wind_Cave,Cuyahoga_Valley] + x[Yellowstone,Cuyahoga_Valley] + x[Yosemite,Cuyahoga_Valley] + x[Zion,Cuyahoga_Valley] + x[source,Cuyahoga_Valley] ≤ 1.0\n",
       " ⋮\n",
       " x_col_constr[Rocky_Mountain] : x[Acadia,Rocky_Mountain] + x[Arches,Rocky_Mountain] + x[Badlands,Rocky_Mountain] + x[Big_Bend,Rocky_Mountain] + x[Biscayne,Rocky_Mountain] + x[Black_Canyon_of_the_Gunnison,Rocky_Mountain] + x[Bryce_Canyon,Rocky_Mountain] + x[Canyonlands,Rocky_Mountain] + x[Capitol_Reef,Rocky_Mountain] + x[Carlsbad_Caverns,Rocky_Mountain] + x[Congaree,Rocky_Mountain] + x[Crater_Lake,Rocky_Mountain] + x[Cuyahoga_Valley,Rocky_Mountain] + x[Death_Valley,Rocky_Mountain] + x[Everglades,Rocky_Mountain] + x[Gateway_Arch,Rocky_Mountain] + x[Glacier,Rocky_Mountain] + x[Grand_Canyon,Rocky_Mountain] + x[Grand_Teton,Rocky_Mountain] + x[Great_Basin,Rocky_Mountain] + x[Great_Sand_Dunes,Rocky_Mountain] + x[Great_Smoky_Mountains,Rocky_Mountain] + x[Guadalupe_Mountains,Rocky_Mountain] + x[Hot_Springs,Rocky_Mountain] + x[Indiana_Dunes,Rocky_Mountain] + x[Joshua_Tree,Rocky_Mountain] + x[Kings_Canyon,Rocky_Mountain] + x[Lassen_Volcanic,Rocky_Mountain] + x[Mammoth_Cave,Rocky_Mountain] + x[Mesa_Verde,Rocky_Mountain] + x[Mount_Rainier,Rocky_Mountain] + x[New_River_Gorge,Rocky_Mountain] + x[North_Cascades,Rocky_Mountain] + x[Olympic,Rocky_Mountain] + x[Petrified_Forest,Rocky_Mountain] + x[Pinnacles,Rocky_Mountain] + x[Redwood,Rocky_Mountain] + x[Rocky_Mountain,Rocky_Mountain] + x[Saguaro,Rocky_Mountain] + x[Sequoia,Rocky_Mountain] + x[Shenandoah,Rocky_Mountain] + x[Theodore_Roosevelt,Rocky_Mountain] + x[Voyageurs,Rocky_Mountain] + x[White_Sands,Rocky_Mountain] + x[Wind_Cave,Rocky_Mountain] + x[Yellowstone,Rocky_Mountain] + x[Yosemite,Rocky_Mountain] + x[Zion,Rocky_Mountain] + x[source,Rocky_Mountain] ≤ 1.0\n",
       " x_col_constr[Saguaro] : x[Acadia,Saguaro] + x[Arches,Saguaro] + x[Badlands,Saguaro] + x[Big_Bend,Saguaro] + x[Biscayne,Saguaro] + x[Black_Canyon_of_the_Gunnison,Saguaro] + x[Bryce_Canyon,Saguaro] + x[Canyonlands,Saguaro] + x[Capitol_Reef,Saguaro] + x[Carlsbad_Caverns,Saguaro] + x[Congaree,Saguaro] + x[Crater_Lake,Saguaro] + x[Cuyahoga_Valley,Saguaro] + x[Death_Valley,Saguaro] + x[Everglades,Saguaro] + x[Gateway_Arch,Saguaro] + x[Glacier,Saguaro] + x[Grand_Canyon,Saguaro] + x[Grand_Teton,Saguaro] + x[Great_Basin,Saguaro] + x[Great_Sand_Dunes,Saguaro] + x[Great_Smoky_Mountains,Saguaro] + x[Guadalupe_Mountains,Saguaro] + x[Hot_Springs,Saguaro] + x[Indiana_Dunes,Saguaro] + x[Joshua_Tree,Saguaro] + x[Kings_Canyon,Saguaro] + x[Lassen_Volcanic,Saguaro] + x[Mammoth_Cave,Saguaro] + x[Mesa_Verde,Saguaro] + x[Mount_Rainier,Saguaro] + x[New_River_Gorge,Saguaro] + x[North_Cascades,Saguaro] + x[Olympic,Saguaro] + x[Petrified_Forest,Saguaro] + x[Pinnacles,Saguaro] + x[Redwood,Saguaro] + x[Rocky_Mountain,Saguaro] + x[Saguaro,Saguaro] + x[Sequoia,Saguaro] + x[Shenandoah,Saguaro] + x[Theodore_Roosevelt,Saguaro] + x[Voyageurs,Saguaro] + x[White_Sands,Saguaro] + x[Wind_Cave,Saguaro] + x[Yellowstone,Saguaro] + x[Yosemite,Saguaro] + x[Zion,Saguaro] + x[source,Saguaro] ≤ 1.0\n",
       " x_col_constr[Sequoia] : x[Acadia,Sequoia] + x[Arches,Sequoia] + x[Badlands,Sequoia] + x[Big_Bend,Sequoia] + x[Biscayne,Sequoia] + x[Black_Canyon_of_the_Gunnison,Sequoia] + x[Bryce_Canyon,Sequoia] + x[Canyonlands,Sequoia] + x[Capitol_Reef,Sequoia] + x[Carlsbad_Caverns,Sequoia] + x[Congaree,Sequoia] + x[Crater_Lake,Sequoia] + x[Cuyahoga_Valley,Sequoia] + x[Death_Valley,Sequoia] + x[Everglades,Sequoia] + x[Gateway_Arch,Sequoia] + x[Glacier,Sequoia] + x[Grand_Canyon,Sequoia] + x[Grand_Teton,Sequoia] + x[Great_Basin,Sequoia] + x[Great_Sand_Dunes,Sequoia] + x[Great_Smoky_Mountains,Sequoia] + x[Guadalupe_Mountains,Sequoia] + x[Hot_Springs,Sequoia] + x[Indiana_Dunes,Sequoia] + x[Joshua_Tree,Sequoia] + x[Kings_Canyon,Sequoia] + x[Lassen_Volcanic,Sequoia] + x[Mammoth_Cave,Sequoia] + x[Mesa_Verde,Sequoia] + x[Mount_Rainier,Sequoia] + x[New_River_Gorge,Sequoia] + x[North_Cascades,Sequoia] + x[Olympic,Sequoia] + x[Petrified_Forest,Sequoia] + x[Pinnacles,Sequoia] + x[Redwood,Sequoia] + x[Rocky_Mountain,Sequoia] + x[Saguaro,Sequoia] + x[Sequoia,Sequoia] + x[Shenandoah,Sequoia] + x[Theodore_Roosevelt,Sequoia] + x[Voyageurs,Sequoia] + x[White_Sands,Sequoia] + x[Wind_Cave,Sequoia] + x[Yellowstone,Sequoia] + x[Yosemite,Sequoia] + x[Zion,Sequoia] + x[source,Sequoia] ≤ 1.0\n",
       " x_col_constr[Shenandoah] : x[Acadia,Shenandoah] + x[Arches,Shenandoah] + x[Badlands,Shenandoah] + x[Big_Bend,Shenandoah] + x[Biscayne,Shenandoah] + x[Black_Canyon_of_the_Gunnison,Shenandoah] + x[Bryce_Canyon,Shenandoah] + x[Canyonlands,Shenandoah] + x[Capitol_Reef,Shenandoah] + x[Carlsbad_Caverns,Shenandoah] + x[Congaree,Shenandoah] + x[Crater_Lake,Shenandoah] + x[Cuyahoga_Valley,Shenandoah] + x[Death_Valley,Shenandoah] + x[Everglades,Shenandoah] + x[Gateway_Arch,Shenandoah] + x[Glacier,Shenandoah] + x[Grand_Canyon,Shenandoah] + x[Grand_Teton,Shenandoah] + x[Great_Basin,Shenandoah] + x[Great_Sand_Dunes,Shenandoah] + x[Great_Smoky_Mountains,Shenandoah] + x[Guadalupe_Mountains,Shenandoah] + x[Hot_Springs,Shenandoah] + x[Indiana_Dunes,Shenandoah] + x[Joshua_Tree,Shenandoah] + x[Kings_Canyon,Shenandoah] + x[Lassen_Volcanic,Shenandoah] + x[Mammoth_Cave,Shenandoah] + x[Mesa_Verde,Shenandoah] + x[Mount_Rainier,Shenandoah] + x[New_River_Gorge,Shenandoah] + x[North_Cascades,Shenandoah] + x[Olympic,Shenandoah] + x[Petrified_Forest,Shenandoah] + x[Pinnacles,Shenandoah] + x[Redwood,Shenandoah] + x[Rocky_Mountain,Shenandoah] + x[Saguaro,Shenandoah] + x[Sequoia,Shenandoah] + x[Shenandoah,Shenandoah] + x[Theodore_Roosevelt,Shenandoah] + x[Voyageurs,Shenandoah] + x[White_Sands,Shenandoah] + x[Wind_Cave,Shenandoah] + x[Yellowstone,Shenandoah] + x[Yosemite,Shenandoah] + x[Zion,Shenandoah] + x[source,Shenandoah] ≤ 1.0\n",
       " x_col_constr[Theodore_Roosevelt] : x[Acadia,Theodore_Roosevelt] + x[Arches,Theodore_Roosevelt] + x[Badlands,Theodore_Roosevelt] + x[Big_Bend,Theodore_Roosevelt] + x[Biscayne,Theodore_Roosevelt] + x[Black_Canyon_of_the_Gunnison,Theodore_Roosevelt] + x[Bryce_Canyon,Theodore_Roosevelt] + x[Canyonlands,Theodore_Roosevelt] + x[Capitol_Reef,Theodore_Roosevelt] + x[Carlsbad_Caverns,Theodore_Roosevelt] + x[Congaree,Theodore_Roosevelt] + x[Crater_Lake,Theodore_Roosevelt] + x[Cuyahoga_Valley,Theodore_Roosevelt] + x[Death_Valley,Theodore_Roosevelt] + x[Everglades,Theodore_Roosevelt] + x[Gateway_Arch,Theodore_Roosevelt] + x[Glacier,Theodore_Roosevelt] + x[Grand_Canyon,Theodore_Roosevelt] + x[Grand_Teton,Theodore_Roosevelt] + x[Great_Basin,Theodore_Roosevelt] + x[Great_Sand_Dunes,Theodore_Roosevelt] + x[Great_Smoky_Mountains,Theodore_Roosevelt] + x[Guadalupe_Mountains,Theodore_Roosevelt] + x[Hot_Springs,Theodore_Roosevelt] + x[Indiana_Dunes,Theodore_Roosevelt] + x[Joshua_Tree,Theodore_Roosevelt] + x[Kings_Canyon,Theodore_Roosevelt] + x[Lassen_Volcanic,Theodore_Roosevelt] + x[Mammoth_Cave,Theodore_Roosevelt] + x[Mesa_Verde,Theodore_Roosevelt] + x[Mount_Rainier,Theodore_Roosevelt] + x[New_River_Gorge,Theodore_Roosevelt] + x[North_Cascades,Theodore_Roosevelt] + x[Olympic,Theodore_Roosevelt] + x[Petrified_Forest,Theodore_Roosevelt] + x[Pinnacles,Theodore_Roosevelt] + x[Redwood,Theodore_Roosevelt] + x[Rocky_Mountain,Theodore_Roosevelt] + x[Saguaro,Theodore_Roosevelt] + x[Sequoia,Theodore_Roosevelt] + x[Shenandoah,Theodore_Roosevelt] + x[Theodore_Roosevelt,Theodore_Roosevelt] + x[Voyageurs,Theodore_Roosevelt] + x[White_Sands,Theodore_Roosevelt] + x[Wind_Cave,Theodore_Roosevelt] + x[Yellowstone,Theodore_Roosevelt] + x[Yosemite,Theodore_Roosevelt] + x[Zion,Theodore_Roosevelt] + x[source,Theodore_Roosevelt] ≤ 1.0\n",
       " x_col_constr[Voyageurs] : x[Acadia,Voyageurs] + x[Arches,Voyageurs] + x[Badlands,Voyageurs] + x[Big_Bend,Voyageurs] + x[Biscayne,Voyageurs] + x[Black_Canyon_of_the_Gunnison,Voyageurs] + x[Bryce_Canyon,Voyageurs] + x[Canyonlands,Voyageurs] + x[Capitol_Reef,Voyageurs] + x[Carlsbad_Caverns,Voyageurs] + x[Congaree,Voyageurs] + x[Crater_Lake,Voyageurs] + x[Cuyahoga_Valley,Voyageurs] + x[Death_Valley,Voyageurs] + x[Everglades,Voyageurs] + x[Gateway_Arch,Voyageurs] + x[Glacier,Voyageurs] + x[Grand_Canyon,Voyageurs] + x[Grand_Teton,Voyageurs] + x[Great_Basin,Voyageurs] + x[Great_Sand_Dunes,Voyageurs] + x[Great_Smoky_Mountains,Voyageurs] + x[Guadalupe_Mountains,Voyageurs] + x[Hot_Springs,Voyageurs] + x[Indiana_Dunes,Voyageurs] + x[Joshua_Tree,Voyageurs] + x[Kings_Canyon,Voyageurs] + x[Lassen_Volcanic,Voyageurs] + x[Mammoth_Cave,Voyageurs] + x[Mesa_Verde,Voyageurs] + x[Mount_Rainier,Voyageurs] + x[New_River_Gorge,Voyageurs] + x[North_Cascades,Voyageurs] + x[Olympic,Voyageurs] + x[Petrified_Forest,Voyageurs] + x[Pinnacles,Voyageurs] + x[Redwood,Voyageurs] + x[Rocky_Mountain,Voyageurs] + x[Saguaro,Voyageurs] + x[Sequoia,Voyageurs] + x[Shenandoah,Voyageurs] + x[Theodore_Roosevelt,Voyageurs] + x[Voyageurs,Voyageurs] + x[White_Sands,Voyageurs] + x[Wind_Cave,Voyageurs] + x[Yellowstone,Voyageurs] + x[Yosemite,Voyageurs] + x[Zion,Voyageurs] + x[source,Voyageurs] ≤ 1.0\n",
       " x_col_constr[White_Sands] : x[Acadia,White_Sands] + x[Arches,White_Sands] + x[Badlands,White_Sands] + x[Big_Bend,White_Sands] + x[Biscayne,White_Sands] + x[Black_Canyon_of_the_Gunnison,White_Sands] + x[Bryce_Canyon,White_Sands] + x[Canyonlands,White_Sands] + x[Capitol_Reef,White_Sands] + x[Carlsbad_Caverns,White_Sands] + x[Congaree,White_Sands] + x[Crater_Lake,White_Sands] + x[Cuyahoga_Valley,White_Sands] + x[Death_Valley,White_Sands] + x[Everglades,White_Sands] + x[Gateway_Arch,White_Sands] + x[Glacier,White_Sands] + x[Grand_Canyon,White_Sands] + x[Grand_Teton,White_Sands] + x[Great_Basin,White_Sands] + x[Great_Sand_Dunes,White_Sands] + x[Great_Smoky_Mountains,White_Sands] + x[Guadalupe_Mountains,White_Sands] + x[Hot_Springs,White_Sands] + x[Indiana_Dunes,White_Sands] + x[Joshua_Tree,White_Sands] + x[Kings_Canyon,White_Sands] + x[Lassen_Volcanic,White_Sands] + x[Mammoth_Cave,White_Sands] + x[Mesa_Verde,White_Sands] + x[Mount_Rainier,White_Sands] + x[New_River_Gorge,White_Sands] + x[North_Cascades,White_Sands] + x[Olympic,White_Sands] + x[Petrified_Forest,White_Sands] + x[Pinnacles,White_Sands] + x[Redwood,White_Sands] + x[Rocky_Mountain,White_Sands] + x[Saguaro,White_Sands] + x[Sequoia,White_Sands] + x[Shenandoah,White_Sands] + x[Theodore_Roosevelt,White_Sands] + x[Voyageurs,White_Sands] + x[White_Sands,White_Sands] + x[Wind_Cave,White_Sands] + x[Yellowstone,White_Sands] + x[Yosemite,White_Sands] + x[Zion,White_Sands] + x[source,White_Sands] ≤ 1.0\n",
       " x_col_constr[Wind_Cave] : x[Acadia,Wind_Cave] + x[Arches,Wind_Cave] + x[Badlands,Wind_Cave] + x[Big_Bend,Wind_Cave] + x[Biscayne,Wind_Cave] + x[Black_Canyon_of_the_Gunnison,Wind_Cave] + x[Bryce_Canyon,Wind_Cave] + x[Canyonlands,Wind_Cave] + x[Capitol_Reef,Wind_Cave] + x[Carlsbad_Caverns,Wind_Cave] + x[Congaree,Wind_Cave] + x[Crater_Lake,Wind_Cave] + x[Cuyahoga_Valley,Wind_Cave] + x[Death_Valley,Wind_Cave] + x[Everglades,Wind_Cave] + x[Gateway_Arch,Wind_Cave] + x[Glacier,Wind_Cave] + x[Grand_Canyon,Wind_Cave] + x[Grand_Teton,Wind_Cave] + x[Great_Basin,Wind_Cave] + x[Great_Sand_Dunes,Wind_Cave] + x[Great_Smoky_Mountains,Wind_Cave] + x[Guadalupe_Mountains,Wind_Cave] + x[Hot_Springs,Wind_Cave] + x[Indiana_Dunes,Wind_Cave] + x[Joshua_Tree,Wind_Cave] + x[Kings_Canyon,Wind_Cave] + x[Lassen_Volcanic,Wind_Cave] + x[Mammoth_Cave,Wind_Cave] + x[Mesa_Verde,Wind_Cave] + x[Mount_Rainier,Wind_Cave] + x[New_River_Gorge,Wind_Cave] + x[North_Cascades,Wind_Cave] + x[Olympic,Wind_Cave] + x[Petrified_Forest,Wind_Cave] + x[Pinnacles,Wind_Cave] + x[Redwood,Wind_Cave] + x[Rocky_Mountain,Wind_Cave] + x[Saguaro,Wind_Cave] + x[Sequoia,Wind_Cave] + x[Shenandoah,Wind_Cave] + x[Theodore_Roosevelt,Wind_Cave] + x[Voyageurs,Wind_Cave] + x[White_Sands,Wind_Cave] + x[Wind_Cave,Wind_Cave] + x[Yellowstone,Wind_Cave] + x[Yosemite,Wind_Cave] + x[Zion,Wind_Cave] + x[source,Wind_Cave] ≤ 1.0\n",
       " x_col_constr[Yellowstone] : x[Acadia,Yellowstone] + x[Arches,Yellowstone] + x[Badlands,Yellowstone] + x[Big_Bend,Yellowstone] + x[Biscayne,Yellowstone] + x[Black_Canyon_of_the_Gunnison,Yellowstone] + x[Bryce_Canyon,Yellowstone] + x[Canyonlands,Yellowstone] + x[Capitol_Reef,Yellowstone] + x[Carlsbad_Caverns,Yellowstone] + x[Congaree,Yellowstone] + x[Crater_Lake,Yellowstone] + x[Cuyahoga_Valley,Yellowstone] + x[Death_Valley,Yellowstone] + x[Everglades,Yellowstone] + x[Gateway_Arch,Yellowstone] + x[Glacier,Yellowstone] + x[Grand_Canyon,Yellowstone] + x[Grand_Teton,Yellowstone] + x[Great_Basin,Yellowstone] + x[Great_Sand_Dunes,Yellowstone] + x[Great_Smoky_Mountains,Yellowstone] + x[Guadalupe_Mountains,Yellowstone] + x[Hot_Springs,Yellowstone] + x[Indiana_Dunes,Yellowstone] + x[Joshua_Tree,Yellowstone] + x[Kings_Canyon,Yellowstone] + x[Lassen_Volcanic,Yellowstone] + x[Mammoth_Cave,Yellowstone] + x[Mesa_Verde,Yellowstone] + x[Mount_Rainier,Yellowstone] + x[New_River_Gorge,Yellowstone] + x[North_Cascades,Yellowstone] + x[Olympic,Yellowstone] + x[Petrified_Forest,Yellowstone] + x[Pinnacles,Yellowstone] + x[Redwood,Yellowstone] + x[Rocky_Mountain,Yellowstone] + x[Saguaro,Yellowstone] + x[Sequoia,Yellowstone] + x[Shenandoah,Yellowstone] + x[Theodore_Roosevelt,Yellowstone] + x[Voyageurs,Yellowstone] + x[White_Sands,Yellowstone] + x[Wind_Cave,Yellowstone] + x[Yellowstone,Yellowstone] + x[Yosemite,Yellowstone] + x[Zion,Yellowstone] + x[source,Yellowstone] ≤ 1.0\n",
       " x_col_constr[Yosemite] : x[Acadia,Yosemite] + x[Arches,Yosemite] + x[Badlands,Yosemite] + x[Big_Bend,Yosemite] + x[Biscayne,Yosemite] + x[Black_Canyon_of_the_Gunnison,Yosemite] + x[Bryce_Canyon,Yosemite] + x[Canyonlands,Yosemite] + x[Capitol_Reef,Yosemite] + x[Carlsbad_Caverns,Yosemite] + x[Congaree,Yosemite] + x[Crater_Lake,Yosemite] + x[Cuyahoga_Valley,Yosemite] + x[Death_Valley,Yosemite] + x[Everglades,Yosemite] + x[Gateway_Arch,Yosemite] + x[Glacier,Yosemite] + x[Grand_Canyon,Yosemite] + x[Grand_Teton,Yosemite] + x[Great_Basin,Yosemite] + x[Great_Sand_Dunes,Yosemite] + x[Great_Smoky_Mountains,Yosemite] + x[Guadalupe_Mountains,Yosemite] + x[Hot_Springs,Yosemite] + x[Indiana_Dunes,Yosemite] + x[Joshua_Tree,Yosemite] + x[Kings_Canyon,Yosemite] + x[Lassen_Volcanic,Yosemite] + x[Mammoth_Cave,Yosemite] + x[Mesa_Verde,Yosemite] + x[Mount_Rainier,Yosemite] + x[New_River_Gorge,Yosemite] + x[North_Cascades,Yosemite] + x[Olympic,Yosemite] + x[Petrified_Forest,Yosemite] + x[Pinnacles,Yosemite] + x[Redwood,Yosemite] + x[Rocky_Mountain,Yosemite] + x[Saguaro,Yosemite] + x[Sequoia,Yosemite] + x[Shenandoah,Yosemite] + x[Theodore_Roosevelt,Yosemite] + x[Voyageurs,Yosemite] + x[White_Sands,Yosemite] + x[Wind_Cave,Yosemite] + x[Yellowstone,Yosemite] + x[Yosemite,Yosemite] + x[Zion,Yosemite] + x[source,Yosemite] ≤ 1.0\n",
       " x_col_constr[Zion] : x[Acadia,Zion] + x[Arches,Zion] + x[Badlands,Zion] + x[Big_Bend,Zion] + x[Biscayne,Zion] + x[Black_Canyon_of_the_Gunnison,Zion] + x[Bryce_Canyon,Zion] + x[Canyonlands,Zion] + x[Capitol_Reef,Zion] + x[Carlsbad_Caverns,Zion] + x[Congaree,Zion] + x[Crater_Lake,Zion] + x[Cuyahoga_Valley,Zion] + x[Death_Valley,Zion] + x[Everglades,Zion] + x[Gateway_Arch,Zion] + x[Glacier,Zion] + x[Grand_Canyon,Zion] + x[Grand_Teton,Zion] + x[Great_Basin,Zion] + x[Great_Sand_Dunes,Zion] + x[Great_Smoky_Mountains,Zion] + x[Guadalupe_Mountains,Zion] + x[Hot_Springs,Zion] + x[Indiana_Dunes,Zion] + x[Joshua_Tree,Zion] + x[Kings_Canyon,Zion] + x[Lassen_Volcanic,Zion] + x[Mammoth_Cave,Zion] + x[Mesa_Verde,Zion] + x[Mount_Rainier,Zion] + x[New_River_Gorge,Zion] + x[North_Cascades,Zion] + x[Olympic,Zion] + x[Petrified_Forest,Zion] + x[Pinnacles,Zion] + x[Redwood,Zion] + x[Rocky_Mountain,Zion] + x[Saguaro,Zion] + x[Sequoia,Zion] + x[Shenandoah,Zion] + x[Theodore_Roosevelt,Zion] + x[Voyageurs,Zion] + x[White_Sands,Zion] + x[Wind_Cave,Zion] + x[Yellowstone,Zion] + x[Yosemite,Zion] + x[Zion,Zion] + x[source,Zion] ≤ 1.0\n",
       " x_col_constr[source] : x[Acadia,source] + x[Arches,source] + x[Badlands,source] + x[Big_Bend,source] + x[Biscayne,source] + x[Black_Canyon_of_the_Gunnison,source] + x[Bryce_Canyon,source] + x[Canyonlands,source] + x[Capitol_Reef,source] + x[Carlsbad_Caverns,source] + x[Congaree,source] + x[Crater_Lake,source] + x[Cuyahoga_Valley,source] + x[Death_Valley,source] + x[Everglades,source] + x[Gateway_Arch,source] + x[Glacier,source] + x[Grand_Canyon,source] + x[Grand_Teton,source] + x[Great_Basin,source] + x[Great_Sand_Dunes,source] + x[Great_Smoky_Mountains,source] + x[Guadalupe_Mountains,source] + x[Hot_Springs,source] + x[Indiana_Dunes,source] + x[Joshua_Tree,source] + x[Kings_Canyon,source] + x[Lassen_Volcanic,source] + x[Mammoth_Cave,source] + x[Mesa_Verde,source] + x[Mount_Rainier,source] + x[New_River_Gorge,source] + x[North_Cascades,source] + x[Olympic,source] + x[Petrified_Forest,source] + x[Pinnacles,source] + x[Redwood,source] + x[Rocky_Mountain,source] + x[Saguaro,source] + x[Sequoia,source] + x[Shenandoah,source] + x[Theodore_Roosevelt,source] + x[Voyageurs,source] + x[White_Sands,source] + x[Wind_Cave,source] + x[Yellowstone,source] + x[Yosemite,source] + x[Zion,source] + x[source,source] ≤ 1.0"
      ]
     },
     "execution_count": 388,
     "metadata": {},
     "output_type": "execute_result"
    }
   ],
   "source": [
    "# travel time constraints\n",
    "@constraint(m, sum(s[i] * x[i, j] for i in p for j in p) \n",
    "    + sum(T[i, j] * x[i, j] for i in p for j in p) <= maxTravel)\n",
    "\n",
    "@constraint(m, sum(s[i] * x[i, j] for i in p for j in p) \n",
    "    + sum(T[i, j] * x[i, j] for i in p for j in p) >= minTravel)\n",
    "\n",
    "# balance constraint\n",
    "# @constraint(m, balance[k in p], sum(x[k, j] for j in p) - sum(x[i, k] for i in p) == b[k])\n",
    "\n",
    "# no self loops constraint\n",
    "@constraint(m, x_constr[i in p], x[i, i] == 0)\n",
    "\n",
    "# no source --> sink loops constraints\n",
    "# @constraint(m, sink_constr, x[:sink, :source] == 0)\n",
    "# @constraint(m, source_constr, x[:source, :sink] == 0)\n",
    "\n",
    "# start at source, end at sink constraints\n",
    "@constraint(m, start_constr, sum(x[:source, j] for j in p) == 1)\n",
    "@constraint(m, end_constr, sum(x[i, :source] for i in p) == 1)\n",
    "\n",
    "# MTZ logical constraint\n",
    "@constraint(m, MTZ[i in p, j in p[2:end]], u[i] - u[j] + n*x[i, j] <= n - 1)\n",
    "\n",
    "# one out edge, one in edge constraints (at most)\n",
    "@constraint(m, x_row_constr[k in p], sum(x[k, j] for j in p) <= 1)\n",
    "@constraint(m, x_col_constr[k in p], sum(x[i, k] for i in p) <= 1)\n",
    "\n",
    "# if sum(s[i] * x[i, j] for i in p for j in p) \n",
    "#     + sum(T[i, j] * x[i, j] for i in p for j in p) >= minTravel\n",
    "# @constraint(m, return_yet[i in p, j in p], sum(s[i] * x[i, j] for i in p for j in p) \n",
    "#                         + sum(T[i, j] * x[i, j] for i in p for j in p) + x[i,j] >= 7)\n",
    "# then x[i, :sink] == 1\n",
    "# @constraint(m, min[i in p], )\n",
    "\n",
    "# if x[i, j] == 1, then x[j, i] == 0\n",
    "# @constraint(m, one_way[i in p, j in p], x[i, j] <= x[j, i])\n",
    "\n"
   ]
  },
  {
   "cell_type": "code",
   "execution_count": 389,
   "id": "75dcfbe0",
   "metadata": {},
   "outputs": [
    {
     "name": "stdout",
     "output_type": "stream",
     "text": [
      "Gurobi Optimizer version 9.5.2 build v9.5.2rc0 (mac64[x86])\n",
      "Thread count: 4 physical cores, 8 logical processors, using up to 8 threads\n",
      "Optimize a model with 2503 rows, 2450 columns and 16709 nonzeros\n",
      "Model fingerprint: 0xcfb48ca7\n",
      "Variable types: 49 continuous, 2401 integer (2401 binary)\n",
      "Coefficient statistics:\n",
      "  Matrix range     [1e-01, 1e+01]\n",
      "  Objective range  [4e+01, 4e+03]\n",
      "  Bounds range     [1e+00, 5e+00]\n",
      "  RHS range        [1e+00, 1e+01]\n",
      "Found heuristic solution: objective 1980.3605000\n",
      "Presolve removed 245 rows and 150 columns\n",
      "Presolve time: 0.07s\n",
      "Presolved: 2258 rows, 2300 columns, 15448 nonzeros\n",
      "Variable types: 46 continuous, 2254 integer (2254 binary)\n",
      "Found heuristic solution: objective 1528.5750000\n",
      "\n",
      "Root relaxation: objective 5.416834e+02, 7 iterations, 0.00 seconds (0.00 work units)\n",
      "\n",
      "    Nodes    |    Current Node    |     Objective Bounds      |     Work\n",
      " Expl Unexpl |  Obj  Depth IntInf | Incumbent    BestBd   Gap | It/Node Time\n",
      "\n",
      "     0     0  541.68343    0    1 1528.57500  541.68343  64.6%     -    0s\n",
      "H    0     0                     615.2640000  541.68343  12.0%     -    0s\n",
      "     0     0  542.53972    0    3  615.26400  542.53972  11.8%     -    0s\n",
      "     0     0  542.53972    0    1  615.26400  542.53972  11.8%     -    0s\n",
      "H    0     0                     614.6520000  549.59035  10.6%     -    0s\n",
      "     0     0  550.55152    0    3  614.65200  550.55152  10.4%     -    0s\n",
      "     0     0  575.34424    0    6  614.65200  575.34424  6.40%     -    0s\n",
      "     0     0  583.84279    0    8  614.65200  583.84279  5.01%     -    0s\n",
      "     0     0  591.10701    0    7  614.65200  591.10701  3.83%     -    0s\n",
      "     0     0  591.10701    0    1  614.65200  591.10701  3.83%     -    0s\n",
      "     0     0  591.10701    0    3  614.65200  591.10701  3.83%     -    0s\n",
      "     0     0  591.10701    0    6  614.65200  591.10701  3.83%     -    0s\n",
      "     0     0  592.96140    0    7  614.65200  592.96140  3.53%     -    0s\n",
      "     0     0  592.96140    0    7  614.65200  592.96140  3.53%     -    0s\n",
      "     0     0  593.49321    0    8  614.65200  593.49321  3.44%     -    0s\n",
      "     0     0  601.80694    0    8  614.65200  601.80694  2.09%     -    0s\n",
      "     0     0  603.52773    0    8  614.65200  603.52773  1.81%     -    0s\n",
      "     0     0  603.63273    0   10  614.65200  603.63273  1.79%     -    0s\n",
      "     0     0  605.11159    0   10  614.65200  605.11159  1.55%     -    0s\n",
      "     0     0  605.24391    0    9  614.65200  605.24391  1.53%     -    0s\n",
      "\n",
      "Cutting planes:\n",
      "  Learned: 1\n",
      "  Gomory: 2\n",
      "  MIR: 6\n",
      "  GUB cover: 2\n",
      "\n",
      "Explored 1 nodes (77 simplex iterations) in 0.17 seconds (0.12 work units)\n",
      "Thread count was 8 (of 8 available processors)\n",
      "\n",
      "Solution count 5: 614.652 615.264 714.927 ... 1980.36\n",
      "\n",
      "Optimal solution found (tolerance 1.00e-04)\n",
      "Best objective 6.146520000000e+02, best bound 6.146520000000e+02, gap 0.0000%\n",
      "\n",
      "User-callback calls 536, time in user-callback 0.00 sec\n"
     ]
    }
   ],
   "source": [
    "optimize!(m)"
   ]
  },
  {
   "cell_type": "code",
   "execution_count": 390,
   "id": "23b3bf79",
   "metadata": {},
   "outputs": [
    {
     "name": "stdout",
     "output_type": "stream",
     "text": [
      "cost of road trip: $614.652\n",
      "\n",
      "arc 1: Biscayne --> Everglades\n",
      "arc 2: Gateway_Arch --> source\n",
      "arc 3: Great_Smoky_Mountains --> Congaree\n",
      "arc 4: source --> Indiana_Dunes\n",
      "\n",
      "\n",
      "x[Biscayne,Everglades]\n",
      "x[Gateway_Arch,source]\n",
      "x[Great_Smoky_Mountains,Congaree]\n",
      "x[source,Indiana_Dunes]\n"
     ]
    }
   ],
   "source": [
    "counter = 0\n",
    "\n",
    "println(\"cost of road trip: \\$\", objective_value(m), \"\\n\")\n",
    "\n",
    "for i in p\n",
    "    for j in p\n",
    "        if value(x[i, j]) > 0\n",
    "            counter += 1\n",
    "            println(\"arc \", counter, \": \", i, \" --> \", j)\n",
    "        end\n",
    "    end\n",
    "end\n",
    " println(\"\\n\")\n",
    "for i in p\n",
    "    for j in p\n",
    "        if value(x[i, j]) > 0\n",
    "            counter += 1\n",
    "            println(x[i,j])\n",
    "        end\n",
    "    end\n",
    "end"
   ]
  },
  {
   "cell_type": "code",
   "execution_count": 377,
   "id": "f9694683",
   "metadata": {},
   "outputs": [
    {
     "name": "stdout",
     "output_type": "stream",
     "text": [
      "1.0 Acadia\n",
      "21.0 Arches\n",
      "45.0 Badlands\n",
      "11.000000000000002 Big_Bend\n",
      "5.000000000000002 Biscayne\n",
      "18.0 Black_Canyon_of_the_Gunnison\n",
      "23.0 Bryce_Canyon\n",
      "20.0 Canyonlands\n",
      "22.0 Capitol_Reef\n",
      "13.000000000000002 Carlsbad_Caverns\n",
      "4.000000000000002 Congaree\n",
      "37.0 Crater_Lake\n",
      "50.0 Cuyahoga_Valley\n",
      "30.0 Death_Valley\n",
      "6.000000000000002 Everglades\n",
      "9.000000000000002 Gateway_Arch\n",
      "41.0 Glacier\n",
      "26.0 Grand_Canyon\n",
      "43.0 Grand_Teton\n",
      "24.0 Great_Basin\n",
      "15.000000000000002 Great_Sand_Dunes\n",
      "7.000000000000002 Great_Smoky_Mountains\n",
      "12.000000000000002 Guadalupe_Mountains\n",
      "10.000000000000002 Hot_Springs\n",
      "49.0 Indiana_Dunes\n",
      "29.0 Joshua_Tree\n",
      "32.0 Kings_Canyon\n",
      "35.0 Lassen_Volcanic\n",
      "8.000000000000002 Mammoth_Cave\n",
      "19.0 Mesa_Verde\n",
      "38.0 Mount_Rainier\n",
      "3.0000000000000013 New_River_Gorge\n",
      "40.0 North_Cascades\n",
      "39.0 Olympic\n",
      "27.0 Petrified_Forest\n",
      "34.0 Pinnacles\n",
      "36.0 Redwood\n",
      "17.0 Rocky_Mountain\n",
      "28.0 Saguaro\n",
      "33.0 Sequoia\n",
      "2.0000000000000013 Shenandoah\n",
      "46.0 Theodore_Roosevelt\n",
      "47.0 Voyageurs\n",
      "14.000000000000002 White_Sands\n",
      "44.0 Wind_Cave\n",
      "42.0 Yellowstone\n",
      "31.0 Yosemite\n",
      "25.0 Zion\n",
      "48.0 source\n"
     ]
    }
   ],
   "source": [
    "for i in p\n",
    "    println(value.(u[i]), \" \", i)\n",
    "end"
   ]
  },
  {
   "cell_type": "code",
   "execution_count": null,
   "id": "99fe0516",
   "metadata": {},
   "outputs": [],
   "source": []
  }
 ],
 "metadata": {
  "kernelspec": {
   "display_name": "Julia 1.7.3",
   "language": "julia",
   "name": "julia-1.7"
  },
  "language_info": {
   "file_extension": ".jl",
   "mimetype": "application/julia",
   "name": "julia",
   "version": "1.7.3"
  }
 },
 "nbformat": 4,
 "nbformat_minor": 5
}
