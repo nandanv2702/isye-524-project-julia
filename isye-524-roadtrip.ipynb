{
 "cells": [
  {
   "cell_type": "markdown",
   "id": "ad0133c9",
   "metadata": {},
   "source": [
    "# mathematical model"
   ]
  },
  {
   "cell_type": "markdown",
   "id": "8c736838",
   "metadata": {},
   "source": [
    "let p be a list of national parks and our starting location\n",
    "\n",
    "let x be a vector representing if an arc is chosen\n",
    "\n",
    "let e be a vector of entrance fees for each entered park of an arc\n",
    "\n",
    "let l be a vector of est. lodging fees for each entered park of an arc\n",
    "\n",
    "let s be a vector of length of stays for each entered park of an arc\n",
    "\n",
    "let g be a vector of gas prices for each arc\n",
    "\n",
    "let D be a vector of  arc distances (miles) between each set of parks\n",
    "\n",
    "let T be a vector of arc times (s) between each set of parks\n",
    "\n",
    "let M be the maximum days allowed to travel\n",
    "\n",
    "let m be the minimum days allowed to travel\n",
    "\n",
    "\\begin{align*}\n",
    "\\underset{x}{\\min} \\ & \\Sigma\\ e_{ij} x_{ij} + l_{ij} x_{ij} + g_{ij} x_{ij}, \\ \\forall\\ i \\in p,\\ \\forall\\ j \\in p  & \\\\\n",
    "\\text{s.t.} \\ & \\Sigma\\ s_{ij} x_{ij} + 86400*\\Sigma\\ T_{ij} x_{ij} \\le M,\\ \\forall\\ i \\in p,\\ \\forall\\ j \\in p &\\\\\n",
    "& \\Sigma\\ s_{ij} x_{ij} + 86400*\\Sigma\\ T_{ij} x_{ij} \\ge m,\\ \\forall\\ i \\in p,\\ \\forall\\ j \\in p &\\\\\n",
    "&  &\\\\\n",
    "\\end{align*}"
   ]
  },
  {
   "cell_type": "code",
   "execution_count": null,
   "id": "b1b98a47",
   "metadata": {},
   "outputs": [],
   "source": []
  }
 ],
 "metadata": {
  "kernelspec": {
   "display_name": "Julia 1.7.3",
   "language": "julia",
   "name": "julia-1.7"
  },
  "language_info": {
   "file_extension": ".jl",
   "mimetype": "application/julia",
   "name": "julia",
   "version": "1.7.3"
  }
 },
 "nbformat": 4,
 "nbformat_minor": 5
}
