{
 "cells": [
  {
   "cell_type": "markdown",
   "id": "38641d28",
   "metadata": {},
   "source": [
    "### CS/ECE/ISyE 524 &mdash; Introduction to Optimization &mdash; Summer 2022 ###\n",
    "\n",
    "# Road Trip Optimizer #\n",
    "\n",
    "#### Alex Gilmore (asgilmore@wisc.edu), Nandan Venkatesan (nvenkatesan2@wisc.edu), and Brendan Zimmer (btzimmer@wisc.edu)\n",
    "\n",
    "### Table of Contents\n",
    "\n",
    "1. [Introduction](#1.-Introduction)\n",
    "1. [Mathematical Model](#2.-Mathematical-Model)\n",
    "1. [Solution](#3.-Solution)\n",
    "1. [Results and Discussion](#4.-Results-and-Discussion)\n",
    "1. [Optional Subsection](#4.A.-Feel-free-to-add-subsections)\n",
    "1. [Conclusion](#5.-Conclusion)"
   ]
  },
  {
   "cell_type": "markdown",
   "id": "4e761dc8",
   "metadata": {},
   "source": [
    "## 1. Introduction ##"
   ]
  },
  {
   "cell_type": "markdown",
   "id": "ed06fa15",
   "metadata": {},
   "source": [
    "add from google doc"
   ]
  },
  {
   "cell_type": "markdown",
   "id": "c09a82d2",
   "metadata": {},
   "source": [
    "## 2. Mathematical Model ##"
   ]
  },
  {
   "cell_type": "markdown",
   "id": "646f9580",
   "metadata": {},
   "source": [
    "We are utilizing an MCNF framework to solve our primary problem. The source and sink will be identical since we are interested in only round trips and we will be implementing a minimum trip length to prevent the model from cutting the trip short to reduce cost."
   ]
  },
  {
   "cell_type": "markdown",
   "id": "01da0564",
   "metadata": {},
   "source": [
    "let p be a list of national parks and our starting location\n",
    "\n",
    "let $x_{ij}$ be a matrix representing if an arc is chosen $\\forall i \\in p, \\forall j \\in p$\n",
    "\n",
    "let $e_i$ be a vector of entrance fees $\\forall i \\in p$\n",
    "\n",
    "let $l_i$ be a vector of est. lodging fees $\\forall i \\in p$\n",
    "\n",
    "let $s_i$ be a vector of length of stays $\\forall i \\in p$\n",
    "\n",
    "let $c_i$ be a vector of the total lodging and entrance fee cost $\\forall i \\in p$\n",
    "\n",
    "let $g_{ij}$ be a matrix of gas prices $\\forall i \\in p, \\forall j \\in p$\n",
    "\n",
    "let $D_{ij}$ be a matrix of  arc distances (miles) $\\forall i \\in p, \\forall j \\in p$\n",
    "\n",
    "let $T_{ij}$ be a matrix of arc times (days) $\\forall i \\in p, \\forall j \\in p$\n",
    "\n",
    "let $b_k$ be a vector of \"supply/demand\" $\\forall k \\in p$\n",
    "\n",
    "let M be the maximum days allowed to travel\n",
    "\n",
    "let m be the minimum days allowed to travel\n",
    "\n",
    "\n",
    "\\begin{align*}\n",
    "\\underset{x}{\\max} \\ & - \\underset{(ij) \\in p}\\Sigma\\ c_{i} x_{ij} - \\underset{(ij) \\in p}\\Sigma\\ g_{ij} x_{ij}  & \\\\\n",
    "\\text{s.t.} \\ & \\underset{(ij) \\in p}\\Sigma\\ s_{i} x_{ij} + \\underset{(ij) \\in p}\\Sigma\\ T_{ij} x_{ij} \\le M &\\\\\n",
    "& - \\underset{(ij) \\in p}\\Sigma\\ s_{i} x_{ij} - \\underset{(ij) \\in p}\\Sigma\\ T_{ij} x_{ij} \\le - m &\\\\\n",
    "& \\underset{j \\in p}\\Sigma\\ x_{kj} - \\underset{i \\in p}\\Sigma\\ x_{ik} \\le b_k,\\ \\forall\\ k \\in p &\\\\\n",
    "& - \\underset{j \\in p}\\Sigma\\ x_{kj} + \\underset{i \\in p}\\Sigma\\ x_{ik} \\le - b_k,\\ \\forall\\ k \\in p &\\\\\n",
    "\\end{align*}\n",
    "\n"
   ]
  },
  {
   "cell_type": "code",
   "execution_count": null,
   "id": "2c952e5f",
   "metadata": {},
   "outputs": [],
   "source": [
    "#constraints\n",
    "# travel max\n",
    "# travel min\n",
    "# park selection"
   ]
  },
  {
   "cell_type": "markdown",
   "id": "d825903b",
   "metadata": {},
   "source": [
    "Variables:\n",
    "\n",
    "- $x_{ij}$ = $\\left\\{ \\begin{array}{ll}\n",
    "        1 \\ \\mbox{if arc $x_{ij}$ is in road trip path} \\\\\n",
    "        0 \\ \\mbox{otherwise} & \n",
    "    \\end{array} \\right\\}$\n",
    "\n",
    "Constraints:\n",
    "1. The total time traveled must be less than the maximum travel time.\n",
    "\n",
    "\n",
    "2. The total time traveled must be more than the minimum desired travel time. This prevents the model from decreasing the trip length in an effort to reduce the trip cost. \n",
    "\n",
    "\n",
    "3. This is a flow balance constraint to direct our road trip path. Only one arc (road) may enter a node (park) and only one arc may leave. This constraint is split into two halves (the third and fourth constraint listed) to display the mathematical model in standard form.\n",
    "\n",
    "Objective Function:\n",
    "- This is minimzing the collective cost of visiting parks + the gas cost of traveling between all parks. "
   ]
  },
  {
   "cell_type": "markdown",
   "id": "added231",
   "metadata": {},
   "source": [
    "## 3. Solution ##"
   ]
  },
  {
   "cell_type": "markdown",
   "id": "c3b7777f",
   "metadata": {},
   "source": [
    "### data entry"
   ]
  },
  {
   "cell_type": "code",
   "execution_count": 197,
   "id": "70d735b3",
   "metadata": {},
   "outputs": [],
   "source": [
    "using Clp, Gurobi, JuMP, NamedArrays, CSV, DataFrames"
   ]
  },
  {
   "cell_type": "code",
   "execution_count": 346,
   "id": "3d84e1ab",
   "metadata": {},
   "outputs": [],
   "source": [
    "df = DataFrame(CSV.File(\"park_data.csv\"))\n",
    "\n",
    "# push!(df, (\"UW_Madison\", \"\", 0, 0, 0, 3.5))\n",
    "\n",
    "push!(df, (\"source\", \"\", 0, 0, 0, 3.5))\n",
    "# push!(df, (\"sink\", \"\", 0, 0, 0, 3.5))\n",
    "\n",
    "pTemp = df[!, \"park name\"]\n",
    "p = Array{Symbol}(undef, length(pTemp))\n",
    "\n",
    "# format parks list to symbols\n",
    "for i in [1:1:length(pTemp);]\n",
    "    pTemp[i] = replace(pTemp[i], \" \" => \"_\", \"–\" => \"_\", \".\" => \"\")\n",
    "    p[i] = Symbol(pTemp[i])\n",
    "end \n",
    "\n",
    "e = NamedArray(df[!, \"entrance fee\"], (p))\n",
    "\n",
    "l = NamedArray(df[!, \"lodging\"], (p))\n",
    "\n",
    "s = NamedArray(df[!, \"est. length of stay\"], (p))\n",
    "\n",
    "parkGas = NamedArray(df[!, \"gas price\"], (p)) \n",
    "\n",
    ";"
   ]
  },
  {
   "cell_type": "markdown",
   "id": "cd7b6748",
   "metadata": {},
   "source": [
    "$c = s * (l + e)$"
   ]
  },
  {
   "cell_type": "code",
   "execution_count": 347,
   "id": "964f207f",
   "metadata": {},
   "outputs": [],
   "source": [
    "c = s .* (l + e)\n",
    ";"
   ]
  },
  {
   "cell_type": "code",
   "execution_count": 348,
   "id": "fcfe9dc5",
   "metadata": {},
   "outputs": [
    {
     "data": {
      "text/plain": [
       "(49,)"
      ]
     },
     "execution_count": 348,
     "metadata": {},
     "output_type": "execute_result"
    }
   ],
   "source": [
    "dist = DataFrame(CSV.File(\"arc_data_dist_all.csv\"))\n",
    "\n",
    "# distO = DataFrame(CSV.File(\"origin_data_dist.csv\"))\n",
    "\n",
    "time = DataFrame(CSV.File(\"arc_data_time_all.csv\"))\n",
    "\n",
    "# timeO = DataFrame(CSV.File(\"origin_data_time.csv\"))\n",
    "\n",
    "# dist.UW_Madison = distO[!, 2]\n",
    "# time.UW_Madison = timeO[!, 2]\n",
    "\n",
    "size(time[1:49, 2:50])\n",
    "size(p)"
   ]
  },
  {
   "cell_type": "code",
   "execution_count": 351,
   "id": "a781d31f",
   "metadata": {},
   "outputs": [],
   "source": [
    "D = Float64.(NamedArray(Matrix(dist[1:49,2:50]), (p, p), (\"entering\", \"leaving\")))\n",
    "T = NamedArray(Matrix(time[1:49,2:50]), (p, p), (\"entering\", \"leaving\"))\n",
    ";"
   ]
  },
  {
   "cell_type": "code",
   "execution_count": 352,
   "id": "14057b0a",
   "metadata": {},
   "outputs": [],
   "source": [
    "T = T ./ 86400 # convert time from seconds to days\n",
    ";"
   ]
  },
  {
   "cell_type": "markdown",
   "id": "1ebb26f0",
   "metadata": {},
   "source": [
    "$g_{ij} =  \\frac{parkGas_i + parkGas_j}{2} * \\frac{1}{milesPerGallon} * D_{ij}$"
   ]
  },
  {
   "cell_type": "code",
   "execution_count": 353,
   "id": "3e6b3556",
   "metadata": {},
   "outputs": [
    {
     "name": "stdout",
     "output_type": "stream",
     "text": [
      "acadia to yosemite distance: 3100.0 miles\n",
      "acadia to yosemite estimated gas cost: $795.15\n",
      "acadia to yosemite time : 1.9795138888888888 days\n"
     ]
    }
   ],
   "source": [
    "# calculate the gas cost matrix\n",
    "\n",
    "milesPerGallon = 20.0\n",
    "\n",
    "g = copy(D)\n",
    "\n",
    "for i in p\n",
    "    for j in p\n",
    "        g[i, j] = (parkGas[i] + parkGas[j]) / (2milesPerGallon) * g[i, j]\n",
    "    end\n",
    "end\n",
    "\n",
    "println(\"acadia to yosemite distance: \", D[:Acadia, :Yosemite], \" miles\")\n",
    "println(\"acadia to yosemite estimated gas cost: \\$\", g[:Acadia, :Yosemite])\n",
    "println(\"acadia to yosemite time : \", T[:Acadia, :Yosemite], \" days\")"
   ]
  },
  {
   "cell_type": "code",
   "execution_count": 355,
   "id": "a4176cd1",
   "metadata": {},
   "outputs": [],
   "source": [
    "# T[:source, :Gateway_Arch] + T[:Gateway_Arch, :Hot_Springs] + T[:Hot_Springs, :Indiana_Dunes] + T[:Indiana_Dunes, :sink]"
   ]
  },
  {
   "cell_type": "code",
   "execution_count": 356,
   "id": "af0db060",
   "metadata": {},
   "outputs": [],
   "source": [
    "# set travel length boundaries\n",
    "\n",
    "maxTravel = 14\n",
    "minTravel = 7\n",
    ";"
   ]
  },
  {
   "cell_type": "code",
   "execution_count": 382,
   "id": "e89eb860",
   "metadata": {},
   "outputs": [],
   "source": [
    "# supply / demand\n",
    "\n",
    "# b = zeros(length(p))\n",
    "# b[49] = -1 # set sink\n",
    "# b[50] = 1 # set source\n",
    "\n",
    "# b = NamedArray(b, (p))\n",
    "\n",
    "# set n (total number of parks)\n",
    "n = length(p)\n",
    "# n = 5\n",
    ";"
   ]
  },
  {
   "cell_type": "markdown",
   "id": "5170697d",
   "metadata": {},
   "source": [
    "### model "
   ]
  },
  {
   "cell_type": "markdown",
   "id": "db468c39",
   "metadata": {},
   "source": [
    "#### Miller-Tucker-Zemlin method"
   ]
  },
  {
   "cell_type": "code",
   "execution_count": 398,
   "id": "e4ba7f32",
   "metadata": {},
   "outputs": [
    {
     "data": {
      "text/plain": [
       "2-dimensional DenseAxisArray{ConstraintRef{Model, MathOptInterface.ConstraintIndex{MathOptInterface.ScalarAffineFunction{Float64}, MathOptInterface.GreaterThan{Float64}}, ScalarShape},2,...} with index sets:\n",
       "    Dimension 1, [:Acadia, :Arches, :Badlands, :Big_Bend, :Biscayne, :Black_Canyon_of_the_Gunnison, :Bryce_Canyon, :Canyonlands, :Capitol_Reef, :Carlsbad_Caverns  …  :Sequoia, :Shenandoah, :Theodore_Roosevelt, :Voyageurs, :White_Sands, :Wind_Cave, :Yellowstone, :Yosemite, :Zion, :source]\n",
       "    Dimension 2, [:Acadia, :Arches, :Badlands, :Big_Bend, :Biscayne, :Black_Canyon_of_the_Gunnison, :Bryce_Canyon, :Canyonlands, :Capitol_Reef, :Carlsbad_Caverns  …  :Sequoia, :Shenandoah, :Theodore_Roosevelt, :Voyageurs, :White_Sands, :Wind_Cave, :Yellowstone, :Yosemite, :Zion, :source]\n",
       "And data, a 49×49 Matrix{ConstraintRef{Model, MathOptInterface.ConstraintIndex{MathOptInterface.ScalarAffineFunction{Float64}, MathOptInterface.GreaterThan{Float64}}, ScalarShape}}:\n",
       " connections[Acadia,Acadia] : x[Acadia,Arches] + x[Acadia,Badlands] + x[Acadia,Big_Bend] + x[Acadia,Biscayne] + x[Acadia,Black_Canyon_of_the_Gunnison] + x[Acadia,Bryce_Canyon] + x[Acadia,Canyonlands] + x[Acadia,Capitol_Reef] + x[Acadia,Carlsbad_Caverns] + x[Acadia,Congaree] + x[Acadia,Crater_Lake] + x[Acadia,Cuyahoga_Valley] + x[Acadia,Death_Valley] + x[Acadia,Everglades] + x[Acadia,Gateway_Arch] + x[Acadia,Glacier] + x[Acadia,Grand_Canyon] + x[Acadia,Grand_Teton] + x[Acadia,Great_Basin] + x[Acadia,Great_Sand_Dunes] + x[Acadia,Great_Smoky_Mountains] + x[Acadia,Guadalupe_Mountains] + x[Acadia,Hot_Springs] + x[Acadia,Indiana_Dunes] + x[Acadia,Joshua_Tree] + x[Acadia,Kings_Canyon] + x[Acadia,Lassen_Volcanic] + x[Acadia,Mammoth_Cave] + x[Acadia,Mesa_Verde] + x[Acadia,Mount_Rainier] + x[Acadia,New_River_Gorge] + x[Acadia,North_Cascades] + x[Acadia,Olympic] + x[Acadia,Petrified_Forest] + x[Acadia,Pinnacles] + x[Acadia,Redwood] + x[Acadia,Rocky_Mountain] + x[Acadia,Saguaro] + x[Acadia,Sequoia] + x[Acadia,Shenandoah] + x[Acadia,Theodore_Roosevelt] + x[Acadia,Voyageurs] + x[Acadia,White_Sands] + x[Acadia,Wind_Cave] + x[Acadia,Yellowstone] + x[Acadia,Yosemite] + x[Acadia,Zion] + x[Acadia,source] ≥ 0.0                                                                                    …  connections[Acadia,source] : x[source,Acadia] + x[source,Arches] + x[source,Badlands] + x[source,Big_Bend] + x[source,Biscayne] + x[source,Black_Canyon_of_the_Gunnison] + x[source,Bryce_Canyon] + x[source,Canyonlands] + x[source,Capitol_Reef] + x[source,Carlsbad_Caverns] + x[source,Congaree] + x[source,Crater_Lake] + x[source,Cuyahoga_Valley] + x[source,Death_Valley] + x[source,Everglades] + x[source,Gateway_Arch] + x[source,Glacier] + x[source,Grand_Canyon] + x[source,Grand_Teton] + x[source,Great_Basin] + x[source,Great_Sand_Dunes] + x[source,Great_Smoky_Mountains] + x[source,Guadalupe_Mountains] + x[source,Hot_Springs] + x[source,Indiana_Dunes] + x[source,Joshua_Tree] + x[source,Kings_Canyon] + x[source,Lassen_Volcanic] + x[source,Mammoth_Cave] + x[source,Mesa_Verde] + x[source,Mount_Rainier] + x[source,New_River_Gorge] + x[source,North_Cascades] + x[source,Olympic] + x[source,Petrified_Forest] + x[source,Pinnacles] + x[source,Redwood] + x[source,Rocky_Mountain] + x[source,Saguaro] + x[source,Sequoia] + x[source,Shenandoah] + x[source,Theodore_Roosevelt] + x[source,Voyageurs] + x[source,White_Sands] + x[source,Wind_Cave] + x[source,Yellowstone] + x[source,Yosemite] + x[source,Zion] - x[Acadia,source] + x[source,source] ≥ 0.0\n",
       " connections[Arches,Acadia] : x[Acadia,Acadia] - x[Arches,Acadia] + x[Acadia,Arches] + x[Acadia,Badlands] + x[Acadia,Big_Bend] + x[Acadia,Biscayne] + x[Acadia,Black_Canyon_of_the_Gunnison] + x[Acadia,Bryce_Canyon] + x[Acadia,Canyonlands] + x[Acadia,Capitol_Reef] + x[Acadia,Carlsbad_Caverns] + x[Acadia,Congaree] + x[Acadia,Crater_Lake] + x[Acadia,Cuyahoga_Valley] + x[Acadia,Death_Valley] + x[Acadia,Everglades] + x[Acadia,Gateway_Arch] + x[Acadia,Glacier] + x[Acadia,Grand_Canyon] + x[Acadia,Grand_Teton] + x[Acadia,Great_Basin] + x[Acadia,Great_Sand_Dunes] + x[Acadia,Great_Smoky_Mountains] + x[Acadia,Guadalupe_Mountains] + x[Acadia,Hot_Springs] + x[Acadia,Indiana_Dunes] + x[Acadia,Joshua_Tree] + x[Acadia,Kings_Canyon] + x[Acadia,Lassen_Volcanic] + x[Acadia,Mammoth_Cave] + x[Acadia,Mesa_Verde] + x[Acadia,Mount_Rainier] + x[Acadia,New_River_Gorge] + x[Acadia,North_Cascades] + x[Acadia,Olympic] + x[Acadia,Petrified_Forest] + x[Acadia,Pinnacles] + x[Acadia,Redwood] + x[Acadia,Rocky_Mountain] + x[Acadia,Saguaro] + x[Acadia,Sequoia] + x[Acadia,Shenandoah] + x[Acadia,Theodore_Roosevelt] + x[Acadia,Voyageurs] + x[Acadia,White_Sands] + x[Acadia,Wind_Cave] + x[Acadia,Yellowstone] + x[Acadia,Yosemite] + x[Acadia,Zion] + x[Acadia,source] ≥ 0.0                                                 connections[Arches,source] : x[source,Acadia] + x[source,Arches] + x[source,Badlands] + x[source,Big_Bend] + x[source,Biscayne] + x[source,Black_Canyon_of_the_Gunnison] + x[source,Bryce_Canyon] + x[source,Canyonlands] + x[source,Capitol_Reef] + x[source,Carlsbad_Caverns] + x[source,Congaree] + x[source,Crater_Lake] + x[source,Cuyahoga_Valley] + x[source,Death_Valley] + x[source,Everglades] + x[source,Gateway_Arch] + x[source,Glacier] + x[source,Grand_Canyon] + x[source,Grand_Teton] + x[source,Great_Basin] + x[source,Great_Sand_Dunes] + x[source,Great_Smoky_Mountains] + x[source,Guadalupe_Mountains] + x[source,Hot_Springs] + x[source,Indiana_Dunes] + x[source,Joshua_Tree] + x[source,Kings_Canyon] + x[source,Lassen_Volcanic] + x[source,Mammoth_Cave] + x[source,Mesa_Verde] + x[source,Mount_Rainier] + x[source,New_River_Gorge] + x[source,North_Cascades] + x[source,Olympic] + x[source,Petrified_Forest] + x[source,Pinnacles] + x[source,Redwood] + x[source,Rocky_Mountain] + x[source,Saguaro] + x[source,Sequoia] + x[source,Shenandoah] + x[source,Theodore_Roosevelt] + x[source,Voyageurs] + x[source,White_Sands] + x[source,Wind_Cave] + x[source,Yellowstone] + x[source,Yosemite] + x[source,Zion] - x[Arches,source] + x[source,source] ≥ 0.0\n",
       " connections[Badlands,Acadia] : x[Acadia,Acadia] - x[Badlands,Acadia] + x[Acadia,Arches] + x[Acadia,Badlands] + x[Acadia,Big_Bend] + x[Acadia,Biscayne] + x[Acadia,Black_Canyon_of_the_Gunnison] + x[Acadia,Bryce_Canyon] + x[Acadia,Canyonlands] + x[Acadia,Capitol_Reef] + x[Acadia,Carlsbad_Caverns] + x[Acadia,Congaree] + x[Acadia,Crater_Lake] + x[Acadia,Cuyahoga_Valley] + x[Acadia,Death_Valley] + x[Acadia,Everglades] + x[Acadia,Gateway_Arch] + x[Acadia,Glacier] + x[Acadia,Grand_Canyon] + x[Acadia,Grand_Teton] + x[Acadia,Great_Basin] + x[Acadia,Great_Sand_Dunes] + x[Acadia,Great_Smoky_Mountains] + x[Acadia,Guadalupe_Mountains] + x[Acadia,Hot_Springs] + x[Acadia,Indiana_Dunes] + x[Acadia,Joshua_Tree] + x[Acadia,Kings_Canyon] + x[Acadia,Lassen_Volcanic] + x[Acadia,Mammoth_Cave] + x[Acadia,Mesa_Verde] + x[Acadia,Mount_Rainier] + x[Acadia,New_River_Gorge] + x[Acadia,North_Cascades] + x[Acadia,Olympic] + x[Acadia,Petrified_Forest] + x[Acadia,Pinnacles] + x[Acadia,Redwood] + x[Acadia,Rocky_Mountain] + x[Acadia,Saguaro] + x[Acadia,Sequoia] + x[Acadia,Shenandoah] + x[Acadia,Theodore_Roosevelt] + x[Acadia,Voyageurs] + x[Acadia,White_Sands] + x[Acadia,Wind_Cave] + x[Acadia,Yellowstone] + x[Acadia,Yosemite] + x[Acadia,Zion] + x[Acadia,source] ≥ 0.0                                             connections[Badlands,source] : x[source,Acadia] + x[source,Arches] + x[source,Badlands] + x[source,Big_Bend] + x[source,Biscayne] + x[source,Black_Canyon_of_the_Gunnison] + x[source,Bryce_Canyon] + x[source,Canyonlands] + x[source,Capitol_Reef] + x[source,Carlsbad_Caverns] + x[source,Congaree] + x[source,Crater_Lake] + x[source,Cuyahoga_Valley] + x[source,Death_Valley] + x[source,Everglades] + x[source,Gateway_Arch] + x[source,Glacier] + x[source,Grand_Canyon] + x[source,Grand_Teton] + x[source,Great_Basin] + x[source,Great_Sand_Dunes] + x[source,Great_Smoky_Mountains] + x[source,Guadalupe_Mountains] + x[source,Hot_Springs] + x[source,Indiana_Dunes] + x[source,Joshua_Tree] + x[source,Kings_Canyon] + x[source,Lassen_Volcanic] + x[source,Mammoth_Cave] + x[source,Mesa_Verde] + x[source,Mount_Rainier] + x[source,New_River_Gorge] + x[source,North_Cascades] + x[source,Olympic] + x[source,Petrified_Forest] + x[source,Pinnacles] + x[source,Redwood] + x[source,Rocky_Mountain] + x[source,Saguaro] + x[source,Sequoia] + x[source,Shenandoah] + x[source,Theodore_Roosevelt] + x[source,Voyageurs] + x[source,White_Sands] + x[source,Wind_Cave] + x[source,Yellowstone] + x[source,Yosemite] + x[source,Zion] - x[Badlands,source] + x[source,source] ≥ 0.0\n",
       " connections[Big_Bend,Acadia] : x[Acadia,Acadia] - x[Big_Bend,Acadia] + x[Acadia,Arches] + x[Acadia,Badlands] + x[Acadia,Big_Bend] + x[Acadia,Biscayne] + x[Acadia,Black_Canyon_of_the_Gunnison] + x[Acadia,Bryce_Canyon] + x[Acadia,Canyonlands] + x[Acadia,Capitol_Reef] + x[Acadia,Carlsbad_Caverns] + x[Acadia,Congaree] + x[Acadia,Crater_Lake] + x[Acadia,Cuyahoga_Valley] + x[Acadia,Death_Valley] + x[Acadia,Everglades] + x[Acadia,Gateway_Arch] + x[Acadia,Glacier] + x[Acadia,Grand_Canyon] + x[Acadia,Grand_Teton] + x[Acadia,Great_Basin] + x[Acadia,Great_Sand_Dunes] + x[Acadia,Great_Smoky_Mountains] + x[Acadia,Guadalupe_Mountains] + x[Acadia,Hot_Springs] + x[Acadia,Indiana_Dunes] + x[Acadia,Joshua_Tree] + x[Acadia,Kings_Canyon] + x[Acadia,Lassen_Volcanic] + x[Acadia,Mammoth_Cave] + x[Acadia,Mesa_Verde] + x[Acadia,Mount_Rainier] + x[Acadia,New_River_Gorge] + x[Acadia,North_Cascades] + x[Acadia,Olympic] + x[Acadia,Petrified_Forest] + x[Acadia,Pinnacles] + x[Acadia,Redwood] + x[Acadia,Rocky_Mountain] + x[Acadia,Saguaro] + x[Acadia,Sequoia] + x[Acadia,Shenandoah] + x[Acadia,Theodore_Roosevelt] + x[Acadia,Voyageurs] + x[Acadia,White_Sands] + x[Acadia,Wind_Cave] + x[Acadia,Yellowstone] + x[Acadia,Yosemite] + x[Acadia,Zion] + x[Acadia,source] ≥ 0.0                                             connections[Big_Bend,source] : x[source,Acadia] + x[source,Arches] + x[source,Badlands] + x[source,Big_Bend] + x[source,Biscayne] + x[source,Black_Canyon_of_the_Gunnison] + x[source,Bryce_Canyon] + x[source,Canyonlands] + x[source,Capitol_Reef] + x[source,Carlsbad_Caverns] + x[source,Congaree] + x[source,Crater_Lake] + x[source,Cuyahoga_Valley] + x[source,Death_Valley] + x[source,Everglades] + x[source,Gateway_Arch] + x[source,Glacier] + x[source,Grand_Canyon] + x[source,Grand_Teton] + x[source,Great_Basin] + x[source,Great_Sand_Dunes] + x[source,Great_Smoky_Mountains] + x[source,Guadalupe_Mountains] + x[source,Hot_Springs] + x[source,Indiana_Dunes] + x[source,Joshua_Tree] + x[source,Kings_Canyon] + x[source,Lassen_Volcanic] + x[source,Mammoth_Cave] + x[source,Mesa_Verde] + x[source,Mount_Rainier] + x[source,New_River_Gorge] + x[source,North_Cascades] + x[source,Olympic] + x[source,Petrified_Forest] + x[source,Pinnacles] + x[source,Redwood] + x[source,Rocky_Mountain] + x[source,Saguaro] + x[source,Sequoia] + x[source,Shenandoah] + x[source,Theodore_Roosevelt] + x[source,Voyageurs] + x[source,White_Sands] + x[source,Wind_Cave] + x[source,Yellowstone] + x[source,Yosemite] + x[source,Zion] - x[Big_Bend,source] + x[source,source] ≥ 0.0\n",
       " connections[Biscayne,Acadia] : x[Acadia,Acadia] - x[Biscayne,Acadia] + x[Acadia,Arches] + x[Acadia,Badlands] + x[Acadia,Big_Bend] + x[Acadia,Biscayne] + x[Acadia,Black_Canyon_of_the_Gunnison] + x[Acadia,Bryce_Canyon] + x[Acadia,Canyonlands] + x[Acadia,Capitol_Reef] + x[Acadia,Carlsbad_Caverns] + x[Acadia,Congaree] + x[Acadia,Crater_Lake] + x[Acadia,Cuyahoga_Valley] + x[Acadia,Death_Valley] + x[Acadia,Everglades] + x[Acadia,Gateway_Arch] + x[Acadia,Glacier] + x[Acadia,Grand_Canyon] + x[Acadia,Grand_Teton] + x[Acadia,Great_Basin] + x[Acadia,Great_Sand_Dunes] + x[Acadia,Great_Smoky_Mountains] + x[Acadia,Guadalupe_Mountains] + x[Acadia,Hot_Springs] + x[Acadia,Indiana_Dunes] + x[Acadia,Joshua_Tree] + x[Acadia,Kings_Canyon] + x[Acadia,Lassen_Volcanic] + x[Acadia,Mammoth_Cave] + x[Acadia,Mesa_Verde] + x[Acadia,Mount_Rainier] + x[Acadia,New_River_Gorge] + x[Acadia,North_Cascades] + x[Acadia,Olympic] + x[Acadia,Petrified_Forest] + x[Acadia,Pinnacles] + x[Acadia,Redwood] + x[Acadia,Rocky_Mountain] + x[Acadia,Saguaro] + x[Acadia,Sequoia] + x[Acadia,Shenandoah] + x[Acadia,Theodore_Roosevelt] + x[Acadia,Voyageurs] + x[Acadia,White_Sands] + x[Acadia,Wind_Cave] + x[Acadia,Yellowstone] + x[Acadia,Yosemite] + x[Acadia,Zion] + x[Acadia,source] ≥ 0.0                                             connections[Biscayne,source] : x[source,Acadia] + x[source,Arches] + x[source,Badlands] + x[source,Big_Bend] + x[source,Biscayne] + x[source,Black_Canyon_of_the_Gunnison] + x[source,Bryce_Canyon] + x[source,Canyonlands] + x[source,Capitol_Reef] + x[source,Carlsbad_Caverns] + x[source,Congaree] + x[source,Crater_Lake] + x[source,Cuyahoga_Valley] + x[source,Death_Valley] + x[source,Everglades] + x[source,Gateway_Arch] + x[source,Glacier] + x[source,Grand_Canyon] + x[source,Grand_Teton] + x[source,Great_Basin] + x[source,Great_Sand_Dunes] + x[source,Great_Smoky_Mountains] + x[source,Guadalupe_Mountains] + x[source,Hot_Springs] + x[source,Indiana_Dunes] + x[source,Joshua_Tree] + x[source,Kings_Canyon] + x[source,Lassen_Volcanic] + x[source,Mammoth_Cave] + x[source,Mesa_Verde] + x[source,Mount_Rainier] + x[source,New_River_Gorge] + x[source,North_Cascades] + x[source,Olympic] + x[source,Petrified_Forest] + x[source,Pinnacles] + x[source,Redwood] + x[source,Rocky_Mountain] + x[source,Saguaro] + x[source,Sequoia] + x[source,Shenandoah] + x[source,Theodore_Roosevelt] + x[source,Voyageurs] + x[source,White_Sands] + x[source,Wind_Cave] + x[source,Yellowstone] + x[source,Yosemite] + x[source,Zion] - x[Biscayne,source] + x[source,source] ≥ 0.0\n",
       " connections[Black_Canyon_of_the_Gunnison,Acadia] : x[Acadia,Acadia] - x[Black_Canyon_of_the_Gunnison,Acadia] + x[Acadia,Arches] + x[Acadia,Badlands] + x[Acadia,Big_Bend] + x[Acadia,Biscayne] + x[Acadia,Black_Canyon_of_the_Gunnison] + x[Acadia,Bryce_Canyon] + x[Acadia,Canyonlands] + x[Acadia,Capitol_Reef] + x[Acadia,Carlsbad_Caverns] + x[Acadia,Congaree] + x[Acadia,Crater_Lake] + x[Acadia,Cuyahoga_Valley] + x[Acadia,Death_Valley] + x[Acadia,Everglades] + x[Acadia,Gateway_Arch] + x[Acadia,Glacier] + x[Acadia,Grand_Canyon] + x[Acadia,Grand_Teton] + x[Acadia,Great_Basin] + x[Acadia,Great_Sand_Dunes] + x[Acadia,Great_Smoky_Mountains] + x[Acadia,Guadalupe_Mountains] + x[Acadia,Hot_Springs] + x[Acadia,Indiana_Dunes] + x[Acadia,Joshua_Tree] + x[Acadia,Kings_Canyon] + x[Acadia,Lassen_Volcanic] + x[Acadia,Mammoth_Cave] + x[Acadia,Mesa_Verde] + x[Acadia,Mount_Rainier] + x[Acadia,New_River_Gorge] + x[Acadia,North_Cascades] + x[Acadia,Olympic] + x[Acadia,Petrified_Forest] + x[Acadia,Pinnacles] + x[Acadia,Redwood] + x[Acadia,Rocky_Mountain] + x[Acadia,Saguaro] + x[Acadia,Sequoia] + x[Acadia,Shenandoah] + x[Acadia,Theodore_Roosevelt] + x[Acadia,Voyageurs] + x[Acadia,White_Sands] + x[Acadia,Wind_Cave] + x[Acadia,Yellowstone] + x[Acadia,Yosemite] + x[Acadia,Zion] + x[Acadia,source] ≥ 0.0  …  connections[Black_Canyon_of_the_Gunnison,source] : x[source,Acadia] + x[source,Arches] + x[source,Badlands] + x[source,Big_Bend] + x[source,Biscayne] + x[source,Black_Canyon_of_the_Gunnison] + x[source,Bryce_Canyon] + x[source,Canyonlands] + x[source,Capitol_Reef] + x[source,Carlsbad_Caverns] + x[source,Congaree] + x[source,Crater_Lake] + x[source,Cuyahoga_Valley] + x[source,Death_Valley] + x[source,Everglades] + x[source,Gateway_Arch] + x[source,Glacier] + x[source,Grand_Canyon] + x[source,Grand_Teton] + x[source,Great_Basin] + x[source,Great_Sand_Dunes] + x[source,Great_Smoky_Mountains] + x[source,Guadalupe_Mountains] + x[source,Hot_Springs] + x[source,Indiana_Dunes] + x[source,Joshua_Tree] + x[source,Kings_Canyon] + x[source,Lassen_Volcanic] + x[source,Mammoth_Cave] + x[source,Mesa_Verde] + x[source,Mount_Rainier] + x[source,New_River_Gorge] + x[source,North_Cascades] + x[source,Olympic] + x[source,Petrified_Forest] + x[source,Pinnacles] + x[source,Redwood] + x[source,Rocky_Mountain] + x[source,Saguaro] + x[source,Sequoia] + x[source,Shenandoah] + x[source,Theodore_Roosevelt] + x[source,Voyageurs] + x[source,White_Sands] + x[source,Wind_Cave] + x[source,Yellowstone] + x[source,Yosemite] + x[source,Zion] - x[Black_Canyon_of_the_Gunnison,source] + x[source,source] ≥ 0.0\n",
       " connections[Bryce_Canyon,Acadia] : x[Acadia,Acadia] - x[Bryce_Canyon,Acadia] + x[Acadia,Arches] + x[Acadia,Badlands] + x[Acadia,Big_Bend] + x[Acadia,Biscayne] + x[Acadia,Black_Canyon_of_the_Gunnison] + x[Acadia,Bryce_Canyon] + x[Acadia,Canyonlands] + x[Acadia,Capitol_Reef] + x[Acadia,Carlsbad_Caverns] + x[Acadia,Congaree] + x[Acadia,Crater_Lake] + x[Acadia,Cuyahoga_Valley] + x[Acadia,Death_Valley] + x[Acadia,Everglades] + x[Acadia,Gateway_Arch] + x[Acadia,Glacier] + x[Acadia,Grand_Canyon] + x[Acadia,Grand_Teton] + x[Acadia,Great_Basin] + x[Acadia,Great_Sand_Dunes] + x[Acadia,Great_Smoky_Mountains] + x[Acadia,Guadalupe_Mountains] + x[Acadia,Hot_Springs] + x[Acadia,Indiana_Dunes] + x[Acadia,Joshua_Tree] + x[Acadia,Kings_Canyon] + x[Acadia,Lassen_Volcanic] + x[Acadia,Mammoth_Cave] + x[Acadia,Mesa_Verde] + x[Acadia,Mount_Rainier] + x[Acadia,New_River_Gorge] + x[Acadia,North_Cascades] + x[Acadia,Olympic] + x[Acadia,Petrified_Forest] + x[Acadia,Pinnacles] + x[Acadia,Redwood] + x[Acadia,Rocky_Mountain] + x[Acadia,Saguaro] + x[Acadia,Sequoia] + x[Acadia,Shenandoah] + x[Acadia,Theodore_Roosevelt] + x[Acadia,Voyageurs] + x[Acadia,White_Sands] + x[Acadia,Wind_Cave] + x[Acadia,Yellowstone] + x[Acadia,Yosemite] + x[Acadia,Zion] + x[Acadia,source] ≥ 0.0                                     connections[Bryce_Canyon,source] : x[source,Acadia] + x[source,Arches] + x[source,Badlands] + x[source,Big_Bend] + x[source,Biscayne] + x[source,Black_Canyon_of_the_Gunnison] + x[source,Bryce_Canyon] + x[source,Canyonlands] + x[source,Capitol_Reef] + x[source,Carlsbad_Caverns] + x[source,Congaree] + x[source,Crater_Lake] + x[source,Cuyahoga_Valley] + x[source,Death_Valley] + x[source,Everglades] + x[source,Gateway_Arch] + x[source,Glacier] + x[source,Grand_Canyon] + x[source,Grand_Teton] + x[source,Great_Basin] + x[source,Great_Sand_Dunes] + x[source,Great_Smoky_Mountains] + x[source,Guadalupe_Mountains] + x[source,Hot_Springs] + x[source,Indiana_Dunes] + x[source,Joshua_Tree] + x[source,Kings_Canyon] + x[source,Lassen_Volcanic] + x[source,Mammoth_Cave] + x[source,Mesa_Verde] + x[source,Mount_Rainier] + x[source,New_River_Gorge] + x[source,North_Cascades] + x[source,Olympic] + x[source,Petrified_Forest] + x[source,Pinnacles] + x[source,Redwood] + x[source,Rocky_Mountain] + x[source,Saguaro] + x[source,Sequoia] + x[source,Shenandoah] + x[source,Theodore_Roosevelt] + x[source,Voyageurs] + x[source,White_Sands] + x[source,Wind_Cave] + x[source,Yellowstone] + x[source,Yosemite] + x[source,Zion] - x[Bryce_Canyon,source] + x[source,source] ≥ 0.0\n",
       " connections[Canyonlands,Acadia] : x[Acadia,Acadia] - x[Canyonlands,Acadia] + x[Acadia,Arches] + x[Acadia,Badlands] + x[Acadia,Big_Bend] + x[Acadia,Biscayne] + x[Acadia,Black_Canyon_of_the_Gunnison] + x[Acadia,Bryce_Canyon] + x[Acadia,Canyonlands] + x[Acadia,Capitol_Reef] + x[Acadia,Carlsbad_Caverns] + x[Acadia,Congaree] + x[Acadia,Crater_Lake] + x[Acadia,Cuyahoga_Valley] + x[Acadia,Death_Valley] + x[Acadia,Everglades] + x[Acadia,Gateway_Arch] + x[Acadia,Glacier] + x[Acadia,Grand_Canyon] + x[Acadia,Grand_Teton] + x[Acadia,Great_Basin] + x[Acadia,Great_Sand_Dunes] + x[Acadia,Great_Smoky_Mountains] + x[Acadia,Guadalupe_Mountains] + x[Acadia,Hot_Springs] + x[Acadia,Indiana_Dunes] + x[Acadia,Joshua_Tree] + x[Acadia,Kings_Canyon] + x[Acadia,Lassen_Volcanic] + x[Acadia,Mammoth_Cave] + x[Acadia,Mesa_Verde] + x[Acadia,Mount_Rainier] + x[Acadia,New_River_Gorge] + x[Acadia,North_Cascades] + x[Acadia,Olympic] + x[Acadia,Petrified_Forest] + x[Acadia,Pinnacles] + x[Acadia,Redwood] + x[Acadia,Rocky_Mountain] + x[Acadia,Saguaro] + x[Acadia,Sequoia] + x[Acadia,Shenandoah] + x[Acadia,Theodore_Roosevelt] + x[Acadia,Voyageurs] + x[Acadia,White_Sands] + x[Acadia,Wind_Cave] + x[Acadia,Yellowstone] + x[Acadia,Yosemite] + x[Acadia,Zion] + x[Acadia,source] ≥ 0.0                                       connections[Canyonlands,source] : x[source,Acadia] + x[source,Arches] + x[source,Badlands] + x[source,Big_Bend] + x[source,Biscayne] + x[source,Black_Canyon_of_the_Gunnison] + x[source,Bryce_Canyon] + x[source,Canyonlands] + x[source,Capitol_Reef] + x[source,Carlsbad_Caverns] + x[source,Congaree] + x[source,Crater_Lake] + x[source,Cuyahoga_Valley] + x[source,Death_Valley] + x[source,Everglades] + x[source,Gateway_Arch] + x[source,Glacier] + x[source,Grand_Canyon] + x[source,Grand_Teton] + x[source,Great_Basin] + x[source,Great_Sand_Dunes] + x[source,Great_Smoky_Mountains] + x[source,Guadalupe_Mountains] + x[source,Hot_Springs] + x[source,Indiana_Dunes] + x[source,Joshua_Tree] + x[source,Kings_Canyon] + x[source,Lassen_Volcanic] + x[source,Mammoth_Cave] + x[source,Mesa_Verde] + x[source,Mount_Rainier] + x[source,New_River_Gorge] + x[source,North_Cascades] + x[source,Olympic] + x[source,Petrified_Forest] + x[source,Pinnacles] + x[source,Redwood] + x[source,Rocky_Mountain] + x[source,Saguaro] + x[source,Sequoia] + x[source,Shenandoah] + x[source,Theodore_Roosevelt] + x[source,Voyageurs] + x[source,White_Sands] + x[source,Wind_Cave] + x[source,Yellowstone] + x[source,Yosemite] + x[source,Zion] - x[Canyonlands,source] + x[source,source] ≥ 0.0\n",
       " connections[Capitol_Reef,Acadia] : x[Acadia,Acadia] - x[Capitol_Reef,Acadia] + x[Acadia,Arches] + x[Acadia,Badlands] + x[Acadia,Big_Bend] + x[Acadia,Biscayne] + x[Acadia,Black_Canyon_of_the_Gunnison] + x[Acadia,Bryce_Canyon] + x[Acadia,Canyonlands] + x[Acadia,Capitol_Reef] + x[Acadia,Carlsbad_Caverns] + x[Acadia,Congaree] + x[Acadia,Crater_Lake] + x[Acadia,Cuyahoga_Valley] + x[Acadia,Death_Valley] + x[Acadia,Everglades] + x[Acadia,Gateway_Arch] + x[Acadia,Glacier] + x[Acadia,Grand_Canyon] + x[Acadia,Grand_Teton] + x[Acadia,Great_Basin] + x[Acadia,Great_Sand_Dunes] + x[Acadia,Great_Smoky_Mountains] + x[Acadia,Guadalupe_Mountains] + x[Acadia,Hot_Springs] + x[Acadia,Indiana_Dunes] + x[Acadia,Joshua_Tree] + x[Acadia,Kings_Canyon] + x[Acadia,Lassen_Volcanic] + x[Acadia,Mammoth_Cave] + x[Acadia,Mesa_Verde] + x[Acadia,Mount_Rainier] + x[Acadia,New_River_Gorge] + x[Acadia,North_Cascades] + x[Acadia,Olympic] + x[Acadia,Petrified_Forest] + x[Acadia,Pinnacles] + x[Acadia,Redwood] + x[Acadia,Rocky_Mountain] + x[Acadia,Saguaro] + x[Acadia,Sequoia] + x[Acadia,Shenandoah] + x[Acadia,Theodore_Roosevelt] + x[Acadia,Voyageurs] + x[Acadia,White_Sands] + x[Acadia,Wind_Cave] + x[Acadia,Yellowstone] + x[Acadia,Yosemite] + x[Acadia,Zion] + x[Acadia,source] ≥ 0.0                                     connections[Capitol_Reef,source] : x[source,Acadia] + x[source,Arches] + x[source,Badlands] + x[source,Big_Bend] + x[source,Biscayne] + x[source,Black_Canyon_of_the_Gunnison] + x[source,Bryce_Canyon] + x[source,Canyonlands] + x[source,Capitol_Reef] + x[source,Carlsbad_Caverns] + x[source,Congaree] + x[source,Crater_Lake] + x[source,Cuyahoga_Valley] + x[source,Death_Valley] + x[source,Everglades] + x[source,Gateway_Arch] + x[source,Glacier] + x[source,Grand_Canyon] + x[source,Grand_Teton] + x[source,Great_Basin] + x[source,Great_Sand_Dunes] + x[source,Great_Smoky_Mountains] + x[source,Guadalupe_Mountains] + x[source,Hot_Springs] + x[source,Indiana_Dunes] + x[source,Joshua_Tree] + x[source,Kings_Canyon] + x[source,Lassen_Volcanic] + x[source,Mammoth_Cave] + x[source,Mesa_Verde] + x[source,Mount_Rainier] + x[source,New_River_Gorge] + x[source,North_Cascades] + x[source,Olympic] + x[source,Petrified_Forest] + x[source,Pinnacles] + x[source,Redwood] + x[source,Rocky_Mountain] + x[source,Saguaro] + x[source,Sequoia] + x[source,Shenandoah] + x[source,Theodore_Roosevelt] + x[source,Voyageurs] + x[source,White_Sands] + x[source,Wind_Cave] + x[source,Yellowstone] + x[source,Yosemite] + x[source,Zion] - x[Capitol_Reef,source] + x[source,source] ≥ 0.0\n",
       " connections[Carlsbad_Caverns,Acadia] : x[Acadia,Acadia] - x[Carlsbad_Caverns,Acadia] + x[Acadia,Arches] + x[Acadia,Badlands] + x[Acadia,Big_Bend] + x[Acadia,Biscayne] + x[Acadia,Black_Canyon_of_the_Gunnison] + x[Acadia,Bryce_Canyon] + x[Acadia,Canyonlands] + x[Acadia,Capitol_Reef] + x[Acadia,Carlsbad_Caverns] + x[Acadia,Congaree] + x[Acadia,Crater_Lake] + x[Acadia,Cuyahoga_Valley] + x[Acadia,Death_Valley] + x[Acadia,Everglades] + x[Acadia,Gateway_Arch] + x[Acadia,Glacier] + x[Acadia,Grand_Canyon] + x[Acadia,Grand_Teton] + x[Acadia,Great_Basin] + x[Acadia,Great_Sand_Dunes] + x[Acadia,Great_Smoky_Mountains] + x[Acadia,Guadalupe_Mountains] + x[Acadia,Hot_Springs] + x[Acadia,Indiana_Dunes] + x[Acadia,Joshua_Tree] + x[Acadia,Kings_Canyon] + x[Acadia,Lassen_Volcanic] + x[Acadia,Mammoth_Cave] + x[Acadia,Mesa_Verde] + x[Acadia,Mount_Rainier] + x[Acadia,New_River_Gorge] + x[Acadia,North_Cascades] + x[Acadia,Olympic] + x[Acadia,Petrified_Forest] + x[Acadia,Pinnacles] + x[Acadia,Redwood] + x[Acadia,Rocky_Mountain] + x[Acadia,Saguaro] + x[Acadia,Sequoia] + x[Acadia,Shenandoah] + x[Acadia,Theodore_Roosevelt] + x[Acadia,Voyageurs] + x[Acadia,White_Sands] + x[Acadia,Wind_Cave] + x[Acadia,Yellowstone] + x[Acadia,Yosemite] + x[Acadia,Zion] + x[Acadia,source] ≥ 0.0                             connections[Carlsbad_Caverns,source] : x[source,Acadia] + x[source,Arches] + x[source,Badlands] + x[source,Big_Bend] + x[source,Biscayne] + x[source,Black_Canyon_of_the_Gunnison] + x[source,Bryce_Canyon] + x[source,Canyonlands] + x[source,Capitol_Reef] + x[source,Carlsbad_Caverns] + x[source,Congaree] + x[source,Crater_Lake] + x[source,Cuyahoga_Valley] + x[source,Death_Valley] + x[source,Everglades] + x[source,Gateway_Arch] + x[source,Glacier] + x[source,Grand_Canyon] + x[source,Grand_Teton] + x[source,Great_Basin] + x[source,Great_Sand_Dunes] + x[source,Great_Smoky_Mountains] + x[source,Guadalupe_Mountains] + x[source,Hot_Springs] + x[source,Indiana_Dunes] + x[source,Joshua_Tree] + x[source,Kings_Canyon] + x[source,Lassen_Volcanic] + x[source,Mammoth_Cave] + x[source,Mesa_Verde] + x[source,Mount_Rainier] + x[source,New_River_Gorge] + x[source,North_Cascades] + x[source,Olympic] + x[source,Petrified_Forest] + x[source,Pinnacles] + x[source,Redwood] + x[source,Rocky_Mountain] + x[source,Saguaro] + x[source,Sequoia] + x[source,Shenandoah] + x[source,Theodore_Roosevelt] + x[source,Voyageurs] + x[source,White_Sands] + x[source,Wind_Cave] + x[source,Yellowstone] + x[source,Yosemite] + x[source,Zion] - x[Carlsbad_Caverns,source] + x[source,source] ≥ 0.0\n",
       " connections[Congaree,Acadia] : x[Acadia,Acadia] - x[Congaree,Acadia] + x[Acadia,Arches] + x[Acadia,Badlands] + x[Acadia,Big_Bend] + x[Acadia,Biscayne] + x[Acadia,Black_Canyon_of_the_Gunnison] + x[Acadia,Bryce_Canyon] + x[Acadia,Canyonlands] + x[Acadia,Capitol_Reef] + x[Acadia,Carlsbad_Caverns] + x[Acadia,Congaree] + x[Acadia,Crater_Lake] + x[Acadia,Cuyahoga_Valley] + x[Acadia,Death_Valley] + x[Acadia,Everglades] + x[Acadia,Gateway_Arch] + x[Acadia,Glacier] + x[Acadia,Grand_Canyon] + x[Acadia,Grand_Teton] + x[Acadia,Great_Basin] + x[Acadia,Great_Sand_Dunes] + x[Acadia,Great_Smoky_Mountains] + x[Acadia,Guadalupe_Mountains] + x[Acadia,Hot_Springs] + x[Acadia,Indiana_Dunes] + x[Acadia,Joshua_Tree] + x[Acadia,Kings_Canyon] + x[Acadia,Lassen_Volcanic] + x[Acadia,Mammoth_Cave] + x[Acadia,Mesa_Verde] + x[Acadia,Mount_Rainier] + x[Acadia,New_River_Gorge] + x[Acadia,North_Cascades] + x[Acadia,Olympic] + x[Acadia,Petrified_Forest] + x[Acadia,Pinnacles] + x[Acadia,Redwood] + x[Acadia,Rocky_Mountain] + x[Acadia,Saguaro] + x[Acadia,Sequoia] + x[Acadia,Shenandoah] + x[Acadia,Theodore_Roosevelt] + x[Acadia,Voyageurs] + x[Acadia,White_Sands] + x[Acadia,Wind_Cave] + x[Acadia,Yellowstone] + x[Acadia,Yosemite] + x[Acadia,Zion] + x[Acadia,source] ≥ 0.0                                          …  connections[Congaree,source] : x[source,Acadia] + x[source,Arches] + x[source,Badlands] + x[source,Big_Bend] + x[source,Biscayne] + x[source,Black_Canyon_of_the_Gunnison] + x[source,Bryce_Canyon] + x[source,Canyonlands] + x[source,Capitol_Reef] + x[source,Carlsbad_Caverns] + x[source,Congaree] + x[source,Crater_Lake] + x[source,Cuyahoga_Valley] + x[source,Death_Valley] + x[source,Everglades] + x[source,Gateway_Arch] + x[source,Glacier] + x[source,Grand_Canyon] + x[source,Grand_Teton] + x[source,Great_Basin] + x[source,Great_Sand_Dunes] + x[source,Great_Smoky_Mountains] + x[source,Guadalupe_Mountains] + x[source,Hot_Springs] + x[source,Indiana_Dunes] + x[source,Joshua_Tree] + x[source,Kings_Canyon] + x[source,Lassen_Volcanic] + x[source,Mammoth_Cave] + x[source,Mesa_Verde] + x[source,Mount_Rainier] + x[source,New_River_Gorge] + x[source,North_Cascades] + x[source,Olympic] + x[source,Petrified_Forest] + x[source,Pinnacles] + x[source,Redwood] + x[source,Rocky_Mountain] + x[source,Saguaro] + x[source,Sequoia] + x[source,Shenandoah] + x[source,Theodore_Roosevelt] + x[source,Voyageurs] + x[source,White_Sands] + x[source,Wind_Cave] + x[source,Yellowstone] + x[source,Yosemite] + x[source,Zion] - x[Congaree,source] + x[source,source] ≥ 0.0\n",
       " connections[Crater_Lake,Acadia] : x[Acadia,Acadia] - x[Crater_Lake,Acadia] + x[Acadia,Arches] + x[Acadia,Badlands] + x[Acadia,Big_Bend] + x[Acadia,Biscayne] + x[Acadia,Black_Canyon_of_the_Gunnison] + x[Acadia,Bryce_Canyon] + x[Acadia,Canyonlands] + x[Acadia,Capitol_Reef] + x[Acadia,Carlsbad_Caverns] + x[Acadia,Congaree] + x[Acadia,Crater_Lake] + x[Acadia,Cuyahoga_Valley] + x[Acadia,Death_Valley] + x[Acadia,Everglades] + x[Acadia,Gateway_Arch] + x[Acadia,Glacier] + x[Acadia,Grand_Canyon] + x[Acadia,Grand_Teton] + x[Acadia,Great_Basin] + x[Acadia,Great_Sand_Dunes] + x[Acadia,Great_Smoky_Mountains] + x[Acadia,Guadalupe_Mountains] + x[Acadia,Hot_Springs] + x[Acadia,Indiana_Dunes] + x[Acadia,Joshua_Tree] + x[Acadia,Kings_Canyon] + x[Acadia,Lassen_Volcanic] + x[Acadia,Mammoth_Cave] + x[Acadia,Mesa_Verde] + x[Acadia,Mount_Rainier] + x[Acadia,New_River_Gorge] + x[Acadia,North_Cascades] + x[Acadia,Olympic] + x[Acadia,Petrified_Forest] + x[Acadia,Pinnacles] + x[Acadia,Redwood] + x[Acadia,Rocky_Mountain] + x[Acadia,Saguaro] + x[Acadia,Sequoia] + x[Acadia,Shenandoah] + x[Acadia,Theodore_Roosevelt] + x[Acadia,Voyageurs] + x[Acadia,White_Sands] + x[Acadia,Wind_Cave] + x[Acadia,Yellowstone] + x[Acadia,Yosemite] + x[Acadia,Zion] + x[Acadia,source] ≥ 0.0                                       connections[Crater_Lake,source] : x[source,Acadia] + x[source,Arches] + x[source,Badlands] + x[source,Big_Bend] + x[source,Biscayne] + x[source,Black_Canyon_of_the_Gunnison] + x[source,Bryce_Canyon] + x[source,Canyonlands] + x[source,Capitol_Reef] + x[source,Carlsbad_Caverns] + x[source,Congaree] + x[source,Crater_Lake] + x[source,Cuyahoga_Valley] + x[source,Death_Valley] + x[source,Everglades] + x[source,Gateway_Arch] + x[source,Glacier] + x[source,Grand_Canyon] + x[source,Grand_Teton] + x[source,Great_Basin] + x[source,Great_Sand_Dunes] + x[source,Great_Smoky_Mountains] + x[source,Guadalupe_Mountains] + x[source,Hot_Springs] + x[source,Indiana_Dunes] + x[source,Joshua_Tree] + x[source,Kings_Canyon] + x[source,Lassen_Volcanic] + x[source,Mammoth_Cave] + x[source,Mesa_Verde] + x[source,Mount_Rainier] + x[source,New_River_Gorge] + x[source,North_Cascades] + x[source,Olympic] + x[source,Petrified_Forest] + x[source,Pinnacles] + x[source,Redwood] + x[source,Rocky_Mountain] + x[source,Saguaro] + x[source,Sequoia] + x[source,Shenandoah] + x[source,Theodore_Roosevelt] + x[source,Voyageurs] + x[source,White_Sands] + x[source,Wind_Cave] + x[source,Yellowstone] + x[source,Yosemite] + x[source,Zion] - x[Crater_Lake,source] + x[source,source] ≥ 0.0\n",
       " connections[Cuyahoga_Valley,Acadia] : x[Acadia,Acadia] - x[Cuyahoga_Valley,Acadia] + x[Acadia,Arches] + x[Acadia,Badlands] + x[Acadia,Big_Bend] + x[Acadia,Biscayne] + x[Acadia,Black_Canyon_of_the_Gunnison] + x[Acadia,Bryce_Canyon] + x[Acadia,Canyonlands] + x[Acadia,Capitol_Reef] + x[Acadia,Carlsbad_Caverns] + x[Acadia,Congaree] + x[Acadia,Crater_Lake] + x[Acadia,Cuyahoga_Valley] + x[Acadia,Death_Valley] + x[Acadia,Everglades] + x[Acadia,Gateway_Arch] + x[Acadia,Glacier] + x[Acadia,Grand_Canyon] + x[Acadia,Grand_Teton] + x[Acadia,Great_Basin] + x[Acadia,Great_Sand_Dunes] + x[Acadia,Great_Smoky_Mountains] + x[Acadia,Guadalupe_Mountains] + x[Acadia,Hot_Springs] + x[Acadia,Indiana_Dunes] + x[Acadia,Joshua_Tree] + x[Acadia,Kings_Canyon] + x[Acadia,Lassen_Volcanic] + x[Acadia,Mammoth_Cave] + x[Acadia,Mesa_Verde] + x[Acadia,Mount_Rainier] + x[Acadia,New_River_Gorge] + x[Acadia,North_Cascades] + x[Acadia,Olympic] + x[Acadia,Petrified_Forest] + x[Acadia,Pinnacles] + x[Acadia,Redwood] + x[Acadia,Rocky_Mountain] + x[Acadia,Saguaro] + x[Acadia,Sequoia] + x[Acadia,Shenandoah] + x[Acadia,Theodore_Roosevelt] + x[Acadia,Voyageurs] + x[Acadia,White_Sands] + x[Acadia,Wind_Cave] + x[Acadia,Yellowstone] + x[Acadia,Yosemite] + x[Acadia,Zion] + x[Acadia,source] ≥ 0.0                               connections[Cuyahoga_Valley,source] : x[source,Acadia] + x[source,Arches] + x[source,Badlands] + x[source,Big_Bend] + x[source,Biscayne] + x[source,Black_Canyon_of_the_Gunnison] + x[source,Bryce_Canyon] + x[source,Canyonlands] + x[source,Capitol_Reef] + x[source,Carlsbad_Caverns] + x[source,Congaree] + x[source,Crater_Lake] + x[source,Cuyahoga_Valley] + x[source,Death_Valley] + x[source,Everglades] + x[source,Gateway_Arch] + x[source,Glacier] + x[source,Grand_Canyon] + x[source,Grand_Teton] + x[source,Great_Basin] + x[source,Great_Sand_Dunes] + x[source,Great_Smoky_Mountains] + x[source,Guadalupe_Mountains] + x[source,Hot_Springs] + x[source,Indiana_Dunes] + x[source,Joshua_Tree] + x[source,Kings_Canyon] + x[source,Lassen_Volcanic] + x[source,Mammoth_Cave] + x[source,Mesa_Verde] + x[source,Mount_Rainier] + x[source,New_River_Gorge] + x[source,North_Cascades] + x[source,Olympic] + x[source,Petrified_Forest] + x[source,Pinnacles] + x[source,Redwood] + x[source,Rocky_Mountain] + x[source,Saguaro] + x[source,Sequoia] + x[source,Shenandoah] + x[source,Theodore_Roosevelt] + x[source,Voyageurs] + x[source,White_Sands] + x[source,Wind_Cave] + x[source,Yellowstone] + x[source,Yosemite] + x[source,Zion] - x[Cuyahoga_Valley,source] + x[source,source] ≥ 0.0\n",
       " ⋮                                                                                                                                                                                                                                                                                                                                                                                                                                                                                                                                                                                                                                                                                                                                                                                                                                                                                                                                                                                                                                                                                                                                                                                                                                                                                                                                            ⋱  \n",
       " connections[Rocky_Mountain,Acadia] : x[Acadia,Acadia] - x[Rocky_Mountain,Acadia] + x[Acadia,Arches] + x[Acadia,Badlands] + x[Acadia,Big_Bend] + x[Acadia,Biscayne] + x[Acadia,Black_Canyon_of_the_Gunnison] + x[Acadia,Bryce_Canyon] + x[Acadia,Canyonlands] + x[Acadia,Capitol_Reef] + x[Acadia,Carlsbad_Caverns] + x[Acadia,Congaree] + x[Acadia,Crater_Lake] + x[Acadia,Cuyahoga_Valley] + x[Acadia,Death_Valley] + x[Acadia,Everglades] + x[Acadia,Gateway_Arch] + x[Acadia,Glacier] + x[Acadia,Grand_Canyon] + x[Acadia,Grand_Teton] + x[Acadia,Great_Basin] + x[Acadia,Great_Sand_Dunes] + x[Acadia,Great_Smoky_Mountains] + x[Acadia,Guadalupe_Mountains] + x[Acadia,Hot_Springs] + x[Acadia,Indiana_Dunes] + x[Acadia,Joshua_Tree] + x[Acadia,Kings_Canyon] + x[Acadia,Lassen_Volcanic] + x[Acadia,Mammoth_Cave] + x[Acadia,Mesa_Verde] + x[Acadia,Mount_Rainier] + x[Acadia,New_River_Gorge] + x[Acadia,North_Cascades] + x[Acadia,Olympic] + x[Acadia,Petrified_Forest] + x[Acadia,Pinnacles] + x[Acadia,Redwood] + x[Acadia,Rocky_Mountain] + x[Acadia,Saguaro] + x[Acadia,Sequoia] + x[Acadia,Shenandoah] + x[Acadia,Theodore_Roosevelt] + x[Acadia,Voyageurs] + x[Acadia,White_Sands] + x[Acadia,Wind_Cave] + x[Acadia,Yellowstone] + x[Acadia,Yosemite] + x[Acadia,Zion] + x[Acadia,source] ≥ 0.0                                 connections[Rocky_Mountain,source] : x[source,Acadia] + x[source,Arches] + x[source,Badlands] + x[source,Big_Bend] + x[source,Biscayne] + x[source,Black_Canyon_of_the_Gunnison] + x[source,Bryce_Canyon] + x[source,Canyonlands] + x[source,Capitol_Reef] + x[source,Carlsbad_Caverns] + x[source,Congaree] + x[source,Crater_Lake] + x[source,Cuyahoga_Valley] + x[source,Death_Valley] + x[source,Everglades] + x[source,Gateway_Arch] + x[source,Glacier] + x[source,Grand_Canyon] + x[source,Grand_Teton] + x[source,Great_Basin] + x[source,Great_Sand_Dunes] + x[source,Great_Smoky_Mountains] + x[source,Guadalupe_Mountains] + x[source,Hot_Springs] + x[source,Indiana_Dunes] + x[source,Joshua_Tree] + x[source,Kings_Canyon] + x[source,Lassen_Volcanic] + x[source,Mammoth_Cave] + x[source,Mesa_Verde] + x[source,Mount_Rainier] + x[source,New_River_Gorge] + x[source,North_Cascades] + x[source,Olympic] + x[source,Petrified_Forest] + x[source,Pinnacles] + x[source,Redwood] + x[source,Rocky_Mountain] + x[source,Saguaro] + x[source,Sequoia] + x[source,Shenandoah] + x[source,Theodore_Roosevelt] + x[source,Voyageurs] + x[source,White_Sands] + x[source,Wind_Cave] + x[source,Yellowstone] + x[source,Yosemite] + x[source,Zion] - x[Rocky_Mountain,source] + x[source,source] ≥ 0.0\n",
       " connections[Saguaro,Acadia] : x[Acadia,Acadia] - x[Saguaro,Acadia] + x[Acadia,Arches] + x[Acadia,Badlands] + x[Acadia,Big_Bend] + x[Acadia,Biscayne] + x[Acadia,Black_Canyon_of_the_Gunnison] + x[Acadia,Bryce_Canyon] + x[Acadia,Canyonlands] + x[Acadia,Capitol_Reef] + x[Acadia,Carlsbad_Caverns] + x[Acadia,Congaree] + x[Acadia,Crater_Lake] + x[Acadia,Cuyahoga_Valley] + x[Acadia,Death_Valley] + x[Acadia,Everglades] + x[Acadia,Gateway_Arch] + x[Acadia,Glacier] + x[Acadia,Grand_Canyon] + x[Acadia,Grand_Teton] + x[Acadia,Great_Basin] + x[Acadia,Great_Sand_Dunes] + x[Acadia,Great_Smoky_Mountains] + x[Acadia,Guadalupe_Mountains] + x[Acadia,Hot_Springs] + x[Acadia,Indiana_Dunes] + x[Acadia,Joshua_Tree] + x[Acadia,Kings_Canyon] + x[Acadia,Lassen_Volcanic] + x[Acadia,Mammoth_Cave] + x[Acadia,Mesa_Verde] + x[Acadia,Mount_Rainier] + x[Acadia,New_River_Gorge] + x[Acadia,North_Cascades] + x[Acadia,Olympic] + x[Acadia,Petrified_Forest] + x[Acadia,Pinnacles] + x[Acadia,Redwood] + x[Acadia,Rocky_Mountain] + x[Acadia,Saguaro] + x[Acadia,Sequoia] + x[Acadia,Shenandoah] + x[Acadia,Theodore_Roosevelt] + x[Acadia,Voyageurs] + x[Acadia,White_Sands] + x[Acadia,Wind_Cave] + x[Acadia,Yellowstone] + x[Acadia,Yosemite] + x[Acadia,Zion] + x[Acadia,source] ≥ 0.0                                               connections[Saguaro,source] : x[source,Acadia] + x[source,Arches] + x[source,Badlands] + x[source,Big_Bend] + x[source,Biscayne] + x[source,Black_Canyon_of_the_Gunnison] + x[source,Bryce_Canyon] + x[source,Canyonlands] + x[source,Capitol_Reef] + x[source,Carlsbad_Caverns] + x[source,Congaree] + x[source,Crater_Lake] + x[source,Cuyahoga_Valley] + x[source,Death_Valley] + x[source,Everglades] + x[source,Gateway_Arch] + x[source,Glacier] + x[source,Grand_Canyon] + x[source,Grand_Teton] + x[source,Great_Basin] + x[source,Great_Sand_Dunes] + x[source,Great_Smoky_Mountains] + x[source,Guadalupe_Mountains] + x[source,Hot_Springs] + x[source,Indiana_Dunes] + x[source,Joshua_Tree] + x[source,Kings_Canyon] + x[source,Lassen_Volcanic] + x[source,Mammoth_Cave] + x[source,Mesa_Verde] + x[source,Mount_Rainier] + x[source,New_River_Gorge] + x[source,North_Cascades] + x[source,Olympic] + x[source,Petrified_Forest] + x[source,Pinnacles] + x[source,Redwood] + x[source,Rocky_Mountain] + x[source,Saguaro] + x[source,Sequoia] + x[source,Shenandoah] + x[source,Theodore_Roosevelt] + x[source,Voyageurs] + x[source,White_Sands] + x[source,Wind_Cave] + x[source,Yellowstone] + x[source,Yosemite] + x[source,Zion] - x[Saguaro,source] + x[source,source] ≥ 0.0\n",
       " connections[Sequoia,Acadia] : x[Acadia,Acadia] - x[Sequoia,Acadia] + x[Acadia,Arches] + x[Acadia,Badlands] + x[Acadia,Big_Bend] + x[Acadia,Biscayne] + x[Acadia,Black_Canyon_of_the_Gunnison] + x[Acadia,Bryce_Canyon] + x[Acadia,Canyonlands] + x[Acadia,Capitol_Reef] + x[Acadia,Carlsbad_Caverns] + x[Acadia,Congaree] + x[Acadia,Crater_Lake] + x[Acadia,Cuyahoga_Valley] + x[Acadia,Death_Valley] + x[Acadia,Everglades] + x[Acadia,Gateway_Arch] + x[Acadia,Glacier] + x[Acadia,Grand_Canyon] + x[Acadia,Grand_Teton] + x[Acadia,Great_Basin] + x[Acadia,Great_Sand_Dunes] + x[Acadia,Great_Smoky_Mountains] + x[Acadia,Guadalupe_Mountains] + x[Acadia,Hot_Springs] + x[Acadia,Indiana_Dunes] + x[Acadia,Joshua_Tree] + x[Acadia,Kings_Canyon] + x[Acadia,Lassen_Volcanic] + x[Acadia,Mammoth_Cave] + x[Acadia,Mesa_Verde] + x[Acadia,Mount_Rainier] + x[Acadia,New_River_Gorge] + x[Acadia,North_Cascades] + x[Acadia,Olympic] + x[Acadia,Petrified_Forest] + x[Acadia,Pinnacles] + x[Acadia,Redwood] + x[Acadia,Rocky_Mountain] + x[Acadia,Saguaro] + x[Acadia,Sequoia] + x[Acadia,Shenandoah] + x[Acadia,Theodore_Roosevelt] + x[Acadia,Voyageurs] + x[Acadia,White_Sands] + x[Acadia,Wind_Cave] + x[Acadia,Yellowstone] + x[Acadia,Yosemite] + x[Acadia,Zion] + x[Acadia,source] ≥ 0.0                                               connections[Sequoia,source] : x[source,Acadia] + x[source,Arches] + x[source,Badlands] + x[source,Big_Bend] + x[source,Biscayne] + x[source,Black_Canyon_of_the_Gunnison] + x[source,Bryce_Canyon] + x[source,Canyonlands] + x[source,Capitol_Reef] + x[source,Carlsbad_Caverns] + x[source,Congaree] + x[source,Crater_Lake] + x[source,Cuyahoga_Valley] + x[source,Death_Valley] + x[source,Everglades] + x[source,Gateway_Arch] + x[source,Glacier] + x[source,Grand_Canyon] + x[source,Grand_Teton] + x[source,Great_Basin] + x[source,Great_Sand_Dunes] + x[source,Great_Smoky_Mountains] + x[source,Guadalupe_Mountains] + x[source,Hot_Springs] + x[source,Indiana_Dunes] + x[source,Joshua_Tree] + x[source,Kings_Canyon] + x[source,Lassen_Volcanic] + x[source,Mammoth_Cave] + x[source,Mesa_Verde] + x[source,Mount_Rainier] + x[source,New_River_Gorge] + x[source,North_Cascades] + x[source,Olympic] + x[source,Petrified_Forest] + x[source,Pinnacles] + x[source,Redwood] + x[source,Rocky_Mountain] + x[source,Saguaro] + x[source,Sequoia] + x[source,Shenandoah] + x[source,Theodore_Roosevelt] + x[source,Voyageurs] + x[source,White_Sands] + x[source,Wind_Cave] + x[source,Yellowstone] + x[source,Yosemite] + x[source,Zion] - x[Sequoia,source] + x[source,source] ≥ 0.0\n",
       " connections[Shenandoah,Acadia] : x[Acadia,Acadia] - x[Shenandoah,Acadia] + x[Acadia,Arches] + x[Acadia,Badlands] + x[Acadia,Big_Bend] + x[Acadia,Biscayne] + x[Acadia,Black_Canyon_of_the_Gunnison] + x[Acadia,Bryce_Canyon] + x[Acadia,Canyonlands] + x[Acadia,Capitol_Reef] + x[Acadia,Carlsbad_Caverns] + x[Acadia,Congaree] + x[Acadia,Crater_Lake] + x[Acadia,Cuyahoga_Valley] + x[Acadia,Death_Valley] + x[Acadia,Everglades] + x[Acadia,Gateway_Arch] + x[Acadia,Glacier] + x[Acadia,Grand_Canyon] + x[Acadia,Grand_Teton] + x[Acadia,Great_Basin] + x[Acadia,Great_Sand_Dunes] + x[Acadia,Great_Smoky_Mountains] + x[Acadia,Guadalupe_Mountains] + x[Acadia,Hot_Springs] + x[Acadia,Indiana_Dunes] + x[Acadia,Joshua_Tree] + x[Acadia,Kings_Canyon] + x[Acadia,Lassen_Volcanic] + x[Acadia,Mammoth_Cave] + x[Acadia,Mesa_Verde] + x[Acadia,Mount_Rainier] + x[Acadia,New_River_Gorge] + x[Acadia,North_Cascades] + x[Acadia,Olympic] + x[Acadia,Petrified_Forest] + x[Acadia,Pinnacles] + x[Acadia,Redwood] + x[Acadia,Rocky_Mountain] + x[Acadia,Saguaro] + x[Acadia,Sequoia] + x[Acadia,Shenandoah] + x[Acadia,Theodore_Roosevelt] + x[Acadia,Voyageurs] + x[Acadia,White_Sands] + x[Acadia,Wind_Cave] + x[Acadia,Yellowstone] + x[Acadia,Yosemite] + x[Acadia,Zion] + x[Acadia,source] ≥ 0.0                                      …  connections[Shenandoah,source] : x[source,Acadia] + x[source,Arches] + x[source,Badlands] + x[source,Big_Bend] + x[source,Biscayne] + x[source,Black_Canyon_of_the_Gunnison] + x[source,Bryce_Canyon] + x[source,Canyonlands] + x[source,Capitol_Reef] + x[source,Carlsbad_Caverns] + x[source,Congaree] + x[source,Crater_Lake] + x[source,Cuyahoga_Valley] + x[source,Death_Valley] + x[source,Everglades] + x[source,Gateway_Arch] + x[source,Glacier] + x[source,Grand_Canyon] + x[source,Grand_Teton] + x[source,Great_Basin] + x[source,Great_Sand_Dunes] + x[source,Great_Smoky_Mountains] + x[source,Guadalupe_Mountains] + x[source,Hot_Springs] + x[source,Indiana_Dunes] + x[source,Joshua_Tree] + x[source,Kings_Canyon] + x[source,Lassen_Volcanic] + x[source,Mammoth_Cave] + x[source,Mesa_Verde] + x[source,Mount_Rainier] + x[source,New_River_Gorge] + x[source,North_Cascades] + x[source,Olympic] + x[source,Petrified_Forest] + x[source,Pinnacles] + x[source,Redwood] + x[source,Rocky_Mountain] + x[source,Saguaro] + x[source,Sequoia] + x[source,Shenandoah] + x[source,Theodore_Roosevelt] + x[source,Voyageurs] + x[source,White_Sands] + x[source,Wind_Cave] + x[source,Yellowstone] + x[source,Yosemite] + x[source,Zion] - x[Shenandoah,source] + x[source,source] ≥ 0.0\n",
       " connections[Theodore_Roosevelt,Acadia] : x[Acadia,Acadia] - x[Theodore_Roosevelt,Acadia] + x[Acadia,Arches] + x[Acadia,Badlands] + x[Acadia,Big_Bend] + x[Acadia,Biscayne] + x[Acadia,Black_Canyon_of_the_Gunnison] + x[Acadia,Bryce_Canyon] + x[Acadia,Canyonlands] + x[Acadia,Capitol_Reef] + x[Acadia,Carlsbad_Caverns] + x[Acadia,Congaree] + x[Acadia,Crater_Lake] + x[Acadia,Cuyahoga_Valley] + x[Acadia,Death_Valley] + x[Acadia,Everglades] + x[Acadia,Gateway_Arch] + x[Acadia,Glacier] + x[Acadia,Grand_Canyon] + x[Acadia,Grand_Teton] + x[Acadia,Great_Basin] + x[Acadia,Great_Sand_Dunes] + x[Acadia,Great_Smoky_Mountains] + x[Acadia,Guadalupe_Mountains] + x[Acadia,Hot_Springs] + x[Acadia,Indiana_Dunes] + x[Acadia,Joshua_Tree] + x[Acadia,Kings_Canyon] + x[Acadia,Lassen_Volcanic] + x[Acadia,Mammoth_Cave] + x[Acadia,Mesa_Verde] + x[Acadia,Mount_Rainier] + x[Acadia,New_River_Gorge] + x[Acadia,North_Cascades] + x[Acadia,Olympic] + x[Acadia,Petrified_Forest] + x[Acadia,Pinnacles] + x[Acadia,Redwood] + x[Acadia,Rocky_Mountain] + x[Acadia,Saguaro] + x[Acadia,Sequoia] + x[Acadia,Shenandoah] + x[Acadia,Theodore_Roosevelt] + x[Acadia,Voyageurs] + x[Acadia,White_Sands] + x[Acadia,Wind_Cave] + x[Acadia,Yellowstone] + x[Acadia,Yosemite] + x[Acadia,Zion] + x[Acadia,source] ≥ 0.0                         connections[Theodore_Roosevelt,source] : x[source,Acadia] + x[source,Arches] + x[source,Badlands] + x[source,Big_Bend] + x[source,Biscayne] + x[source,Black_Canyon_of_the_Gunnison] + x[source,Bryce_Canyon] + x[source,Canyonlands] + x[source,Capitol_Reef] + x[source,Carlsbad_Caverns] + x[source,Congaree] + x[source,Crater_Lake] + x[source,Cuyahoga_Valley] + x[source,Death_Valley] + x[source,Everglades] + x[source,Gateway_Arch] + x[source,Glacier] + x[source,Grand_Canyon] + x[source,Grand_Teton] + x[source,Great_Basin] + x[source,Great_Sand_Dunes] + x[source,Great_Smoky_Mountains] + x[source,Guadalupe_Mountains] + x[source,Hot_Springs] + x[source,Indiana_Dunes] + x[source,Joshua_Tree] + x[source,Kings_Canyon] + x[source,Lassen_Volcanic] + x[source,Mammoth_Cave] + x[source,Mesa_Verde] + x[source,Mount_Rainier] + x[source,New_River_Gorge] + x[source,North_Cascades] + x[source,Olympic] + x[source,Petrified_Forest] + x[source,Pinnacles] + x[source,Redwood] + x[source,Rocky_Mountain] + x[source,Saguaro] + x[source,Sequoia] + x[source,Shenandoah] + x[source,Theodore_Roosevelt] + x[source,Voyageurs] + x[source,White_Sands] + x[source,Wind_Cave] + x[source,Yellowstone] + x[source,Yosemite] + x[source,Zion] - x[Theodore_Roosevelt,source] + x[source,source] ≥ 0.0\n",
       " connections[Voyageurs,Acadia] : x[Acadia,Acadia] - x[Voyageurs,Acadia] + x[Acadia,Arches] + x[Acadia,Badlands] + x[Acadia,Big_Bend] + x[Acadia,Biscayne] + x[Acadia,Black_Canyon_of_the_Gunnison] + x[Acadia,Bryce_Canyon] + x[Acadia,Canyonlands] + x[Acadia,Capitol_Reef] + x[Acadia,Carlsbad_Caverns] + x[Acadia,Congaree] + x[Acadia,Crater_Lake] + x[Acadia,Cuyahoga_Valley] + x[Acadia,Death_Valley] + x[Acadia,Everglades] + x[Acadia,Gateway_Arch] + x[Acadia,Glacier] + x[Acadia,Grand_Canyon] + x[Acadia,Grand_Teton] + x[Acadia,Great_Basin] + x[Acadia,Great_Sand_Dunes] + x[Acadia,Great_Smoky_Mountains] + x[Acadia,Guadalupe_Mountains] + x[Acadia,Hot_Springs] + x[Acadia,Indiana_Dunes] + x[Acadia,Joshua_Tree] + x[Acadia,Kings_Canyon] + x[Acadia,Lassen_Volcanic] + x[Acadia,Mammoth_Cave] + x[Acadia,Mesa_Verde] + x[Acadia,Mount_Rainier] + x[Acadia,New_River_Gorge] + x[Acadia,North_Cascades] + x[Acadia,Olympic] + x[Acadia,Petrified_Forest] + x[Acadia,Pinnacles] + x[Acadia,Redwood] + x[Acadia,Rocky_Mountain] + x[Acadia,Saguaro] + x[Acadia,Sequoia] + x[Acadia,Shenandoah] + x[Acadia,Theodore_Roosevelt] + x[Acadia,Voyageurs] + x[Acadia,White_Sands] + x[Acadia,Wind_Cave] + x[Acadia,Yellowstone] + x[Acadia,Yosemite] + x[Acadia,Zion] + x[Acadia,source] ≥ 0.0                                           connections[Voyageurs,source] : x[source,Acadia] + x[source,Arches] + x[source,Badlands] + x[source,Big_Bend] + x[source,Biscayne] + x[source,Black_Canyon_of_the_Gunnison] + x[source,Bryce_Canyon] + x[source,Canyonlands] + x[source,Capitol_Reef] + x[source,Carlsbad_Caverns] + x[source,Congaree] + x[source,Crater_Lake] + x[source,Cuyahoga_Valley] + x[source,Death_Valley] + x[source,Everglades] + x[source,Gateway_Arch] + x[source,Glacier] + x[source,Grand_Canyon] + x[source,Grand_Teton] + x[source,Great_Basin] + x[source,Great_Sand_Dunes] + x[source,Great_Smoky_Mountains] + x[source,Guadalupe_Mountains] + x[source,Hot_Springs] + x[source,Indiana_Dunes] + x[source,Joshua_Tree] + x[source,Kings_Canyon] + x[source,Lassen_Volcanic] + x[source,Mammoth_Cave] + x[source,Mesa_Verde] + x[source,Mount_Rainier] + x[source,New_River_Gorge] + x[source,North_Cascades] + x[source,Olympic] + x[source,Petrified_Forest] + x[source,Pinnacles] + x[source,Redwood] + x[source,Rocky_Mountain] + x[source,Saguaro] + x[source,Sequoia] + x[source,Shenandoah] + x[source,Theodore_Roosevelt] + x[source,Voyageurs] + x[source,White_Sands] + x[source,Wind_Cave] + x[source,Yellowstone] + x[source,Yosemite] + x[source,Zion] - x[Voyageurs,source] + x[source,source] ≥ 0.0\n",
       " connections[White_Sands,Acadia] : x[Acadia,Acadia] - x[White_Sands,Acadia] + x[Acadia,Arches] + x[Acadia,Badlands] + x[Acadia,Big_Bend] + x[Acadia,Biscayne] + x[Acadia,Black_Canyon_of_the_Gunnison] + x[Acadia,Bryce_Canyon] + x[Acadia,Canyonlands] + x[Acadia,Capitol_Reef] + x[Acadia,Carlsbad_Caverns] + x[Acadia,Congaree] + x[Acadia,Crater_Lake] + x[Acadia,Cuyahoga_Valley] + x[Acadia,Death_Valley] + x[Acadia,Everglades] + x[Acadia,Gateway_Arch] + x[Acadia,Glacier] + x[Acadia,Grand_Canyon] + x[Acadia,Grand_Teton] + x[Acadia,Great_Basin] + x[Acadia,Great_Sand_Dunes] + x[Acadia,Great_Smoky_Mountains] + x[Acadia,Guadalupe_Mountains] + x[Acadia,Hot_Springs] + x[Acadia,Indiana_Dunes] + x[Acadia,Joshua_Tree] + x[Acadia,Kings_Canyon] + x[Acadia,Lassen_Volcanic] + x[Acadia,Mammoth_Cave] + x[Acadia,Mesa_Verde] + x[Acadia,Mount_Rainier] + x[Acadia,New_River_Gorge] + x[Acadia,North_Cascades] + x[Acadia,Olympic] + x[Acadia,Petrified_Forest] + x[Acadia,Pinnacles] + x[Acadia,Redwood] + x[Acadia,Rocky_Mountain] + x[Acadia,Saguaro] + x[Acadia,Sequoia] + x[Acadia,Shenandoah] + x[Acadia,Theodore_Roosevelt] + x[Acadia,Voyageurs] + x[Acadia,White_Sands] + x[Acadia,Wind_Cave] + x[Acadia,Yellowstone] + x[Acadia,Yosemite] + x[Acadia,Zion] + x[Acadia,source] ≥ 0.0                                       connections[White_Sands,source] : x[source,Acadia] + x[source,Arches] + x[source,Badlands] + x[source,Big_Bend] + x[source,Biscayne] + x[source,Black_Canyon_of_the_Gunnison] + x[source,Bryce_Canyon] + x[source,Canyonlands] + x[source,Capitol_Reef] + x[source,Carlsbad_Caverns] + x[source,Congaree] + x[source,Crater_Lake] + x[source,Cuyahoga_Valley] + x[source,Death_Valley] + x[source,Everglades] + x[source,Gateway_Arch] + x[source,Glacier] + x[source,Grand_Canyon] + x[source,Grand_Teton] + x[source,Great_Basin] + x[source,Great_Sand_Dunes] + x[source,Great_Smoky_Mountains] + x[source,Guadalupe_Mountains] + x[source,Hot_Springs] + x[source,Indiana_Dunes] + x[source,Joshua_Tree] + x[source,Kings_Canyon] + x[source,Lassen_Volcanic] + x[source,Mammoth_Cave] + x[source,Mesa_Verde] + x[source,Mount_Rainier] + x[source,New_River_Gorge] + x[source,North_Cascades] + x[source,Olympic] + x[source,Petrified_Forest] + x[source,Pinnacles] + x[source,Redwood] + x[source,Rocky_Mountain] + x[source,Saguaro] + x[source,Sequoia] + x[source,Shenandoah] + x[source,Theodore_Roosevelt] + x[source,Voyageurs] + x[source,White_Sands] + x[source,Wind_Cave] + x[source,Yellowstone] + x[source,Yosemite] + x[source,Zion] - x[White_Sands,source] + x[source,source] ≥ 0.0\n",
       " connections[Wind_Cave,Acadia] : x[Acadia,Acadia] - x[Wind_Cave,Acadia] + x[Acadia,Arches] + x[Acadia,Badlands] + x[Acadia,Big_Bend] + x[Acadia,Biscayne] + x[Acadia,Black_Canyon_of_the_Gunnison] + x[Acadia,Bryce_Canyon] + x[Acadia,Canyonlands] + x[Acadia,Capitol_Reef] + x[Acadia,Carlsbad_Caverns] + x[Acadia,Congaree] + x[Acadia,Crater_Lake] + x[Acadia,Cuyahoga_Valley] + x[Acadia,Death_Valley] + x[Acadia,Everglades] + x[Acadia,Gateway_Arch] + x[Acadia,Glacier] + x[Acadia,Grand_Canyon] + x[Acadia,Grand_Teton] + x[Acadia,Great_Basin] + x[Acadia,Great_Sand_Dunes] + x[Acadia,Great_Smoky_Mountains] + x[Acadia,Guadalupe_Mountains] + x[Acadia,Hot_Springs] + x[Acadia,Indiana_Dunes] + x[Acadia,Joshua_Tree] + x[Acadia,Kings_Canyon] + x[Acadia,Lassen_Volcanic] + x[Acadia,Mammoth_Cave] + x[Acadia,Mesa_Verde] + x[Acadia,Mount_Rainier] + x[Acadia,New_River_Gorge] + x[Acadia,North_Cascades] + x[Acadia,Olympic] + x[Acadia,Petrified_Forest] + x[Acadia,Pinnacles] + x[Acadia,Redwood] + x[Acadia,Rocky_Mountain] + x[Acadia,Saguaro] + x[Acadia,Sequoia] + x[Acadia,Shenandoah] + x[Acadia,Theodore_Roosevelt] + x[Acadia,Voyageurs] + x[Acadia,White_Sands] + x[Acadia,Wind_Cave] + x[Acadia,Yellowstone] + x[Acadia,Yosemite] + x[Acadia,Zion] + x[Acadia,source] ≥ 0.0                                           connections[Wind_Cave,source] : x[source,Acadia] + x[source,Arches] + x[source,Badlands] + x[source,Big_Bend] + x[source,Biscayne] + x[source,Black_Canyon_of_the_Gunnison] + x[source,Bryce_Canyon] + x[source,Canyonlands] + x[source,Capitol_Reef] + x[source,Carlsbad_Caverns] + x[source,Congaree] + x[source,Crater_Lake] + x[source,Cuyahoga_Valley] + x[source,Death_Valley] + x[source,Everglades] + x[source,Gateway_Arch] + x[source,Glacier] + x[source,Grand_Canyon] + x[source,Grand_Teton] + x[source,Great_Basin] + x[source,Great_Sand_Dunes] + x[source,Great_Smoky_Mountains] + x[source,Guadalupe_Mountains] + x[source,Hot_Springs] + x[source,Indiana_Dunes] + x[source,Joshua_Tree] + x[source,Kings_Canyon] + x[source,Lassen_Volcanic] + x[source,Mammoth_Cave] + x[source,Mesa_Verde] + x[source,Mount_Rainier] + x[source,New_River_Gorge] + x[source,North_Cascades] + x[source,Olympic] + x[source,Petrified_Forest] + x[source,Pinnacles] + x[source,Redwood] + x[source,Rocky_Mountain] + x[source,Saguaro] + x[source,Sequoia] + x[source,Shenandoah] + x[source,Theodore_Roosevelt] + x[source,Voyageurs] + x[source,White_Sands] + x[source,Wind_Cave] + x[source,Yellowstone] + x[source,Yosemite] + x[source,Zion] - x[Wind_Cave,source] + x[source,source] ≥ 0.0\n",
       " connections[Yellowstone,Acadia] : x[Acadia,Acadia] - x[Yellowstone,Acadia] + x[Acadia,Arches] + x[Acadia,Badlands] + x[Acadia,Big_Bend] + x[Acadia,Biscayne] + x[Acadia,Black_Canyon_of_the_Gunnison] + x[Acadia,Bryce_Canyon] + x[Acadia,Canyonlands] + x[Acadia,Capitol_Reef] + x[Acadia,Carlsbad_Caverns] + x[Acadia,Congaree] + x[Acadia,Crater_Lake] + x[Acadia,Cuyahoga_Valley] + x[Acadia,Death_Valley] + x[Acadia,Everglades] + x[Acadia,Gateway_Arch] + x[Acadia,Glacier] + x[Acadia,Grand_Canyon] + x[Acadia,Grand_Teton] + x[Acadia,Great_Basin] + x[Acadia,Great_Sand_Dunes] + x[Acadia,Great_Smoky_Mountains] + x[Acadia,Guadalupe_Mountains] + x[Acadia,Hot_Springs] + x[Acadia,Indiana_Dunes] + x[Acadia,Joshua_Tree] + x[Acadia,Kings_Canyon] + x[Acadia,Lassen_Volcanic] + x[Acadia,Mammoth_Cave] + x[Acadia,Mesa_Verde] + x[Acadia,Mount_Rainier] + x[Acadia,New_River_Gorge] + x[Acadia,North_Cascades] + x[Acadia,Olympic] + x[Acadia,Petrified_Forest] + x[Acadia,Pinnacles] + x[Acadia,Redwood] + x[Acadia,Rocky_Mountain] + x[Acadia,Saguaro] + x[Acadia,Sequoia] + x[Acadia,Shenandoah] + x[Acadia,Theodore_Roosevelt] + x[Acadia,Voyageurs] + x[Acadia,White_Sands] + x[Acadia,Wind_Cave] + x[Acadia,Yellowstone] + x[Acadia,Yosemite] + x[Acadia,Zion] + x[Acadia,source] ≥ 0.0                                    …  connections[Yellowstone,source] : x[source,Acadia] + x[source,Arches] + x[source,Badlands] + x[source,Big_Bend] + x[source,Biscayne] + x[source,Black_Canyon_of_the_Gunnison] + x[source,Bryce_Canyon] + x[source,Canyonlands] + x[source,Capitol_Reef] + x[source,Carlsbad_Caverns] + x[source,Congaree] + x[source,Crater_Lake] + x[source,Cuyahoga_Valley] + x[source,Death_Valley] + x[source,Everglades] + x[source,Gateway_Arch] + x[source,Glacier] + x[source,Grand_Canyon] + x[source,Grand_Teton] + x[source,Great_Basin] + x[source,Great_Sand_Dunes] + x[source,Great_Smoky_Mountains] + x[source,Guadalupe_Mountains] + x[source,Hot_Springs] + x[source,Indiana_Dunes] + x[source,Joshua_Tree] + x[source,Kings_Canyon] + x[source,Lassen_Volcanic] + x[source,Mammoth_Cave] + x[source,Mesa_Verde] + x[source,Mount_Rainier] + x[source,New_River_Gorge] + x[source,North_Cascades] + x[source,Olympic] + x[source,Petrified_Forest] + x[source,Pinnacles] + x[source,Redwood] + x[source,Rocky_Mountain] + x[source,Saguaro] + x[source,Sequoia] + x[source,Shenandoah] + x[source,Theodore_Roosevelt] + x[source,Voyageurs] + x[source,White_Sands] + x[source,Wind_Cave] + x[source,Yellowstone] + x[source,Yosemite] + x[source,Zion] - x[Yellowstone,source] + x[source,source] ≥ 0.0\n",
       " connections[Yosemite,Acadia] : x[Acadia,Acadia] - x[Yosemite,Acadia] + x[Acadia,Arches] + x[Acadia,Badlands] + x[Acadia,Big_Bend] + x[Acadia,Biscayne] + x[Acadia,Black_Canyon_of_the_Gunnison] + x[Acadia,Bryce_Canyon] + x[Acadia,Canyonlands] + x[Acadia,Capitol_Reef] + x[Acadia,Carlsbad_Caverns] + x[Acadia,Congaree] + x[Acadia,Crater_Lake] + x[Acadia,Cuyahoga_Valley] + x[Acadia,Death_Valley] + x[Acadia,Everglades] + x[Acadia,Gateway_Arch] + x[Acadia,Glacier] + x[Acadia,Grand_Canyon] + x[Acadia,Grand_Teton] + x[Acadia,Great_Basin] + x[Acadia,Great_Sand_Dunes] + x[Acadia,Great_Smoky_Mountains] + x[Acadia,Guadalupe_Mountains] + x[Acadia,Hot_Springs] + x[Acadia,Indiana_Dunes] + x[Acadia,Joshua_Tree] + x[Acadia,Kings_Canyon] + x[Acadia,Lassen_Volcanic] + x[Acadia,Mammoth_Cave] + x[Acadia,Mesa_Verde] + x[Acadia,Mount_Rainier] + x[Acadia,New_River_Gorge] + x[Acadia,North_Cascades] + x[Acadia,Olympic] + x[Acadia,Petrified_Forest] + x[Acadia,Pinnacles] + x[Acadia,Redwood] + x[Acadia,Rocky_Mountain] + x[Acadia,Saguaro] + x[Acadia,Sequoia] + x[Acadia,Shenandoah] + x[Acadia,Theodore_Roosevelt] + x[Acadia,Voyageurs] + x[Acadia,White_Sands] + x[Acadia,Wind_Cave] + x[Acadia,Yellowstone] + x[Acadia,Yosemite] + x[Acadia,Zion] + x[Acadia,source] ≥ 0.0                                             connections[Yosemite,source] : x[source,Acadia] + x[source,Arches] + x[source,Badlands] + x[source,Big_Bend] + x[source,Biscayne] + x[source,Black_Canyon_of_the_Gunnison] + x[source,Bryce_Canyon] + x[source,Canyonlands] + x[source,Capitol_Reef] + x[source,Carlsbad_Caverns] + x[source,Congaree] + x[source,Crater_Lake] + x[source,Cuyahoga_Valley] + x[source,Death_Valley] + x[source,Everglades] + x[source,Gateway_Arch] + x[source,Glacier] + x[source,Grand_Canyon] + x[source,Grand_Teton] + x[source,Great_Basin] + x[source,Great_Sand_Dunes] + x[source,Great_Smoky_Mountains] + x[source,Guadalupe_Mountains] + x[source,Hot_Springs] + x[source,Indiana_Dunes] + x[source,Joshua_Tree] + x[source,Kings_Canyon] + x[source,Lassen_Volcanic] + x[source,Mammoth_Cave] + x[source,Mesa_Verde] + x[source,Mount_Rainier] + x[source,New_River_Gorge] + x[source,North_Cascades] + x[source,Olympic] + x[source,Petrified_Forest] + x[source,Pinnacles] + x[source,Redwood] + x[source,Rocky_Mountain] + x[source,Saguaro] + x[source,Sequoia] + x[source,Shenandoah] + x[source,Theodore_Roosevelt] + x[source,Voyageurs] + x[source,White_Sands] + x[source,Wind_Cave] + x[source,Yellowstone] + x[source,Yosemite] + x[source,Zion] - x[Yosemite,source] + x[source,source] ≥ 0.0\n",
       " connections[Zion,Acadia] : x[Acadia,Acadia] - x[Zion,Acadia] + x[Acadia,Arches] + x[Acadia,Badlands] + x[Acadia,Big_Bend] + x[Acadia,Biscayne] + x[Acadia,Black_Canyon_of_the_Gunnison] + x[Acadia,Bryce_Canyon] + x[Acadia,Canyonlands] + x[Acadia,Capitol_Reef] + x[Acadia,Carlsbad_Caverns] + x[Acadia,Congaree] + x[Acadia,Crater_Lake] + x[Acadia,Cuyahoga_Valley] + x[Acadia,Death_Valley] + x[Acadia,Everglades] + x[Acadia,Gateway_Arch] + x[Acadia,Glacier] + x[Acadia,Grand_Canyon] + x[Acadia,Grand_Teton] + x[Acadia,Great_Basin] + x[Acadia,Great_Sand_Dunes] + x[Acadia,Great_Smoky_Mountains] + x[Acadia,Guadalupe_Mountains] + x[Acadia,Hot_Springs] + x[Acadia,Indiana_Dunes] + x[Acadia,Joshua_Tree] + x[Acadia,Kings_Canyon] + x[Acadia,Lassen_Volcanic] + x[Acadia,Mammoth_Cave] + x[Acadia,Mesa_Verde] + x[Acadia,Mount_Rainier] + x[Acadia,New_River_Gorge] + x[Acadia,North_Cascades] + x[Acadia,Olympic] + x[Acadia,Petrified_Forest] + x[Acadia,Pinnacles] + x[Acadia,Redwood] + x[Acadia,Rocky_Mountain] + x[Acadia,Saguaro] + x[Acadia,Sequoia] + x[Acadia,Shenandoah] + x[Acadia,Theodore_Roosevelt] + x[Acadia,Voyageurs] + x[Acadia,White_Sands] + x[Acadia,Wind_Cave] + x[Acadia,Yellowstone] + x[Acadia,Yosemite] + x[Acadia,Zion] + x[Acadia,source] ≥ 0.0                                                     connections[Zion,source] : x[source,Acadia] + x[source,Arches] + x[source,Badlands] + x[source,Big_Bend] + x[source,Biscayne] + x[source,Black_Canyon_of_the_Gunnison] + x[source,Bryce_Canyon] + x[source,Canyonlands] + x[source,Capitol_Reef] + x[source,Carlsbad_Caverns] + x[source,Congaree] + x[source,Crater_Lake] + x[source,Cuyahoga_Valley] + x[source,Death_Valley] + x[source,Everglades] + x[source,Gateway_Arch] + x[source,Glacier] + x[source,Grand_Canyon] + x[source,Grand_Teton] + x[source,Great_Basin] + x[source,Great_Sand_Dunes] + x[source,Great_Smoky_Mountains] + x[source,Guadalupe_Mountains] + x[source,Hot_Springs] + x[source,Indiana_Dunes] + x[source,Joshua_Tree] + x[source,Kings_Canyon] + x[source,Lassen_Volcanic] + x[source,Mammoth_Cave] + x[source,Mesa_Verde] + x[source,Mount_Rainier] + x[source,New_River_Gorge] + x[source,North_Cascades] + x[source,Olympic] + x[source,Petrified_Forest] + x[source,Pinnacles] + x[source,Redwood] + x[source,Rocky_Mountain] + x[source,Saguaro] + x[source,Sequoia] + x[source,Shenandoah] + x[source,Theodore_Roosevelt] + x[source,Voyageurs] + x[source,White_Sands] + x[source,Wind_Cave] + x[source,Yellowstone] + x[source,Yosemite] + x[source,Zion] - x[Zion,source] + x[source,source] ≥ 0.0\n",
       " connections[source,Acadia] : x[Acadia,Acadia] - x[source,Acadia] + x[Acadia,Arches] + x[Acadia,Badlands] + x[Acadia,Big_Bend] + x[Acadia,Biscayne] + x[Acadia,Black_Canyon_of_the_Gunnison] + x[Acadia,Bryce_Canyon] + x[Acadia,Canyonlands] + x[Acadia,Capitol_Reef] + x[Acadia,Carlsbad_Caverns] + x[Acadia,Congaree] + x[Acadia,Crater_Lake] + x[Acadia,Cuyahoga_Valley] + x[Acadia,Death_Valley] + x[Acadia,Everglades] + x[Acadia,Gateway_Arch] + x[Acadia,Glacier] + x[Acadia,Grand_Canyon] + x[Acadia,Grand_Teton] + x[Acadia,Great_Basin] + x[Acadia,Great_Sand_Dunes] + x[Acadia,Great_Smoky_Mountains] + x[Acadia,Guadalupe_Mountains] + x[Acadia,Hot_Springs] + x[Acadia,Indiana_Dunes] + x[Acadia,Joshua_Tree] + x[Acadia,Kings_Canyon] + x[Acadia,Lassen_Volcanic] + x[Acadia,Mammoth_Cave] + x[Acadia,Mesa_Verde] + x[Acadia,Mount_Rainier] + x[Acadia,New_River_Gorge] + x[Acadia,North_Cascades] + x[Acadia,Olympic] + x[Acadia,Petrified_Forest] + x[Acadia,Pinnacles] + x[Acadia,Redwood] + x[Acadia,Rocky_Mountain] + x[Acadia,Saguaro] + x[Acadia,Sequoia] + x[Acadia,Shenandoah] + x[Acadia,Theodore_Roosevelt] + x[Acadia,Voyageurs] + x[Acadia,White_Sands] + x[Acadia,Wind_Cave] + x[Acadia,Yellowstone] + x[Acadia,Yosemite] + x[Acadia,Zion] + x[Acadia,source] ≥ 0.0                                                 connections[source,source] : x[source,Acadia] + x[source,Arches] + x[source,Badlands] + x[source,Big_Bend] + x[source,Biscayne] + x[source,Black_Canyon_of_the_Gunnison] + x[source,Bryce_Canyon] + x[source,Canyonlands] + x[source,Capitol_Reef] + x[source,Carlsbad_Caverns] + x[source,Congaree] + x[source,Crater_Lake] + x[source,Cuyahoga_Valley] + x[source,Death_Valley] + x[source,Everglades] + x[source,Gateway_Arch] + x[source,Glacier] + x[source,Grand_Canyon] + x[source,Grand_Teton] + x[source,Great_Basin] + x[source,Great_Sand_Dunes] + x[source,Great_Smoky_Mountains] + x[source,Guadalupe_Mountains] + x[source,Hot_Springs] + x[source,Indiana_Dunes] + x[source,Joshua_Tree] + x[source,Kings_Canyon] + x[source,Lassen_Volcanic] + x[source,Mammoth_Cave] + x[source,Mesa_Verde] + x[source,Mount_Rainier] + x[source,New_River_Gorge] + x[source,North_Cascades] + x[source,Olympic] + x[source,Petrified_Forest] + x[source,Pinnacles] + x[source,Redwood] + x[source,Rocky_Mountain] + x[source,Saguaro] + x[source,Sequoia] + x[source,Shenandoah] + x[source,Theodore_Roosevelt] + x[source,Voyageurs] + x[source,White_Sands] + x[source,Wind_Cave] + x[source,Yellowstone] + x[source,Yosemite] + x[source,Zion] ≥ 0.0"
      ]
     },
     "execution_count": 398,
     "metadata": {},
     "output_type": "execute_result"
    }
   ],
   "source": [
    "m = Model(Gurobi.Optimizer)\n",
    "\n",
    "@variable(m, x[p, p], Bin)\n",
    "@variable(m, 1 <= u[p] <= n)\n",
    "\n",
    "@objective(m, Min, sum(c[i] * x[i, j] for i in p for j in p) \n",
    "    + sum(g[i, j] * x[i, j] for i in p for j in p))\n",
    "\n",
    "\n",
    "\n",
    "# travel time constraints\n",
    "@constraint(m, sum(s[i] * x[i, j] for i in p for j in p) \n",
    "    + sum(T[i, j] * x[i, j] for i in p for j in p) <= maxTravel)\n",
    "\n",
    "@constraint(m, sum(s[i] * x[i, j] for i in p for j in p) \n",
    "    + sum(T[i, j] * x[i, j] for i in p for j in p) >= minTravel)\n",
    "\n",
    "# balance constraint\n",
    "# @constraint(m, balance[k in p], sum(x[k, j] for j in p) - sum(x[i, k] for i in p) == b[k])\n",
    "\n",
    "# no self loops constraint\n",
    "@constraint(m, x_constr[i in p], x[i, i] == 0)\n",
    "\n",
    "# no source --> sink loops constraints\n",
    "# @constraint(m, sink_constr, x[:sink, :source] == 0)\n",
    "# @constraint(m, source_constr, x[:source, :sink] == 0)\n",
    "\n",
    "# start at source, end at sink constraints\n",
    "@constraint(m, start_constr, sum(x[:source, j] for j in p) == 1)\n",
    "@constraint(m, end_constr, sum(x[i, :source] for i in p) == 1)\n",
    "\n",
    "# MTZ logical constraint\n",
    "@constraint(m, MTZ[i in p, j in p[2:end]], u[i] - u[j] + n*x[i, j] <= n - 1)\n",
    "\n",
    "# one out edge, one in edge constraints (at most)\n",
    "@constraint(m, x_row_constr[k in p], sum(x[k, j] for j in p) <= 1)\n",
    "@constraint(m, x_col_constr[k in p], sum(x[i, k] for i in p) <= 1)\n",
    "\n",
    "# prof Smith's constraint\n",
    "@constraint(m, connections[i in p, j in p], sum(x[j, k] for k in p) + -1*x[i,j] >= -1 + 1)\n",
    "\n",
    "\n",
    "# if sum(s[i] * x[i, j] for i in p for j in p) \n",
    "#     + sum(T[i, j] * x[i, j] for i in p for j in p) >= minTravel\n",
    "# @constraint(m, return_yet[i in p, j in p], sum(s[i] * x[i, j] for i in p for j in p) \n",
    "#                         + sum(T[i, j] * x[i, j] for i in p for j in p) + x[i,j] >= 7)\n",
    "# then x[i, :sink] == 1\n",
    "# @constraint(m, min[i in p], )\n",
    "\n",
    "# if x[i, j] == 1, then x[j, i] == 0\n",
    "# @constraint(m, one_way[i in p, j in p], x[i, j] <= x[j, i])\n",
    "\n",
    ";"
   ]
  },
  {
   "cell_type": "code",
   "execution_count": 399,
   "id": "e4ae268d",
   "metadata": {},
   "outputs": [
    {
     "name": "stdout",
     "output_type": "stream",
     "text": [
      "Gurobi Optimizer version 9.5.2 build v9.5.2rc0 (mac64[x86])\n",
      "Thread count: 4 physical cores, 8 logical processors, using up to 8 threads\n",
      "Optimize a model with 4904 rows, 2450 columns and 136661 nonzeros\n",
      "Model fingerprint: 0x077b2aed\n",
      "Variable types: 49 continuous, 2401 integer (2401 binary)\n",
      "Coefficient statistics:\n",
      "  Matrix range     [1e-01, 1e+01]\n",
      "  Objective range  [4e+01, 4e+03]\n",
      "  Bounds range     [1e+00, 5e+00]\n",
      "  RHS range        [1e+00, 1e+01]\n",
      "Found heuristic solution: objective 2583.9440000\n",
      "Presolve removed 2720 rows and 227 columns\n",
      "Presolve time: 0.27s\n",
      "Presolved: 2184 rows, 2223 columns, 14835 nonzeros\n",
      "Variable types: 47 continuous, 2176 integer (2176 binary)\n",
      "\n",
      "Root relaxation: objective 5.975521e+02, 36 iterations, 0.00 seconds (0.00 work units)\n",
      "\n",
      "    Nodes    |    Current Node    |     Objective Bounds      |     Work\n",
      " Expl Unexpl |  Obj  Depth IntInf | Incumbent    BestBd   Gap | It/Node Time\n",
      "\n",
      "     0     0  597.55214    0   13 2583.94400  597.55214  76.9%     -    0s\n",
      "H    0     0                    1995.1765000  597.55214  70.1%     -    0s\n",
      "     0     0  647.93619    0   13 1995.17650  647.93619  67.5%     -    0s\n",
      "     0     0  683.93937    0    6 1995.17650  683.93937  65.7%     -    0s\n",
      "     0     0  686.61015    0   11 1995.17650  686.61015  65.6%     -    0s\n",
      "     0     0  689.61781    0   10 1995.17650  689.61781  65.4%     -    0s\n",
      "     0     0  698.92157    0   14 1995.17650  698.92157  65.0%     -    0s\n",
      "     0     0  701.04366    0   14 1995.17650  701.04366  64.9%     -    0s\n",
      "     0     0  709.06422    0   17 1995.17650  709.06422  64.5%     -    0s\n",
      "     0     0  709.06422    0   18 1995.17650  709.06422  64.5%     -    0s\n",
      "     0     0  710.07897    0   20 1995.17650  710.07897  64.4%     -    0s\n",
      "     0     0  721.17368    0   18 1995.17650  721.17368  63.9%     -    1s\n",
      "     0     0  721.49030    0   18 1995.17650  721.49030  63.8%     -    1s\n",
      "H    0     0                    1904.0422500  721.49030  62.1%     -    1s\n",
      "     0     2  721.49030    0   18 1904.04225  721.49030  62.1%     -    1s\n",
      "H   35    37                    1901.5157500  721.49030  62.1%  12.7    1s\n",
      "H  510   347                    1882.8255000  721.49030  61.7%   6.2    1s\n",
      "  1891   995 1561.20322   65   13 1882.82550  745.63750  60.4%  12.5    5s\n",
      "H 1898   955                    1810.1530000  745.63750  58.8%  12.4    5s\n",
      " 13387  9060 1224.77827   43   14 1810.15300  834.59598  53.9%  13.9   10s\n",
      " 26926 16867 1364.26269   73    9 1810.15300  920.07552  49.2%  13.6   15s\n",
      " 29277 17632 1494.12831   74   18 1810.15300  937.94200  48.2%  13.7   20s\n",
      " 29301 17648 1470.55191  145   34 1810.15300  937.94200  48.2%  13.7   25s\n",
      " 29321 17661 1562.71017  137   32 1810.15300  937.94200  48.2%  13.7   30s\n",
      " 29338 17676  944.14946   25   25 1810.15300  944.14946  47.8%  13.7   35s\n",
      " 35336 19990 1469.52283   63   10 1810.15300  944.14946  47.8%  14.0   40s\n",
      " 45965 23248 1630.00950   68   14 1810.15300  944.14946  47.8%  13.8   45s\n",
      " 53667 24732 infeasible  111      1810.15300  944.14946  47.8%  14.0   50s\n",
      " 67089 26635 1597.51494   61   14 1810.15300 1016.72181  43.8%  14.0   55s\n",
      " 81237 28525 1273.45925  127    6 1810.15300 1067.49142  41.0%  13.8   60s\n",
      " 95136 34800 infeasible   89      1810.15300 1110.15510  38.7%  13.6   65s\n",
      " 110823 41205 1707.62187   89    9 1810.15300 1146.18600  36.7%  13.4   70s\n",
      " 123708 46573 1462.04039  105   13 1810.15300 1169.27437  35.4%  13.2   75s\n",
      " 137324 51804 1437.57138  159   11 1810.15300 1187.87142  34.4%  13.0   80s\n",
      " 152868 57434 infeasible   61      1810.15300 1207.36317  33.3%  12.8   85s\n",
      " 168664 62961 1361.51228  146    9 1810.15300 1225.88009  32.3%  12.7   90s\n",
      " 183287 67729 1713.61826   66   11 1810.15300 1243.01581  31.3%  12.6   95s\n",
      " 199045 72602 infeasible  159      1810.15300 1258.51350  30.5%  12.5  100s\n",
      " 213520 76924 1630.26484   56   12 1810.15300 1273.29150  29.7%  12.4  105s\n",
      " 229230 80974 1626.65404  182   11 1810.15300 1288.11823  28.8%  12.3  110s\n",
      " 245366 84635 1423.72264  168    9 1810.15300 1302.96596  28.0%  12.2  115s\n",
      " 261169 87756 1625.81119  164   13 1810.15300 1318.06200  27.2%  12.1  120s\n",
      " 277788 90990 1435.62703  179    9 1810.15300 1333.12150  26.4%  12.1  125s\n",
      " 294056 93974 1535.58916   58   17 1810.15300 1347.47223  25.6%  12.0  130s\n",
      " 310940 96311 infeasible   43      1810.15300 1362.92706  24.7%  12.0  135s\n",
      " 327355 98130 1720.11451   79   13 1810.15300 1378.69444  23.8%  11.9  140s\n",
      " 340625 99047 1703.13162   59   15 1810.15300 1390.67391  23.2%  11.9  145s\n",
      " 355200 99780 1655.85719  123   11 1810.15300 1404.15825  22.4%  11.9  150s\n",
      " 371197 100088     cutoff   65      1810.15300 1417.92728  21.7%  11.8  155s\n",
      " 387657 100368     cutoff  129      1810.15300 1431.65187  20.9%  11.8  160s\n",
      " 403126 99746 1696.63189  112    8 1810.15300 1444.53254  20.2%  11.8  165s\n",
      " 421194 98511 infeasible  142      1810.15300 1461.03019  19.3%  11.7  170s\n",
      " 437022 96537 1694.96867  112    8 1810.15300 1475.55741  18.5%  11.7  175s\n",
      " 455491 93754 1750.82999  113   14 1810.15300 1492.49287  17.5%  11.7  180s\n",
      " 470074 90750 1705.56211  133   13 1810.15300 1506.38178  16.8%  11.7  185s\n",
      " 488890 86290 1722.57698  113   11 1810.15300 1524.00506  15.8%  11.6  190s\n",
      " 507142 80969 1781.06719  155    9 1810.15300 1541.56668  14.8%  11.6  195s\n",
      " 527080 73655 1792.71884   90   13 1810.15300 1562.18225  13.7%  11.6  200s\n",
      " 547551 64850     cutoff  120      1810.15300 1584.22925  12.5%  11.5  205s\n",
      " 565879 55155 1804.34752   65   13 1810.15300 1606.33800  11.3%  11.4  210s\n",
      " 587923 41748 infeasible  127      1810.15300 1636.64306  9.59%  11.3  215s\n",
      " 612831 23413 infeasible   95      1810.15300 1683.29812  7.01%  11.2  220s\n",
      "\n",
      "Cutting planes:\n",
      "  Learned: 3\n",
      "  Lift-and-project: 1\n",
      "  Cover: 1\n",
      "  Clique: 1\n",
      "  MIR: 23\n",
      "  StrongCG: 1\n",
      "  Flow cover: 50\n",
      "\n",
      "Explored 639982 nodes (6969472 simplex iterations) in 224.61 seconds (228.77 work units)\n",
      "Thread count was 8 (of 8 available processors)\n",
      "\n",
      "Solution count 7: 1810.15 1810.15 1882.83 ... 2583.94\n",
      "\n",
      "Optimal solution found (tolerance 1.00e-04)\n",
      "Best objective 1.810153000000e+03, best bound 1.810153000000e+03, gap 0.0000%\n",
      "\n",
      "User-callback calls 1314509, time in user-callback 0.53 sec\n"
     ]
    }
   ],
   "source": [
    "optimize!(m)\n",
    ";"
   ]
  },
  {
   "cell_type": "code",
   "execution_count": 400,
   "id": "46a38253",
   "metadata": {},
   "outputs": [
    {
     "name": "stdout",
     "output_type": "stream",
     "text": [
      "cost of road trip: $1810.1530000000002\n",
      "\n",
      "arc 1: Acadia --> source\n",
      "arc 2: Cuyahoga_Valley --> Acadia\n",
      "arc 3: source --> Cuyahoga_Valley\n",
      "\n",
      "\n",
      "x[Acadia,source]\n",
      "x[Cuyahoga_Valley,Acadia]\n",
      "x[source,Cuyahoga_Valley]\n"
     ]
    }
   ],
   "source": [
    "counter = 0\n",
    "\n",
    "println(\"cost of road trip: \\$\", objective_value(m), \"\\n\")\n",
    "\n",
    "for i in p\n",
    "    for j in p\n",
    "        if value(x[i, j]) > 0\n",
    "            counter += 1\n",
    "            println(\"arc \", counter, \": \", i, \" --> \", j)\n",
    "        end\n",
    "    end\n",
    "end\n",
    " println(\"\\n\")\n",
    "# for i in p\n",
    "#     for j in p\n",
    "#         if value(x[i, j]) > 0\n",
    "#             counter += 1\n",
    "#             println(x[i,j])\n",
    "#         end\n",
    "#     end\n",
    "# end"
   ]
  },
  {
   "cell_type": "code",
   "execution_count": 404,
   "id": "f3ab50f0",
   "metadata": {},
   "outputs": [],
   "source": [
    "# for i in p\n",
    "#     println(value.(u[i]), \" \", i)\n",
    "# end\n"
   ]
  },
  {
   "cell_type": "code",
   "execution_count": 408,
   "id": "b0565973",
   "metadata": {},
   "outputs": [
    {
     "name": "stdout",
     "output_type": "stream",
     "text": [
      "trip mileage: 2799.0\n",
      "trip length: 7.821122685185185 days\n"
     ]
    }
   ],
   "source": [
    "tripMileage = 0\n",
    "tripDays = 0\n",
    "\n",
    "for i in p\n",
    "    for j in p\n",
    "        if value(x[i,j]) > 0\n",
    "            tripMileage += D[i,j]\n",
    "            tripDays += T[i,j]\n",
    "            tripDays += s[i]\n",
    "        end\n",
    "    end\n",
    "end\n",
    "\n",
    "println(\"trip mileage: \", tripMileage)\n",
    "println(\"trip length: \", tripDays, \" days\")"
   ]
  },
  {
   "cell_type": "markdown",
   "id": "b0ae706d",
   "metadata": {},
   "source": [
    "#### Adapative Subtour Elimination Method\n",
    "This helps eliminate subtours by sort of formulating this similar to the TSP version but with only the set of nodes selected by the first optimal solution (that may include subtours). This limits subtour constraints by not forcing the model to visit all points"
   ]
  },
  {
   "cell_type": "code",
   "execution_count": 413,
   "id": "0d83de7f",
   "metadata": {},
   "outputs": [],
   "source": [
    "# Code from https://nbviewer.org/github/asmith28/cs524-su22/blob/main/TravelingSalesmanProblem.ipynb\n",
    "# modified to suit our needs\n",
    "\n",
    "# HELPER FUNCTION: returns the cycle containing the park START.\n",
    "function getSubtour(x,start)\n",
    "    subtour = [start]\n",
    "    while true\n",
    "        j = subtour[end]\n",
    "        for k in p\n",
    "            if x[k,j] == 1\n",
    "                push!(subtour,k)\n",
    "                break\n",
    "            end\n",
    "        end\n",
    "        if subtour[end] == start\n",
    "            break\n",
    "        end\n",
    "    end\n",
    "    return subtour\n",
    "end\n",
    "\n",
    "# HELPER FUNCTION: returns a list of all cycles\n",
    "function getAllSubtours(x, specific_parks)\n",
    "    nodesRemaining = specific_parks\n",
    "    subtours = []\n",
    "    while length(nodesRemaining) > 0\n",
    "        subtour = getSubtour(x, nodesRemaining[1])\n",
    "        push!(subtours, subtour)\n",
    "        nodesRemaining = setdiff(nodesRemaining, subtour)\n",
    "    end\n",
    "    return subtours\n",
    "end\n",
    ";\n",
    "\n"
   ]
  },
  {
   "cell_type": "code",
   "execution_count": 426,
   "id": "3ae32c20",
   "metadata": {},
   "outputs": [
    {
     "name": "stdout",
     "output_type": "stream",
     "text": [
      "Set parameter Username\n",
      "Academic license - for non-commercial use only - expires 2023-07-08\n"
     ]
    }
   ],
   "source": [
    "# parks = [1 2 3 4 5 6 7 8 9 10 11 12 13 14 15 16 17 18 19 20 21 22 23 24 25 26 27 28 29 30 31 32 33 34 35 36 37 38 39 40 41 42 43 44 45 46 47 48 49]\n",
    "\n",
    "m = Model(Gurobi.Optimizer)\n",
    "set_optimizer_attribute(m, \"OutputFlag\", 0)\n",
    "\n",
    "@variable(m, x[p, p], Bin) # flow from one park to another\n",
    "\n",
    "@constraint(m, c1[i in p], sum(x[i,:]) - sum(x[:,i]) == 0)\n",
    "\n",
    "# enforce starting points\n",
    "@constraint(m, sum(x[:source, :]) == 1)\n",
    "@constraint(m, sum(x[:, :source]) == 1)\n",
    "\n",
    "@constraint(m, self_loop[i in p], x[i, i] == 0) # no self-loops\n",
    "# @constraint(m, sum(days[i]*sum(x[i,:]) for i in p) >= 7) # Min days spent\n",
    "# @constraint(m, sum(days[i]*sum(x[i,:]) for i in p) <= 14) # Max days spent\n",
    "\n",
    "# travel time constraints\n",
    "@constraint(m, sum(s[i] * x[i, j] for i in p for j in p) \n",
    "    + sum(T[i, j] * x[i, j] for i in p for j in p) <= maxTravel)\n",
    "\n",
    "@constraint(m, sum(s[i] * x[i, j] for i in p for j in p) \n",
    "    + sum(T[i, j] * x[i, j] for i in p for j in p) >= minTravel)\n",
    "\n",
    "\n",
    "# @objective(m, Min, sum(cost[i, j] * x[i, j] for i in parks, j in parks))\n",
    "@objective(m, Min, sum(c[i] * x[i, j] for i in p for j in p) \n",
    "    + sum(g[i, j] * x[i, j] for i in p for j in p))\n",
    ";"
   ]
  },
  {
   "cell_type": "markdown",
   "id": "5fc2d780",
   "metadata": {},
   "source": [
    "The code below uses adaptive subtour elimination to add constraints that prevent subtours from forming. I've also modified the `getAllSubtours` helper function to only filter through the unique nodes provided by the first-run solution that may contain subtours. As Julia thinks this is optimal, we will add constraints to not have subtours for those. After this, Julia will iteratively run this code to determine the optimal solution with the no-subtour constraints applied"
   ]
  },
  {
   "cell_type": "code",
   "execution_count": 427,
   "id": "615175c8",
   "metadata": {},
   "outputs": [
    {
     "name": "stdout",
     "output_type": "stream",
     "text": [
      "Tour length: 653.528\n"
     ]
    },
    {
     "data": {
      "text/plain": [
       "2-element Vector{Any}:\n",
       " [:Great_Smoky_Mountains, :New_River_Gorge, :Great_Smoky_Mountains]\n",
       " [:Indiana_Dunes, :source, :Indiana_Dunes]"
      ]
     },
     "metadata": {},
     "output_type": "display_data"
    },
    {
     "name": "stdout",
     "output_type": "stream",
     "text": [
      "Tour length: 674.90775\n"
     ]
    },
    {
     "data": {
      "text/plain": [
       "1-element Vector{Any}:\n",
       " [:Cuyahoga_Valley, :Great_Smoky_Mountains, :source, :Cuyahoga_Valley]"
      ]
     },
     "metadata": {},
     "output_type": "display_data"
    },
    {
     "name": "stdout",
     "output_type": "stream",
     "text": [
      "SOLVED!\n",
      "[:Cuyahoga_Valley, :Great_Smoky_Mountains, :source, :Cuyahoga_Valley]\n",
      "Any[[:Cuyahoga_Valley, :Great_Smoky_Mountains, :source, :Cuyahoga_Valley]]\n",
      "[:Cuyahoga_Valley, :Great_Smoky_Mountains, :source, :Cuyahoga_Valley]\n",
      "Any[[:Cuyahoga_Valley, :Great_Smoky_Mountains, :source, :Cuyahoga_Valley]]\n",
      "[:Cuyahoga_Valley, :Great_Smoky_Mountains, :source, :Cuyahoga_Valley]\n",
      "Any[[:Cuyahoga_Valley, :Great_Smoky_Mountains, :source, :Cuyahoga_Valley]]\n",
      "[:Cuyahoga_Valley, :Great_Smoky_Mountains, :source, :Cuyahoga_Valley]\n",
      "Any[[:Cuyahoga_Valley, :Great_Smoky_Mountains, :source, :Cuyahoga_Valley]]\n",
      "Total days spent: 8\n",
      "[:Cuyahoga_Valley, :source]\n",
      "[:Great_Smoky_Mountains, :Cuyahoga_Valley]\n",
      "[:source, :Great_Smoky_Mountains]\n",
      "[:Cuyahoga_Valley, :Great_Smoky_Mountains, :source, :Cuyahoga_Valley]\n"
     ]
    }
   ],
   "source": [
    "# Code from https://nbviewer.org/github/asmith28/cs524-su22/blob/main/TravelingSalesmanProblem.ipynb\n",
    "\n",
    "sols = []\n",
    "opt_sol = []\n",
    "\n",
    "# We'll run the heuristic 30 times and hope we get an optimal solution\n",
    "for iters = 1:30\n",
    "    optimize!(m)\n",
    "    # total  length of current tour\n",
    "    println(\"Tour length: \", objective_value(m))\n",
    "    xx = value.(x) # save solution\n",
    "    push!(sols, xx) # save solution\n",
    "\n",
    "    nodes = []\n",
    "    for i in p\n",
    "        for j in p\n",
    "            if Int(value(x[i, j])) == 1\n",
    "                append!(nodes, [i, j])\n",
    "            end\n",
    "        end\n",
    "    end\n",
    "\n",
    "    subtours = getAllSubtours(xx, unique!(nodes))  # get all the subtours\n",
    "    display(subtours)\n",
    "    sleep(1)\n",
    "    # get length of the subtour list\n",
    "    len = length(subtours)\n",
    "    if len == 1\n",
    "        # solution is just a single tour!\n",
    "        println(\"SOLVED!\")\n",
    "\n",
    "        # Calculate total days spent\n",
    "        tot_days = 0\n",
    "        for day in subtours[1]\n",
    "            tot_days += s[day]\n",
    "            println(subtours[1])\n",
    "            println(subtours)\n",
    "        end\n",
    "        println(\"Total days spent: \", tot_days)\n",
    "\n",
    "        # Show the optimal route\n",
    "        for i in p\n",
    "            for j in p\n",
    "                if Int(value(x[i,j])) == 1\n",
    "                    println([i,j])\n",
    "                end\n",
    "            end\n",
    "        end\n",
    "        opt_sol = subtours[1]\n",
    "        println(opt_sol)\n",
    "\n",
    "        break\n",
    "    else\n",
    "        for subtour in subtours\n",
    "            L = length(subtour)\n",
    "            # add constraints that cut off each subtour in the list (add two for each subtour)\n",
    "            @constraint(m, sum(x[subtour[k+1], subtour[k]] for k = 1:L-1) <= L - 2)\n",
    "            @constraint(m, sum(x[subtour[k], subtour[k+1]] for k = 1:L-1) <= L - 2)\n",
    "        end\n",
    "    end\n",
    "end"
   ]
  },
  {
   "cell_type": "code",
   "execution_count": 428,
   "id": "46fa8dfa",
   "metadata": {},
   "outputs": [
    {
     "data": {
      "text/plain": [
       "674.90775"
      ]
     },
     "execution_count": 428,
     "metadata": {},
     "output_type": "execute_result"
    }
   ],
   "source": [
    "objective_value(m)"
   ]
  },
  {
   "cell_type": "code",
   "execution_count": 429,
   "id": "438aeccd",
   "metadata": {},
   "outputs": [
    {
     "name": "stdout",
     "output_type": "stream",
     "text": [
      "Arcs in optimal solution are:\n"
     ]
    },
    {
     "data": {
      "text/plain": [
       "3-element Vector{Any}:\n",
       " [:Cuyahoga_Valley, :source]\n",
       " [:Great_Smoky_Mountains, :Cuyahoga_Valley]\n",
       " [:source, :Great_Smoky_Mountains]"
      ]
     },
     "execution_count": 429,
     "metadata": {},
     "output_type": "execute_result"
    }
   ],
   "source": [
    "println(\"Arcs in optimal solution are:\")\n",
    "path_opt = []\n",
    "for i in p\n",
    "    for j in p\n",
    "        if Int(value(x[i,j])) == 1\n",
    "            append!(path_opt, [[i,j]])\n",
    "        end\n",
    "    end\n",
    "end\n",
    "\n",
    "# This describes the __actual__ arcs of the solution rather than\n",
    "# the nodes as shown when a subtour of length 1 is found\n",
    "# NOTE: the way the solution is drawn will be the same as it's a closed loop\n",
    "# but the optimal objective value depends on the arcs\n",
    "path_opt"
   ]
  },
  {
   "cell_type": "code",
   "execution_count": 425,
   "id": "81125ff9",
   "metadata": {},
   "outputs": [
    {
     "name": "stdout",
     "output_type": "stream",
     "text": [
      "1120.0 228.0\n",
      "4 4\n",
      "250 57\n",
      "30.0 0.0\n"
     ]
    }
   ],
   "source": [
    "println(c[:Acadia], \" \", c[:Great_Smoky_Mountains])\n",
    "println(s[:Acadia], \" \", s[:Great_Smoky_Mountains])\n",
    "println(l[:Acadia], \" \", l[:Great_Smoky_Mountains])\n",
    "println(e[:Acadia], \" \", e[:Great_Smoky_Mountains])\n"
   ]
  },
  {
   "cell_type": "code",
   "execution_count": null,
   "id": "34d7cd4c",
   "metadata": {},
   "outputs": [],
   "source": []
  }
 ],
 "metadata": {
  "kernelspec": {
   "display_name": "Julia 1.7.3",
   "language": "julia",
   "name": "julia-1.7"
  },
  "language_info": {
   "file_extension": ".jl",
   "mimetype": "application/julia",
   "name": "julia",
   "version": "1.7.3"
  }
 },
 "nbformat": 4,
 "nbformat_minor": 5
}
