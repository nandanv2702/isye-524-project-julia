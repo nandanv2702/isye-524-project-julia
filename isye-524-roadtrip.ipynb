{
 "cells": [
  {
   "cell_type": "markdown",
   "id": "07ce398b",
   "metadata": {},
   "source": [
    "### CS/ECE/ISyE 524 &mdash; Introduction to Optimization &mdash; Summer 2022 ###\n",
    "\n",
    "# Road Trip Optimizer #\n",
    "\n",
    "#### Alex Gilmore (asgilmore@wisc.edu), Nandan Venkatesan (nvenkatesan2@wisc.edu), and Brendan Zimmer (btzimmer@wisc.edu)\n",
    "\n",
    "### Table of Contents\n",
    "\n",
    "1. [Introduction](#1.-Introduction)\n",
    "1. [Mathematical Model](#2.-Mathematical-Model)\n",
    "1. [Solution](#3.-Solution)\n",
    "1. [Results and Discussion](#4.-Results-and-Discussion)\n",
    "1. [Optional Subsection](#4.A.-Feel-free-to-add-subsections)\n",
    "1. [Conclusion](#5.-Conclusion)"
   ]
  },
  {
   "cell_type": "markdown",
   "id": "6059428b",
   "metadata": {},
   "source": [
    "## 1. Introduction ##"
   ]
  },
  {
   "cell_type": "markdown",
   "id": "e81f12d9",
   "metadata": {},
   "source": [
    "add from google doc"
   ]
  },
  {
   "cell_type": "markdown",
   "id": "c09a82d2",
   "metadata": {},
   "source": [
    "## 2. Mathematical Model ##"
   ]
  },
  {
   "cell_type": "markdown",
   "id": "df08e980",
   "metadata": {},
   "source": [
    "We are utilizing an MCNF framework to solve our primary problem. The source and sink will be identical since we are interested in only round trips and we will be implementing a minimum trip length to prevent the model from cutting the trip short to reduce cost."
   ]
  },
  {
   "cell_type": "markdown",
   "id": "01da0564",
   "metadata": {},
   "source": [
    "let p be a list of national parks and our starting location\n",
    "\n",
    "let x be a vector representing if an arc is chosen\n",
    "\n",
    "let e be a vector of entrance fees for each entered park of an arc\n",
    "\n",
    "let l be a vector of est. lodging fees for each entered park of an arc\n",
    "\n",
    "let s be a vector of length of stays for each entered park of an arc\n",
    "\n",
    "let g be a vector of gas prices for each arc\n",
    "\n",
    "let D be a vector of  arc distances (miles) between each set of parks\n",
    "\n",
    "let T be a vector of arc times (s) between each set of parks\n",
    "\n",
    "let M be the maximum days allowed to travel\n",
    "\n",
    "let m be the minimum days allowed to travel\n",
    "\n",
    "let b be a vector of \"supply/demand\" at each park\n",
    "\n",
    "let c be a vector of the total lodging and entrance fee cost of each park\n",
    "\n",
    "$c = s * l * e$\n",
    "\n",
    "$g_{ij} =  \\frac{stateGas_i + stateGas_j}{2} * \\frac{1}{milesPerGallon} * D_{ij}$\n",
    "\n",
    "\\begin{align*}\n",
    "\\underset{x}{\\max} \\ & - \\underset{(ij) \\in p}\\Sigma\\ c_{ij} x_{ij} - \\underset{(ij) \\in p}\\Sigma\\ g_{ij} x_{ij}  & \\\\\n",
    "\\text{s.t.} \\ & \\underset{(ij) \\in p}\\Sigma\\ s_{ij} x_{ij} + 86400*\\underset{(ij) \\in p}\\Sigma\\ T_{ij} x_{ij} \\le M &\\\\\n",
    "& - \\underset{(ij) \\in p}\\Sigma\\ s_{ij} x_{ij} - 86400* \\underset{(ij) \\in p}\\Sigma\\ T_{ij} x_{ij} \\le - m &\\\\\n",
    "& \\underset{j \\in p}\\Sigma\\ x_{kj} - \\underset{i \\in p}\\Sigma\\ x_{ik} \\le b_k,\\ \\forall\\ k \\in p &\\\\\n",
    "& - \\underset{j \\in p}\\Sigma\\ x_{kj} + \\underset{i \\in p}\\Sigma\\ x_{ik} \\le - b_k,\\ \\forall\\ k \\in p &\\\\\n",
    "\\end{align*}\n",
    "\n"
   ]
  },
  {
   "cell_type": "code",
   "execution_count": null,
   "id": "2c952e5f",
   "metadata": {},
   "outputs": [],
   "source": [
    "#constraints\n",
    "# travel max\n",
    "# travel min\n",
    "# park selection"
   ]
  },
  {
   "cell_type": "markdown",
   "id": "d62b2e77",
   "metadata": {},
   "source": [
    "Variables:\n",
    "\n",
    "- $x_{ij}$ = $\\left\\{ \\begin{array}{ll}\n",
    "        1 \\ \\mbox{if arc $x_{ij}$ is in road trip path} \\\\\n",
    "        0 \\ \\mbox{otherwise} & \n",
    "    \\end{array} \\right\\}$\n",
    "\n",
    "Constraints:\n",
    "1. The total time traveled must be less than the maximum travel time.\n",
    "\n",
    "\n",
    "2. The total time traveled must be more than the minimum desired travel time. This prevents the model from decreasing the trip length in an effort to reduce the trip cost. \n",
    "\n",
    "\n",
    "3. This is a flow balance constraint to direct our road trip path. Only one arc (road) may enter a node (park) and only one arc may leave. This constraint is split into two halves (the third and fourth constraint listed) to display the mathematical model in standard form.\n",
    "\n",
    "Objective Function:\n",
    "- This is minimzing the collective cost of visiting parks + the gas cost of traveling between all parks. "
   ]
  },
  {
   "cell_type": "markdown",
   "id": "a37edc68",
   "metadata": {},
   "source": [
    "## 3. Solution ##"
   ]
  },
  {
   "cell_type": "markdown",
   "id": "45ff4582",
   "metadata": {},
   "source": [
    "## STILL CLEANING DATA FOR USE aug 8"
   ]
  },
  {
   "cell_type": "code",
   "execution_count": 20,
   "id": "332c258d",
   "metadata": {},
   "outputs": [],
   "source": [
    "using Clp, JuMP, NamedArrays, CSV, DataFrames"
   ]
  },
  {
   "cell_type": "code",
   "execution_count": 127,
   "id": "a3b5ef3d",
   "metadata": {},
   "outputs": [
    {
     "data": {
      "text/plain": [
       "58-element Named Vector{Float64}\n",
       "A                             │ \n",
       "──────────────────────────────┼────────\n",
       ":Acadia                       │ 30000.0\n",
       ":Arches                       │  3540.0\n",
       ":Badlands                     │  5100.0\n",
       ":Big_Bend                     │ 17400.0\n",
       ":Biscayne                     │     0.0\n",
       ":Black_Canyon_of_the_Gunnison │  2400.0\n",
       ":Bryce_Canyon                 │  6300.0\n",
       ":Canyonlands                  │  3660.0\n",
       ":Capitol_Reef                 │  4360.0\n",
       ":Carlsbad_Caverns             │  4560.0\n",
       ":Congaree                     │     0.0\n",
       "⋮                                     ⋮\n",
       ":Sequoia                      │  6790.0\n",
       ":Shenandoah                   │  3900.0\n",
       ":Theodore_Roosevelt           │  8100.0\n",
       ":Voyageurs                    │     0.0\n",
       ":White_Sands                  │  1800.0\n",
       ":Wind_Cave                    │     0.0\n",
       ":Wrangell_St_Elias            │     0.0\n",
       ":Yellowstone                  │ 27650.0\n",
       ":Yosemite                     │ 86100.0\n",
       ":Zion                         │  6720.0\n",
       ":UW_Madison                   │     0.0"
      ]
     },
     "execution_count": 127,
     "metadata": {},
     "output_type": "execute_result"
    }
   ],
   "source": [
    "df = DataFrame(CSV.File(\"park_data.csv\"))\n",
    "\n",
    "push!(df, (\"UW_Madison\", \"\", 0, 0, 0, 3.5))\n",
    "\n",
    "pTemp = df[!, \"park name\"]\n",
    "p = Array{Symbol}(undef, length(pTemp))\n",
    "\n",
    "# format parks list to symbols\n",
    "for i in [1:1:length(pTemp);]\n",
    "    pTemp[i] = replace(pTemp[i], \" \" => \"_\", \"–\" => \"_\", \".\" => \"\")\n",
    "    p[i] = Symbol(pTemp[i])\n",
    "end \n",
    "\n",
    "e = NamedArray(df[!, \"entrance fee\"], (p))\n",
    "\n",
    "l = NamedArray(df[!, \"lodging\"], (p))\n",
    "\n",
    "s = NamedArray(df[!, \"est. length of stay\"], (p))\n",
    "\n",
    "stateGas = NamedArray(df[!, \"gas price\"], (p)) \n",
    "\n",
    "c = s .* l .* e\n",
    "\n",
    ";"
   ]
  },
  {
   "cell_type": "code",
   "execution_count": 54,
   "id": "101eb1bc",
   "metadata": {},
   "outputs": [],
   "source": [
    "dist = DataFrame(CSV.File(\"arc_data_dist.csv\"))\n",
    "\n",
    "distO = DataFrame(CSV.File(\"origin_data_dist.csv\"))\n",
    "\n",
    "time = DataFrame(CSV.File(\"arc_data_time.csv\"))\n",
    "\n",
    "timeO = DataFrame(CSV.File(\"origin_data_time.csv\"))\n",
    "\n",
    "dist.UW_Madison = distO[!, 2]\n",
    "time.UW_Madison = timeO[!, 2]\n",
    "\n",
    ";"
   ]
  },
  {
   "cell_type": "code",
   "execution_count": 131,
   "id": "d695bfdd",
   "metadata": {},
   "outputs": [
    {
     "data": {
      "text/plain": [
       "50-element Vector{String}:\n",
       " \"Column1\"\n",
       " \"Acadia National Park\"\n",
       " \"Arches National Park\"\n",
       " \"Badlands National Park\"\n",
       " \"Big Bend National Park\"\n",
       " \"Biscayne National Park\"\n",
       " \"Black Canyon of the Gunnison National Park\"\n",
       " \"Bryce Canyon National Park\"\n",
       " \"Canyonlands National Park\"\n",
       " \"Capitol Reef National Park\"\n",
       " \"Carlsbad Caverns National Park\"\n",
       " \"Congaree National Park\"\n",
       " \"Crater Lake National Park\"\n",
       " ⋮\n",
       " \"Rocky Mountain National Park\"\n",
       " \"Saguaro National Park\"\n",
       " \"Sequoia National Park\"\n",
       " \"Shenandoah National Park\"\n",
       " \"Theodore Roosevelt National Park\"\n",
       " \"Voyageurs National Park\"\n",
       " \"White Sands National Park\"\n",
       " \"Wind Cave National Park\"\n",
       " \"Yellowstone National Park\"\n",
       " \"Yosemite National Park\"\n",
       " \"Zion National Park\"\n",
       " \"UW_Madison\""
      ]
     },
     "execution_count": 131,
     "metadata": {},
     "output_type": "execute_result"
    }
   ],
   "source": [
    "dist.col1 = p[1:57]"
   ]
  },
  {
   "cell_type": "code",
   "execution_count": null,
   "id": "0a8a0051",
   "metadata": {},
   "outputs": [],
   "source": []
  }
 ],
 "metadata": {
  "kernelspec": {
   "display_name": "Julia 1.7.3",
   "language": "julia",
   "name": "julia-1.7"
  },
  "language_info": {
   "file_extension": ".jl",
   "mimetype": "application/julia",
   "name": "julia",
   "version": "1.7.3"
  }
 },
 "nbformat": 4,
 "nbformat_minor": 5
}
