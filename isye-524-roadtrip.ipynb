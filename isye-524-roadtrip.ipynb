{
 "cells": [
  {
   "cell_type": "markdown",
   "id": "c09a82d2",
   "metadata": {},
   "source": [
    "# mathematical model"
   ]
  },
  {
   "cell_type": "markdown",
   "id": "01da0564",
   "metadata": {},
   "source": [
    "let p be a list of national parks and our starting location\n",
    "\n",
    "let x be a vector representing if an arc is chosen\n",
    "\n",
    "let e be a vector of entrance fees for each entered park of an arc\n",
    "\n",
    "let l be a vector of est. lodging fees for each entered park of an arc\n",
    "\n",
    "let s be a vector of length of stays for each entered park of an arc\n",
    "\n",
    "let g be a vector of gas prices for each arc\n",
    "\n",
    "let D be a vector of  arc distances (miles) between each set of parks\n",
    "\n",
    "let T be a vector of arc times (s) between each set of parks\n",
    "\n",
    "let M be the maximum days allowed to travel\n",
    "\n",
    "let m be the minimum days allowed to travel\n",
    "\n",
    "let b be a vector of \"supply/demand\" at each park\n",
    "\n",
    "\\begin{align*}\n",
    "\\underset{x}{\\min} \\ & \\Sigma\\ e_{ij} x_{ij} + l_{ij} x_{ij} + g_{ij} x_{ij}, \\ \\forall\\ i \\in p,\\ \\forall\\ j \\in p  & \\\\\n",
    "\\text{s.t.} \\ & \\Sigma\\ s_{ij} x_{ij} + 86400*\\Sigma\\ T_{ij} x_{ij} \\le M,\\ \\forall\\ i \\in p,\\ \\forall\\ j \\in p &\\\\\n",
    "& \\Sigma\\ s_{ij} x_{ij} + 86400*\\Sigma\\ T_{ij} x_{ij} \\ge m,\\ \\forall\\ i \\in p,\\ \\forall\\ j \\in p &\\\\\n",
    "& \\Sigma\\ x_{kj} - \\Sigma\\ x_{ik} = b_k &\\\\\n",
    "\\end{align*}\n",
    "\n"
   ]
  },
  {
   "cell_type": "code",
   "execution_count": null,
   "id": "2c952e5f",
   "metadata": {},
   "outputs": [],
   "source": [
    "#constraints\n",
    "# travel max\n",
    "# travel min\n",
    "# park selection"
   ]
  }
 ],
 "metadata": {
  "kernelspec": {
   "display_name": "Julia 1.7.3",
   "language": "julia",
   "name": "julia-1.7"
  },
  "language_info": {
   "file_extension": ".jl",
   "mimetype": "application/julia",
   "name": "julia",
   "version": "1.7.3"
  }
 },
 "nbformat": 4,
 "nbformat_minor": 5
}
