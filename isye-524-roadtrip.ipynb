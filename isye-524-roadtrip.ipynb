{
 "cells": [
  {
   "cell_type": "markdown",
   "id": "438af3f6",
   "metadata": {},
   "source": [
    "### CS/ECE/ISyE 524 &mdash; Introduction to Optimization &mdash; Summer 2022 ###\n",
    "\n",
    "# Road Trip Optimizer #\n",
    "\n",
    "#### Alex Gilmore (asgilmore@wisc.edu), Nandan Venkatesan (nvenkatesan2@wisc.edu), and Brendan Zimmer (btzimmer@wisc.edu)\n",
    "\n",
    "### Table of Contents\n",
    "\n",
    "1. [Introduction](#1.-Introduction)\n",
    "1. [Mathematical Model](#2.-Mathematical-Model)\n",
    "1. [Solution](#3.-Solution)\n",
    "1. [Results and Discussion](#4.-Results-and-Discussion)\n",
    "1. [Optional Subsection](#4.A.-Feel-free-to-add-subsections)\n",
    "1. [Conclusion](#5.-Conclusion)"
   ]
  },
  {
   "cell_type": "markdown",
   "id": "bdacff63",
   "metadata": {},
   "source": [
    "## 1. Introduction ##"
   ]
  },
  {
   "cell_type": "markdown",
   "id": "3570a9a3",
   "metadata": {},
   "source": [
    "add from google doc"
   ]
  },
  {
   "cell_type": "markdown",
   "id": "c09a82d2",
   "metadata": {},
   "source": [
    "## 2. Mathematical Model ##"
   ]
  },
  {
   "cell_type": "markdown",
   "id": "bf276ec8",
   "metadata": {},
   "source": [
    "We are utilizing an MCNF framework to solve our primary problem. The source and sink will be identical since we are interested in only round trips and we will be implementing a minimum trip length to prevent the model from cutting the trip short to reduce cost."
   ]
  },
  {
   "cell_type": "markdown",
   "id": "01da0564",
   "metadata": {},
   "source": [
    "let p be a list of national parks and our starting location\n",
    "\n",
    "let x be a vector representing if an arc is chosen\n",
    "\n",
    "let e be a vector of entrance fees for each entered park of an arc\n",
    "\n",
    "let l be a vector of est. lodging fees for each entered park of an arc\n",
    "\n",
    "let s be a vector of length of stays for each entered park of an arc\n",
    "\n",
    "let g be a vector of gas prices for each arc\n",
    "\n",
    "let D be a vector of  arc distances (miles) between each set of parks\n",
    "\n",
    "let T be a vector of arc times (days) between each set of parks\n",
    "\n",
    "let M be the maximum days allowed to travel\n",
    "\n",
    "let m be the minimum days allowed to travel\n",
    "\n",
    "let b be a vector of \"supply/demand\" at each park\n",
    "\n",
    "let c be a vector of the total lodging and entrance fee cost of each park\n",
    "\n",
    "$c = s * (l + e)$\n",
    "\n",
    "$g_{ij} =  \\frac{parkGas_i + parkGas_j}{2} * \\frac{1}{milesPerGallon} * D_{ij}$\n",
    "\n",
    "\\begin{align*}\n",
    "\\underset{x}{\\max} \\ & - \\underset{(ij) \\in p}\\Sigma\\ c_{ij} x_{ij} - \\underset{(ij) \\in p}\\Sigma\\ g_{ij} x_{ij}  & \\\\\n",
    "\\text{s.t.} \\ & \\underset{(ij) \\in p}\\Sigma\\ s_{ij} x_{ij} + \\underset{(ij) \\in p}\\Sigma\\ T_{ij} x_{ij} \\le M &\\\\\n",
    "& - \\underset{(ij) \\in p}\\Sigma\\ s_{ij} x_{ij} - \\underset{(ij) \\in p}\\Sigma\\ T_{ij} x_{ij} \\le - m &\\\\\n",
    "& \\underset{j \\in p}\\Sigma\\ x_{kj} - \\underset{i \\in p}\\Sigma\\ x_{ik} \\le b_k,\\ \\forall\\ k \\in p &\\\\\n",
    "& - \\underset{j \\in p}\\Sigma\\ x_{kj} + \\underset{i \\in p}\\Sigma\\ x_{ik} \\le - b_k,\\ \\forall\\ k \\in p &\\\\\n",
    "\\end{align*}\n",
    "\n"
   ]
  },
  {
   "cell_type": "code",
   "execution_count": null,
   "id": "2c952e5f",
   "metadata": {},
   "outputs": [],
   "source": [
    "#constraints\n",
    "# travel max\n",
    "# travel min\n",
    "# park selection"
   ]
  },
  {
   "cell_type": "markdown",
   "id": "be412f56",
   "metadata": {},
   "source": [
    "Variables:\n",
    "\n",
    "- $x_{ij}$ = $\\left\\{ \\begin{array}{ll}\n",
    "        1 \\ \\mbox{if arc $x_{ij}$ is in road trip path} \\\\\n",
    "        0 \\ \\mbox{otherwise} & \n",
    "    \\end{array} \\right\\}$\n",
    "\n",
    "Constraints:\n",
    "1. The total time traveled must be less than the maximum travel time.\n",
    "\n",
    "\n",
    "2. The total time traveled must be more than the minimum desired travel time. This prevents the model from decreasing the trip length in an effort to reduce the trip cost. \n",
    "\n",
    "\n",
    "3. This is a flow balance constraint to direct our road trip path. Only one arc (road) may enter a node (park) and only one arc may leave. This constraint is split into two halves (the third and fourth constraint listed) to display the mathematical model in standard form.\n",
    "\n",
    "Objective Function:\n",
    "- This is minimzing the collective cost of visiting parks + the gas cost of traveling between all parks. "
   ]
  },
  {
   "cell_type": "markdown",
   "id": "39a660eb",
   "metadata": {},
   "source": [
    "## 3. Solution ##"
   ]
  },
  {
   "cell_type": "markdown",
   "id": "f5fc0144",
   "metadata": {},
   "source": [
    "## STILL CLEANING DATA FOR USE aug 8"
   ]
  },
  {
   "cell_type": "code",
   "execution_count": 20,
   "id": "3acebf9e",
   "metadata": {},
   "outputs": [],
   "source": [
    "using Clp, JuMP, NamedArrays, CSV, DataFrames"
   ]
  },
  {
   "cell_type": "code",
   "execution_count": 150,
   "id": "395e515b",
   "metadata": {},
   "outputs": [],
   "source": [
    "df = DataFrame(CSV.File(\"park_data.csv\"))\n",
    "\n",
    "push!(df, (\"UW_Madison\", \"\", 0, 0, 0, 3.5))\n",
    "\n",
    "pTemp = df[!, \"park name\"]\n",
    "p = Array{Symbol}(undef, length(pTemp))\n",
    "\n",
    "# format parks list to symbols\n",
    "for i in [1:1:length(pTemp);]\n",
    "    pTemp[i] = replace(pTemp[i], \" \" => \"_\", \"–\" => \"_\", \".\" => \"\")\n",
    "    p[i] = Symbol(pTemp[i])\n",
    "end \n",
    "\n",
    "e = NamedArray(df[!, \"entrance fee\"], (p))\n",
    "\n",
    "l = NamedArray(df[!, \"lodging\"], (p))\n",
    "\n",
    "s = NamedArray(df[!, \"est. length of stay\"], (p))\n",
    "\n",
    "parkGas = NamedArray(df[!, \"gas price\"], (p)) \n",
    "\n",
    "c = s .* (l + e)\n",
    "\n",
    ";"
   ]
  },
  {
   "cell_type": "code",
   "execution_count": 146,
   "id": "81dd9996",
   "metadata": {},
   "outputs": [],
   "source": [
    "dist = DataFrame(CSV.File(\"arc_data_dist_all.csv\"))\n",
    "\n",
    "# distO = DataFrame(CSV.File(\"origin_data_dist.csv\"))\n",
    "\n",
    "time = DataFrame(CSV.File(\"arc_data_time_all.csv\"))\n",
    "\n",
    "# timeO = DataFrame(CSV.File(\"origin_data_time.csv\"))\n",
    "\n",
    "# dist.UW_Madison = distO[!, 2]\n",
    "# time.UW_Madison = timeO[!, 2]\n",
    "\n",
    "time\n",
    ";"
   ]
  },
  {
   "cell_type": "code",
   "execution_count": 169,
   "id": "01763f6e",
   "metadata": {},
   "outputs": [],
   "source": [
    "D = Float64.(NamedArray(Matrix(dist[:,2:50]), (p, p), (\"entering\", \"leaving\")))\n",
    "T = NamedArray(Matrix(time[:,2:50]), (p, p), (\"entering\", \"leaving\"))\n",
    ";"
   ]
  },
  {
   "cell_type": "code",
   "execution_count": 170,
   "id": "247464b5",
   "metadata": {},
   "outputs": [],
   "source": [
    "T = T ./ 86400 # convert time from seconds to days\n",
    ";"
   ]
  },
  {
   "cell_type": "code",
   "execution_count": 174,
   "id": "f506b579",
   "metadata": {},
   "outputs": [
    {
     "name": "stdout",
     "output_type": "stream",
     "text": [
      "acadia to yosemite distance: 3100.0\n",
      "acadia to yosemite estimated gas cost: 795.15\n",
      "acadia to yosemite time in days: 1.9795138888888888\n"
     ]
    }
   ],
   "source": [
    "# calculate the gas cost matrix\n",
    "\n",
    "milesPerGallon = 20.0\n",
    "\n",
    "g = copy(D)\n",
    "\n",
    "for i in p\n",
    "    for j in p\n",
    "        g[i, j] = (parkGas[i] + parkGas[j]) / (2milesPerGallon) * g[i, j]\n",
    "    end\n",
    "end\n",
    "\n",
    "println(\"acadia to yosemite distance: \", D[:Acadia, :Yosemite])\n",
    "println(\"acadia to yosemite estimated gas cost: \", g[:Acadia, :Yosemite])\n",
    "println(\"acadia to yosemite time in days: \", T[:Acadia, :Yosemite])"
   ]
  },
  {
   "cell_type": "code",
   "execution_count": 176,
   "id": "7885fccc",
   "metadata": {},
   "outputs": [],
   "source": [
    "# set travel length boundaries\n",
    "\n",
    "maxTravel = 14\n",
    "minTravel = 7\n",
    ";"
   ]
  },
  {
   "cell_type": "markdown",
   "id": "6e238efb",
   "metadata": {},
   "source": [
    "## need to fix supply / demand / source/ sink"
   ]
  },
  {
   "cell_type": "code",
   "execution_count": 178,
   "id": "c8ed9aa3",
   "metadata": {},
   "outputs": [],
   "source": [
    "# supply / demand\n",
    "\n",
    "b = zeros(length(p), 1)\n",
    ";"
   ]
  },
  {
   "cell_type": "code",
   "execution_count": null,
   "id": "0cf50e19",
   "metadata": {},
   "outputs": [],
   "source": []
  }
 ],
 "metadata": {
  "kernelspec": {
   "display_name": "Julia 1.7.3",
   "language": "julia",
   "name": "julia-1.7"
  },
  "language_info": {
   "file_extension": ".jl",
   "mimetype": "application/julia",
   "name": "julia",
   "version": "1.7.3"
  }
 },
 "nbformat": 4,
 "nbformat_minor": 5
}
